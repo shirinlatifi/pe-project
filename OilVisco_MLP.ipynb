{
  "nbformat": 4,
  "nbformat_minor": 0,
  "metadata": {
    "colab": {
      "provenance": [],
      "authorship_tag": "ABX9TyMF3zaQ/OJU7kJuwOE6epRQ",
      "include_colab_link": true
    },
    "kernelspec": {
      "name": "python3",
      "display_name": "Python 3"
    },
    "language_info": {
      "name": "python"
    }
  },
  "cells": [
    {
      "cell_type": "markdown",
      "metadata": {
        "id": "view-in-github",
        "colab_type": "text"
      },
      "source": [
        "<a href=\"https://colab.research.google.com/github/shirinlatifi/pe-project/blob/master/OilVisco_MLP.ipynb\" target=\"_parent\"><img src=\"https://colab.research.google.com/assets/colab-badge.svg\" alt=\"Open In Colab\"/></a>"
      ]
    },
    {
      "cell_type": "code",
      "execution_count": 1,
      "metadata": {
        "id": "NJv3wHp0e-lG"
      },
      "outputs": [],
      "source": [
        "import numpy as np\n",
        "import pandas as pd\n",
        "import tensorflow as tf\n",
        "from sklearn.model_selection import train_test_split\n",
        "from sklearn.preprocessing import StandardScaler"
      ]
    },
    {
      "cell_type": "code",
      "source": [
        "#load dataset\n",
        "# X: Input features\n",
        "# y: Target values\n",
        "\n",
        "df = pd.read_excel('oil visco.xlsx')"
      ],
      "metadata": {
        "id": "vctg5EpPKIIX"
      },
      "execution_count": 15,
      "outputs": []
    },
    {
      "cell_type": "code",
      "source": [
        "df"
      ],
      "metadata": {
        "id": "2KpzY1JSKlVt"
      },
      "execution_count": null,
      "outputs": []
    },
    {
      "cell_type": "code",
      "source": [
        "df['P'] = df['P'].fillna(df['P'].mean())"
      ],
      "metadata": {
        "id": "r8eyDA6GNBqE"
      },
      "execution_count": 17,
      "outputs": []
    },
    {
      "cell_type": "code",
      "source": [
        "df['T'] = df['T'].fillna(df['T'].mean())"
      ],
      "metadata": {
        "id": "UhS4DW49NF-I"
      },
      "execution_count": 18,
      "outputs": []
    },
    {
      "cell_type": "code",
      "source": [
        "df.dropna(inplace=True)"
      ],
      "metadata": {
        "id": "lFWax348NNae"
      },
      "execution_count": 19,
      "outputs": []
    },
    {
      "cell_type": "code",
      "source": [
        "df.info()"
      ],
      "metadata": {
        "colab": {
          "base_uri": "https://localhost:8080/"
        },
        "id": "JV5nIF-lNNOe",
        "outputId": "0c6023be-403d-4b5f-e9cd-3ca95cd0bdc8"
      },
      "execution_count": 20,
      "outputs": [
        {
          "output_type": "stream",
          "name": "stdout",
          "text": [
            "<class 'pandas.core.frame.DataFrame'>\n",
            "RangeIndex: 495 entries, 0 to 494\n",
            "Data columns (total 3 columns):\n",
            " #   Column  Non-Null Count  Dtype  \n",
            "---  ------  --------------  -----  \n",
            " 0   T       495 non-null    float64\n",
            " 1   P       495 non-null    float64\n",
            " 2   Visco   495 non-null    float64\n",
            "dtypes: float64(3)\n",
            "memory usage: 11.7 KB\n"
          ]
        }
      ]
    },
    {
      "cell_type": "code",
      "source": [
        "df.corr()['Visco']"
      ],
      "metadata": {
        "colab": {
          "base_uri": "https://localhost:8080/"
        },
        "id": "x1M62DmhNNL1",
        "outputId": "0ba35e32-26c1-4baf-8e7f-41ce9567e9a2"
      },
      "execution_count": 22,
      "outputs": [
        {
          "output_type": "execute_result",
          "data": {
            "text/plain": [
              "T       -0.091610\n",
              "P       -0.005034\n",
              "Visco    1.000000\n",
              "Name: Visco, dtype: float64"
            ]
          },
          "metadata": {},
          "execution_count": 22
        }
      ]
    },
    {
      "cell_type": "code",
      "source": [
        "import seaborn as sns\n",
        "sns.scatterplot(data=df, x='P', y='Visco', alpha=0.3)"
      ],
      "metadata": {
        "id": "i0vzRViqNcVh"
      },
      "execution_count": null,
      "outputs": []
    },
    {
      "cell_type": "code",
      "source": [
        "sns.scatterplot(data=df, x='T', y='Visco', alpha=0.3)"
      ],
      "metadata": {
        "id": "1SqhfI5rNb_9"
      },
      "execution_count": null,
      "outputs": []
    },
    {
      "cell_type": "code",
      "source": [
        "# Split the dataset into training and testing sets\n",
        "X_train, X_test, y_train, y_test = train_test_split(df.drop('Visco', axis=1), df['Visco'], test_size=0.2, random_state=42)"
      ],
      "metadata": {
        "id": "otKHOAdvKKAE"
      },
      "execution_count": 26,
      "outputs": []
    },
    {
      "cell_type": "code",
      "source": [
        "# Standardize the input features\n",
        "scaler = StandardScaler()\n",
        "X_train_scaled = scaler.fit_transform(X_train)\n",
        "X_test_scaled = scaler.transform(X_test)\n",
        "y_train_scaled = scaler.fit_transform(np.array(y_train).reshape(-1,1))\n",
        "y_test_scaled = scaler.transform(np.array(y_test).reshape(-1,1))"
      ],
      "metadata": {
        "id": "imiNR8ApKS8l"
      },
      "execution_count": 27,
      "outputs": []
    },
    {
      "cell_type": "code",
      "source": [
        "X_train_scaled.max() , X_train_scaled.min()"
      ],
      "metadata": {
        "colab": {
          "base_uri": "https://localhost:8080/"
        },
        "id": "Hvm-yW_dMmHG",
        "outputId": "618eec06-c10a-43b5-df12-4cb6426b25c6"
      },
      "execution_count": 29,
      "outputs": [
        {
          "output_type": "execute_result",
          "data": {
            "text/plain": [
              "(3.2104874606392633, -2.123976119618019)"
            ]
          },
          "metadata": {},
          "execution_count": 29
        }
      ]
    },
    {
      "cell_type": "code",
      "source": [
        "X_test_scaled.max() , X_test_scaled.min()"
      ],
      "metadata": {
        "colab": {
          "base_uri": "https://localhost:8080/"
        },
        "id": "lLzvxDz-N915",
        "outputId": "506cefc0-7de5-4b60-a222-b715713044e8"
      },
      "execution_count": 30,
      "outputs": [
        {
          "output_type": "execute_result",
          "data": {
            "text/plain": [
              "(3.2104874606392633, -2.123976119618019)"
            ]
          },
          "metadata": {},
          "execution_count": 30
        }
      ]
    },
    {
      "cell_type": "code",
      "source": [
        "y_train_scaled.max() , y_train_scaled.min()"
      ],
      "metadata": {
        "colab": {
          "base_uri": "https://localhost:8080/"
        },
        "id": "AWVTD_3JN9qy",
        "outputId": "70e17a48-ce72-4461-b5d3-e6d0c50b92ce"
      },
      "execution_count": 32,
      "outputs": [
        {
          "output_type": "execute_result",
          "data": {
            "text/plain": [
              "(19.53622221625667, -0.1070889528136466)"
            ]
          },
          "metadata": {},
          "execution_count": 32
        }
      ]
    },
    {
      "cell_type": "code",
      "source": [
        "X_train_scaled"
      ],
      "metadata": {
        "id": "Lwj28GIeO0N5"
      },
      "execution_count": null,
      "outputs": []
    },
    {
      "cell_type": "code",
      "source": [
        "X_train_scaled.shape"
      ],
      "metadata": {
        "colab": {
          "base_uri": "https://localhost:8080/"
        },
        "id": "wxeNqiGwOuvH",
        "outputId": "2f7038e8-d855-413d-a15a-1e0cc78320e9"
      },
      "execution_count": 34,
      "outputs": [
        {
          "output_type": "execute_result",
          "data": {
            "text/plain": [
              "(396, 2)"
            ]
          },
          "metadata": {},
          "execution_count": 34
        }
      ]
    },
    {
      "cell_type": "code",
      "source": [
        "X_train_scaled.shape[0] , X_train_scaled.shape[1]"
      ],
      "metadata": {
        "colab": {
          "base_uri": "https://localhost:8080/"
        },
        "id": "MygsBA23Mi4v",
        "outputId": "8ee6a52d-ef3b-4000-f80f-950c832436b4"
      },
      "execution_count": 56,
      "outputs": [
        {
          "output_type": "execute_result",
          "data": {
            "text/plain": [
              "(396, 2)"
            ]
          },
          "metadata": {},
          "execution_count": 56
        }
      ]
    },
    {
      "cell_type": "code",
      "source": [
        "# Build the MLP model\n",
        "model = tf.keras.Sequential([\n",
        "    tf.keras.layers.Dense(128, activation='relu', input_dim=X_train_scaled.shape[1]),\n",
        "    tf.keras.layers.Dense(64, activation='relu'),\n",
        "    tf.keras.layers.Dense(1)  # Single output neuron for regression\n",
        "])"
      ],
      "metadata": {
        "id": "KLrYp6sRKS4L"
      },
      "execution_count": 41,
      "outputs": []
    },
    {
      "cell_type": "code",
      "source": [
        "# Compile the model\n",
        "model.compile(optimizer='adam', loss='mean_squared_error')"
      ],
      "metadata": {
        "id": "N3r7juu8KSmF"
      },
      "execution_count": 43,
      "outputs": []
    },
    {
      "cell_type": "code",
      "source": [
        "# Train the model\n",
        "model.fit(X_train_scaled, y_train, epochs=300, batch_size=32, validation_split=0.2)"
      ],
      "metadata": {
        "colab": {
          "base_uri": "https://localhost:8080/"
        },
        "id": "8VIkJugXKSjQ",
        "outputId": "67d38829-5429-4e43-f62a-62586f6d2a98"
      },
      "execution_count": 45,
      "outputs": [
        {
          "output_type": "stream",
          "name": "stdout",
          "text": [
            "Epoch 1/300\n",
            "10/10 [==============================] - 0s 10ms/step - loss: 2.4324 - val_loss: 18530.4277\n",
            "Epoch 2/300\n",
            "10/10 [==============================] - 0s 7ms/step - loss: 2.3972 - val_loss: 18524.8438\n",
            "Epoch 3/300\n",
            "10/10 [==============================] - 0s 7ms/step - loss: 2.4318 - val_loss: 18522.4844\n",
            "Epoch 4/300\n",
            "10/10 [==============================] - 0s 10ms/step - loss: 2.4172 - val_loss: 18519.7070\n",
            "Epoch 5/300\n",
            "10/10 [==============================] - 0s 6ms/step - loss: 2.4134 - val_loss: 18522.4844\n",
            "Epoch 6/300\n",
            "10/10 [==============================] - 0s 7ms/step - loss: 2.4009 - val_loss: 18529.3125\n",
            "Epoch 7/300\n",
            "10/10 [==============================] - 0s 11ms/step - loss: 2.4138 - val_loss: 18524.5391\n",
            "Epoch 8/300\n",
            "10/10 [==============================] - 0s 8ms/step - loss: 2.4327 - val_loss: 18515.3809\n",
            "Epoch 9/300\n",
            "10/10 [==============================] - 0s 9ms/step - loss: 2.4039 - val_loss: 18524.8340\n",
            "Epoch 10/300\n",
            "10/10 [==============================] - 0s 15ms/step - loss: 2.4164 - val_loss: 18532.4902\n",
            "Epoch 11/300\n",
            "10/10 [==============================] - 0s 16ms/step - loss: 2.4140 - val_loss: 18520.4453\n",
            "Epoch 12/300\n",
            "10/10 [==============================] - 0s 16ms/step - loss: 2.4195 - val_loss: 18523.6230\n",
            "Epoch 13/300\n",
            "10/10 [==============================] - 0s 4ms/step - loss: 2.4221 - val_loss: 18518.4336\n",
            "Epoch 14/300\n",
            "10/10 [==============================] - 0s 6ms/step - loss: 2.3893 - val_loss: 18525.1211\n",
            "Epoch 15/300\n",
            "10/10 [==============================] - 0s 4ms/step - loss: 2.3890 - val_loss: 18525.3281\n",
            "Epoch 16/300\n",
            "10/10 [==============================] - 0s 7ms/step - loss: 2.4034 - val_loss: 18520.6816\n",
            "Epoch 17/300\n",
            "10/10 [==============================] - 0s 4ms/step - loss: 2.3776 - val_loss: 18518.7734\n",
            "Epoch 18/300\n",
            "10/10 [==============================] - 0s 6ms/step - loss: 2.3902 - val_loss: 18520.9805\n",
            "Epoch 19/300\n",
            "10/10 [==============================] - 0s 4ms/step - loss: 2.4022 - val_loss: 18521.4277\n",
            "Epoch 20/300\n",
            "10/10 [==============================] - 0s 4ms/step - loss: 2.3802 - val_loss: 18523.8555\n",
            "Epoch 21/300\n",
            "10/10 [==============================] - 0s 4ms/step - loss: 2.3740 - val_loss: 18519.4258\n",
            "Epoch 22/300\n",
            "10/10 [==============================] - 0s 4ms/step - loss: 2.4199 - val_loss: 18517.7305\n",
            "Epoch 23/300\n",
            "10/10 [==============================] - 0s 5ms/step - loss: 2.4526 - val_loss: 18518.4727\n",
            "Epoch 24/300\n",
            "10/10 [==============================] - 0s 4ms/step - loss: 2.3798 - val_loss: 18526.3809\n",
            "Epoch 25/300\n",
            "10/10 [==============================] - 0s 6ms/step - loss: 2.4103 - val_loss: 18515.0938\n",
            "Epoch 26/300\n",
            "10/10 [==============================] - 0s 4ms/step - loss: 2.3855 - val_loss: 18516.7539\n",
            "Epoch 27/300\n",
            "10/10 [==============================] - 0s 4ms/step - loss: 2.3763 - val_loss: 18522.9434\n",
            "Epoch 28/300\n",
            "10/10 [==============================] - 0s 4ms/step - loss: 2.4016 - val_loss: 18524.5215\n",
            "Epoch 29/300\n",
            "10/10 [==============================] - 0s 5ms/step - loss: 2.4083 - val_loss: 18511.0117\n",
            "Epoch 30/300\n",
            "10/10 [==============================] - 0s 6ms/step - loss: 2.3880 - val_loss: 18517.8789\n",
            "Epoch 31/300\n",
            "10/10 [==============================] - 0s 6ms/step - loss: 2.3634 - val_loss: 18518.4395\n",
            "Epoch 32/300\n",
            "10/10 [==============================] - 0s 4ms/step - loss: 2.3668 - val_loss: 18520.3223\n",
            "Epoch 33/300\n",
            "10/10 [==============================] - 0s 4ms/step - loss: 2.3577 - val_loss: 18516.3945\n",
            "Epoch 34/300\n",
            "10/10 [==============================] - 0s 4ms/step - loss: 2.3793 - val_loss: 18515.0449\n",
            "Epoch 35/300\n",
            "10/10 [==============================] - 0s 6ms/step - loss: 2.3550 - val_loss: 18523.5840\n",
            "Epoch 36/300\n",
            "10/10 [==============================] - 0s 4ms/step - loss: 2.3685 - val_loss: 18516.9805\n",
            "Epoch 37/300\n",
            "10/10 [==============================] - 0s 6ms/step - loss: 2.3572 - val_loss: 18517.4414\n",
            "Epoch 38/300\n",
            "10/10 [==============================] - 0s 5ms/step - loss: 2.3715 - val_loss: 18515.7695\n",
            "Epoch 39/300\n",
            "10/10 [==============================] - 0s 4ms/step - loss: 2.3497 - val_loss: 18514.9805\n",
            "Epoch 40/300\n",
            "10/10 [==============================] - 0s 6ms/step - loss: 2.3519 - val_loss: 18521.6719\n",
            "Epoch 41/300\n",
            "10/10 [==============================] - 0s 6ms/step - loss: 2.3626 - val_loss: 18512.7734\n",
            "Epoch 42/300\n",
            "10/10 [==============================] - 0s 6ms/step - loss: 2.3907 - val_loss: 18514.2461\n",
            "Epoch 43/300\n",
            "10/10 [==============================] - 0s 4ms/step - loss: 2.3656 - val_loss: 18522.1523\n",
            "Epoch 44/300\n",
            "10/10 [==============================] - 0s 4ms/step - loss: 2.3490 - val_loss: 18512.3730\n",
            "Epoch 45/300\n",
            "10/10 [==============================] - 0s 4ms/step - loss: 2.3458 - val_loss: 18517.5508\n",
            "Epoch 46/300\n",
            "10/10 [==============================] - 0s 4ms/step - loss: 2.3425 - val_loss: 18517.5430\n",
            "Epoch 47/300\n",
            "10/10 [==============================] - 0s 5ms/step - loss: 2.3438 - val_loss: 18511.8926\n",
            "Epoch 48/300\n",
            "10/10 [==============================] - 0s 4ms/step - loss: 2.3385 - val_loss: 18516.8340\n",
            "Epoch 49/300\n",
            "10/10 [==============================] - 0s 4ms/step - loss: 2.3445 - val_loss: 18510.7305\n",
            "Epoch 50/300\n",
            "10/10 [==============================] - 0s 4ms/step - loss: 2.3358 - val_loss: 18515.5879\n",
            "Epoch 51/300\n",
            "10/10 [==============================] - 0s 5ms/step - loss: 2.3555 - val_loss: 18520.3398\n",
            "Epoch 52/300\n",
            "10/10 [==============================] - 0s 4ms/step - loss: 2.3608 - val_loss: 18513.0195\n",
            "Epoch 53/300\n",
            "10/10 [==============================] - 0s 4ms/step - loss: 2.3515 - val_loss: 18507.6289\n",
            "Epoch 54/300\n",
            "10/10 [==============================] - 0s 4ms/step - loss: 2.3450 - val_loss: 18517.9004\n",
            "Epoch 55/300\n",
            "10/10 [==============================] - 0s 6ms/step - loss: 2.3344 - val_loss: 18509.0449\n",
            "Epoch 56/300\n",
            "10/10 [==============================] - 0s 3ms/step - loss: 2.3281 - val_loss: 18513.2246\n",
            "Epoch 57/300\n",
            "10/10 [==============================] - 0s 3ms/step - loss: 2.3237 - val_loss: 18517.5449\n",
            "Epoch 58/300\n",
            "10/10 [==============================] - 0s 4ms/step - loss: 2.3387 - val_loss: 18513.8242\n",
            "Epoch 59/300\n",
            "10/10 [==============================] - 0s 4ms/step - loss: 2.3129 - val_loss: 18510.3418\n",
            "Epoch 60/300\n",
            "10/10 [==============================] - 0s 4ms/step - loss: 2.3279 - val_loss: 18513.0410\n",
            "Epoch 61/300\n",
            "10/10 [==============================] - 0s 4ms/step - loss: 2.3373 - val_loss: 18513.9258\n",
            "Epoch 62/300\n",
            "10/10 [==============================] - 0s 4ms/step - loss: 2.3586 - val_loss: 18506.5312\n",
            "Epoch 63/300\n",
            "10/10 [==============================] - 0s 4ms/step - loss: 2.3618 - val_loss: 18516.6562\n",
            "Epoch 64/300\n",
            "10/10 [==============================] - 0s 6ms/step - loss: 2.3174 - val_loss: 18509.0938\n",
            "Epoch 65/300\n",
            "10/10 [==============================] - 0s 4ms/step - loss: 2.3432 - val_loss: 18508.8477\n",
            "Epoch 66/300\n",
            "10/10 [==============================] - 0s 6ms/step - loss: 2.3654 - val_loss: 18514.7539\n",
            "Epoch 67/300\n",
            "10/10 [==============================] - 0s 3ms/step - loss: 2.3095 - val_loss: 18508.2852\n",
            "Epoch 68/300\n",
            "10/10 [==============================] - 0s 3ms/step - loss: 2.3390 - val_loss: 18508.7852\n",
            "Epoch 69/300\n",
            "10/10 [==============================] - 0s 3ms/step - loss: 2.3255 - val_loss: 18506.2520\n",
            "Epoch 70/300\n",
            "10/10 [==============================] - 0s 3ms/step - loss: 2.3320 - val_loss: 18511.7695\n",
            "Epoch 71/300\n",
            "10/10 [==============================] - 0s 4ms/step - loss: 2.3084 - val_loss: 18506.9980\n",
            "Epoch 72/300\n",
            "10/10 [==============================] - 0s 6ms/step - loss: 2.3170 - val_loss: 18509.1289\n",
            "Epoch 73/300\n",
            "10/10 [==============================] - 0s 3ms/step - loss: 2.2916 - val_loss: 18508.9512\n",
            "Epoch 74/300\n",
            "10/10 [==============================] - 0s 5ms/step - loss: 2.3401 - val_loss: 18507.3184\n",
            "Epoch 75/300\n",
            "10/10 [==============================] - 0s 7ms/step - loss: 2.2856 - val_loss: 18513.5820\n",
            "Epoch 76/300\n",
            "10/10 [==============================] - 0s 7ms/step - loss: 2.2989 - val_loss: 18507.8398\n",
            "Epoch 77/300\n",
            "10/10 [==============================] - 0s 6ms/step - loss: 2.3197 - val_loss: 18509.8242\n",
            "Epoch 78/300\n",
            "10/10 [==============================] - 0s 7ms/step - loss: 2.3072 - val_loss: 18514.0039\n",
            "Epoch 79/300\n",
            "10/10 [==============================] - 0s 6ms/step - loss: 2.3098 - val_loss: 18508.2910\n",
            "Epoch 80/300\n",
            "10/10 [==============================] - 0s 4ms/step - loss: 2.3070 - val_loss: 18510.6836\n",
            "Epoch 81/300\n",
            "10/10 [==============================] - 0s 4ms/step - loss: 2.2922 - val_loss: 18505.6992\n",
            "Epoch 82/300\n",
            "10/10 [==============================] - 0s 5ms/step - loss: 2.3126 - val_loss: 18505.8555\n",
            "Epoch 83/300\n",
            "10/10 [==============================] - 0s 6ms/step - loss: 2.2746 - val_loss: 18508.6660\n",
            "Epoch 84/300\n",
            "10/10 [==============================] - 0s 5ms/step - loss: 2.2989 - val_loss: 18505.2305\n",
            "Epoch 85/300\n",
            "10/10 [==============================] - 0s 5ms/step - loss: 2.2853 - val_loss: 18505.8477\n",
            "Epoch 86/300\n",
            "10/10 [==============================] - 0s 5ms/step - loss: 2.2695 - val_loss: 18508.2773\n",
            "Epoch 87/300\n",
            "10/10 [==============================] - 0s 4ms/step - loss: 2.3342 - val_loss: 18507.2988\n",
            "Epoch 88/300\n",
            "10/10 [==============================] - 0s 4ms/step - loss: 2.2993 - val_loss: 18507.8086\n",
            "Epoch 89/300\n",
            "10/10 [==============================] - 0s 4ms/step - loss: 2.2851 - val_loss: 18505.8594\n",
            "Epoch 90/300\n",
            "10/10 [==============================] - 0s 7ms/step - loss: 2.2890 - val_loss: 18504.4277\n",
            "Epoch 91/300\n",
            "10/10 [==============================] - 0s 4ms/step - loss: 2.2954 - val_loss: 18506.6328\n",
            "Epoch 92/300\n",
            "10/10 [==============================] - 0s 4ms/step - loss: 2.2946 - val_loss: 18509.9961\n",
            "Epoch 93/300\n",
            "10/10 [==============================] - 0s 6ms/step - loss: 2.2740 - val_loss: 18504.0117\n",
            "Epoch 94/300\n",
            "10/10 [==============================] - 0s 7ms/step - loss: 2.3014 - val_loss: 18500.5957\n",
            "Epoch 95/300\n",
            "10/10 [==============================] - 0s 5ms/step - loss: 2.2862 - val_loss: 18506.6855\n",
            "Epoch 96/300\n",
            "10/10 [==============================] - 0s 5ms/step - loss: 2.3069 - val_loss: 18504.4062\n",
            "Epoch 97/300\n",
            "10/10 [==============================] - 0s 7ms/step - loss: 2.2865 - val_loss: 18496.3379\n",
            "Epoch 98/300\n",
            "10/10 [==============================] - 0s 5ms/step - loss: 2.2953 - val_loss: 18516.0137\n",
            "Epoch 99/300\n",
            "10/10 [==============================] - 0s 5ms/step - loss: 2.2797 - val_loss: 18498.2031\n",
            "Epoch 100/300\n",
            "10/10 [==============================] - 0s 7ms/step - loss: 2.2629 - val_loss: 18503.0586\n",
            "Epoch 101/300\n",
            "10/10 [==============================] - 0s 5ms/step - loss: 2.2614 - val_loss: 18512.7324\n",
            "Epoch 102/300\n",
            "10/10 [==============================] - 0s 7ms/step - loss: 2.2723 - val_loss: 18505.8438\n",
            "Epoch 103/300\n",
            "10/10 [==============================] - 0s 8ms/step - loss: 2.3001 - val_loss: 18502.6543\n",
            "Epoch 104/300\n",
            "10/10 [==============================] - 0s 7ms/step - loss: 2.2916 - val_loss: 18508.0879\n",
            "Epoch 105/300\n",
            "10/10 [==============================] - 0s 7ms/step - loss: 2.2679 - val_loss: 18510.7637\n",
            "Epoch 106/300\n",
            "10/10 [==============================] - 0s 4ms/step - loss: 2.2751 - val_loss: 18498.6758\n",
            "Epoch 107/300\n",
            "10/10 [==============================] - 0s 6ms/step - loss: 2.2704 - val_loss: 18500.6602\n",
            "Epoch 108/300\n",
            "10/10 [==============================] - 0s 5ms/step - loss: 2.2579 - val_loss: 18510.9453\n",
            "Epoch 109/300\n",
            "10/10 [==============================] - 0s 6ms/step - loss: 2.2707 - val_loss: 18502.2949\n",
            "Epoch 110/300\n",
            "10/10 [==============================] - 0s 4ms/step - loss: 2.2433 - val_loss: 18505.3359\n",
            "Epoch 111/300\n",
            "10/10 [==============================] - 0s 5ms/step - loss: 2.2580 - val_loss: 18504.0566\n",
            "Epoch 112/300\n",
            "10/10 [==============================] - 0s 6ms/step - loss: 2.2505 - val_loss: 18506.1719\n",
            "Epoch 113/300\n",
            "10/10 [==============================] - 0s 4ms/step - loss: 2.2658 - val_loss: 18498.1406\n",
            "Epoch 114/300\n",
            "10/10 [==============================] - 0s 6ms/step - loss: 2.2623 - val_loss: 18507.6328\n",
            "Epoch 115/300\n",
            "10/10 [==============================] - 0s 6ms/step - loss: 2.2587 - val_loss: 18503.6445\n",
            "Epoch 116/300\n",
            "10/10 [==============================] - 0s 6ms/step - loss: 2.2465 - val_loss: 18502.4277\n",
            "Epoch 117/300\n",
            "10/10 [==============================] - 0s 6ms/step - loss: 2.2617 - val_loss: 18497.1680\n",
            "Epoch 118/300\n",
            "10/10 [==============================] - 0s 6ms/step - loss: 2.2726 - val_loss: 18510.3594\n",
            "Epoch 119/300\n",
            "10/10 [==============================] - 0s 4ms/step - loss: 2.2418 - val_loss: 18500.2734\n",
            "Epoch 120/300\n",
            "10/10 [==============================] - 0s 6ms/step - loss: 2.2565 - val_loss: 18501.2305\n",
            "Epoch 121/300\n",
            "10/10 [==============================] - 0s 4ms/step - loss: 2.2774 - val_loss: 18504.2656\n",
            "Epoch 122/300\n",
            "10/10 [==============================] - 0s 6ms/step - loss: 2.2897 - val_loss: 18502.4805\n",
            "Epoch 123/300\n",
            "10/10 [==============================] - 0s 5ms/step - loss: 2.2706 - val_loss: 18496.2070\n",
            "Epoch 124/300\n",
            "10/10 [==============================] - 0s 5ms/step - loss: 2.2702 - val_loss: 18501.8789\n",
            "Epoch 125/300\n",
            "10/10 [==============================] - 0s 4ms/step - loss: 2.2962 - val_loss: 18506.6406\n",
            "Epoch 126/300\n",
            "10/10 [==============================] - 0s 5ms/step - loss: 2.2764 - val_loss: 18492.8828\n",
            "Epoch 127/300\n",
            "10/10 [==============================] - 0s 3ms/step - loss: 2.2310 - val_loss: 18504.5195\n",
            "Epoch 128/300\n",
            "10/10 [==============================] - 0s 4ms/step - loss: 2.2469 - val_loss: 18508.6699\n",
            "Epoch 129/300\n",
            "10/10 [==============================] - 0s 4ms/step - loss: 2.2362 - val_loss: 18492.4434\n",
            "Epoch 130/300\n",
            "10/10 [==============================] - 0s 4ms/step - loss: 2.2572 - val_loss: 18498.8047\n",
            "Epoch 131/300\n",
            "10/10 [==============================] - 0s 4ms/step - loss: 2.2392 - val_loss: 18509.7578\n",
            "Epoch 132/300\n",
            "10/10 [==============================] - 0s 3ms/step - loss: 2.2661 - val_loss: 18497.8750\n",
            "Epoch 133/300\n",
            "10/10 [==============================] - 0s 5ms/step - loss: 2.2395 - val_loss: 18504.7461\n",
            "Epoch 134/300\n",
            "10/10 [==============================] - 0s 4ms/step - loss: 2.2755 - val_loss: 18492.1367\n",
            "Epoch 135/300\n",
            "10/10 [==============================] - 0s 5ms/step - loss: 2.2618 - val_loss: 18503.1191\n",
            "Epoch 136/300\n",
            "10/10 [==============================] - 0s 5ms/step - loss: 2.2172 - val_loss: 18504.6992\n",
            "Epoch 137/300\n",
            "10/10 [==============================] - 0s 5ms/step - loss: 2.2595 - val_loss: 18499.7480\n",
            "Epoch 138/300\n",
            "10/10 [==============================] - 0s 6ms/step - loss: 2.2619 - val_loss: 18501.3672\n",
            "Epoch 139/300\n",
            "10/10 [==============================] - 0s 4ms/step - loss: 2.2539 - val_loss: 18494.8320\n",
            "Epoch 140/300\n",
            "10/10 [==============================] - 0s 3ms/step - loss: 2.2332 - val_loss: 18500.2188\n",
            "Epoch 141/300\n",
            "10/10 [==============================] - 0s 4ms/step - loss: 2.2258 - val_loss: 18498.0742\n",
            "Epoch 142/300\n",
            "10/10 [==============================] - 0s 4ms/step - loss: 2.2267 - val_loss: 18496.9473\n",
            "Epoch 143/300\n",
            "10/10 [==============================] - 0s 3ms/step - loss: 2.3392 - val_loss: 18496.9141\n",
            "Epoch 144/300\n",
            "10/10 [==============================] - 0s 3ms/step - loss: 2.2401 - val_loss: 18494.7539\n",
            "Epoch 145/300\n",
            "10/10 [==============================] - 0s 3ms/step - loss: 2.2571 - val_loss: 18502.0508\n",
            "Epoch 146/300\n",
            "10/10 [==============================] - 0s 3ms/step - loss: 2.2316 - val_loss: 18489.6504\n",
            "Epoch 147/300\n",
            "10/10 [==============================] - 0s 3ms/step - loss: 2.2674 - val_loss: 18501.3672\n",
            "Epoch 148/300\n",
            "10/10 [==============================] - 0s 5ms/step - loss: 2.2430 - val_loss: 18491.9648\n",
            "Epoch 149/300\n",
            "10/10 [==============================] - 0s 4ms/step - loss: 2.2416 - val_loss: 18496.7500\n",
            "Epoch 150/300\n",
            "10/10 [==============================] - 0s 4ms/step - loss: 2.2128 - val_loss: 18491.9727\n",
            "Epoch 151/300\n",
            "10/10 [==============================] - 0s 3ms/step - loss: 2.2150 - val_loss: 18494.9961\n",
            "Epoch 152/300\n",
            "10/10 [==============================] - 0s 6ms/step - loss: 2.2194 - val_loss: 18500.3945\n",
            "Epoch 153/300\n",
            "10/10 [==============================] - 0s 6ms/step - loss: 2.2432 - val_loss: 18491.0938\n",
            "Epoch 154/300\n",
            "10/10 [==============================] - 0s 4ms/step - loss: 2.2377 - val_loss: 18497.3848\n",
            "Epoch 155/300\n",
            "10/10 [==============================] - 0s 6ms/step - loss: 2.2245 - val_loss: 18496.9023\n",
            "Epoch 156/300\n",
            "10/10 [==============================] - 0s 6ms/step - loss: 2.2308 - val_loss: 18494.9062\n",
            "Epoch 157/300\n",
            "10/10 [==============================] - 0s 4ms/step - loss: 2.2409 - val_loss: 18489.6621\n",
            "Epoch 158/300\n",
            "10/10 [==============================] - 0s 6ms/step - loss: 2.2424 - val_loss: 18498.4238\n",
            "Epoch 159/300\n",
            "10/10 [==============================] - 0s 6ms/step - loss: 2.2487 - val_loss: 18488.7598\n",
            "Epoch 160/300\n",
            "10/10 [==============================] - 0s 4ms/step - loss: 2.2020 - val_loss: 18494.8008\n",
            "Epoch 161/300\n",
            "10/10 [==============================] - 0s 4ms/step - loss: 2.2327 - val_loss: 18495.6367\n",
            "Epoch 162/300\n",
            "10/10 [==============================] - 0s 4ms/step - loss: 2.2291 - val_loss: 18500.0703\n",
            "Epoch 163/300\n",
            "10/10 [==============================] - 0s 4ms/step - loss: 2.1926 - val_loss: 18488.5195\n",
            "Epoch 164/300\n",
            "10/10 [==============================] - 0s 4ms/step - loss: 2.2343 - val_loss: 18487.3867\n",
            "Epoch 165/300\n",
            "10/10 [==============================] - 0s 4ms/step - loss: 2.2409 - val_loss: 18501.9395\n",
            "Epoch 166/300\n",
            "10/10 [==============================] - 0s 4ms/step - loss: 2.1936 - val_loss: 18489.0645\n",
            "Epoch 167/300\n",
            "10/10 [==============================] - 0s 6ms/step - loss: 2.2000 - val_loss: 18490.2090\n",
            "Epoch 168/300\n",
            "10/10 [==============================] - 0s 4ms/step - loss: 2.2215 - val_loss: 18494.3027\n",
            "Epoch 169/300\n",
            "10/10 [==============================] - 0s 6ms/step - loss: 2.2324 - val_loss: 18496.0254\n",
            "Epoch 170/300\n",
            "10/10 [==============================] - 0s 6ms/step - loss: 2.1931 - val_loss: 18488.7891\n",
            "Epoch 171/300\n",
            "10/10 [==============================] - 0s 4ms/step - loss: 2.1963 - val_loss: 18493.3574\n",
            "Epoch 172/300\n",
            "10/10 [==============================] - 0s 3ms/step - loss: 2.2159 - val_loss: 18493.2754\n",
            "Epoch 173/300\n",
            "10/10 [==============================] - 0s 4ms/step - loss: 2.2350 - val_loss: 18492.2188\n",
            "Epoch 174/300\n",
            "10/10 [==============================] - 0s 4ms/step - loss: 2.2127 - val_loss: 18490.4023\n",
            "Epoch 175/300\n",
            "10/10 [==============================] - 0s 4ms/step - loss: 2.2203 - val_loss: 18486.4043\n",
            "Epoch 176/300\n",
            "10/10 [==============================] - 0s 4ms/step - loss: 2.2253 - val_loss: 18486.9492\n",
            "Epoch 177/300\n",
            "10/10 [==============================] - 0s 4ms/step - loss: 2.2212 - val_loss: 18499.0020\n",
            "Epoch 178/300\n",
            "10/10 [==============================] - 0s 4ms/step - loss: 2.2050 - val_loss: 18492.2852\n",
            "Epoch 179/300\n",
            "10/10 [==============================] - 0s 3ms/step - loss: 2.1915 - val_loss: 18482.1523\n",
            "Epoch 180/300\n",
            "10/10 [==============================] - 0s 4ms/step - loss: 2.1903 - val_loss: 18490.6855\n",
            "Epoch 181/300\n",
            "10/10 [==============================] - 0s 6ms/step - loss: 2.1881 - val_loss: 18496.5879\n",
            "Epoch 182/300\n",
            "10/10 [==============================] - 0s 6ms/step - loss: 2.2097 - val_loss: 18494.2559\n",
            "Epoch 183/300\n",
            "10/10 [==============================] - 0s 6ms/step - loss: 2.1888 - val_loss: 18483.0742\n",
            "Epoch 184/300\n",
            "10/10 [==============================] - 0s 4ms/step - loss: 2.1914 - val_loss: 18488.3906\n",
            "Epoch 185/300\n",
            "10/10 [==============================] - 0s 4ms/step - loss: 2.2064 - val_loss: 18489.0254\n",
            "Epoch 186/300\n",
            "10/10 [==============================] - 0s 4ms/step - loss: 2.2010 - val_loss: 18492.1211\n",
            "Epoch 187/300\n",
            "10/10 [==============================] - 0s 6ms/step - loss: 2.1736 - val_loss: 18484.3848\n",
            "Epoch 188/300\n",
            "10/10 [==============================] - 0s 4ms/step - loss: 2.1938 - val_loss: 18487.0020\n",
            "Epoch 189/300\n",
            "10/10 [==============================] - 0s 4ms/step - loss: 2.1981 - val_loss: 18488.9258\n",
            "Epoch 190/300\n",
            "10/10 [==============================] - 0s 4ms/step - loss: 2.2171 - val_loss: 18489.1523\n",
            "Epoch 191/300\n",
            "10/10 [==============================] - 0s 6ms/step - loss: 2.2530 - val_loss: 18484.6855\n",
            "Epoch 192/300\n",
            "10/10 [==============================] - 0s 4ms/step - loss: 2.2293 - val_loss: 18495.8926\n",
            "Epoch 193/300\n",
            "10/10 [==============================] - 0s 4ms/step - loss: 2.2327 - val_loss: 18479.4336\n",
            "Epoch 194/300\n",
            "10/10 [==============================] - 0s 4ms/step - loss: 2.2008 - val_loss: 18493.4629\n",
            "Epoch 195/300\n",
            "10/10 [==============================] - 0s 4ms/step - loss: 2.2122 - val_loss: 18483.8613\n",
            "Epoch 196/300\n",
            "10/10 [==============================] - 0s 5ms/step - loss: 2.2045 - val_loss: 18490.8281\n",
            "Epoch 197/300\n",
            "10/10 [==============================] - 0s 4ms/step - loss: 2.1987 - val_loss: 18492.4941\n",
            "Epoch 198/300\n",
            "10/10 [==============================] - 0s 6ms/step - loss: 2.2045 - val_loss: 18480.4863\n",
            "Epoch 199/300\n",
            "10/10 [==============================] - 0s 4ms/step - loss: 2.2029 - val_loss: 18496.2520\n",
            "Epoch 200/300\n",
            "10/10 [==============================] - 0s 6ms/step - loss: 2.1771 - val_loss: 18478.3867\n",
            "Epoch 201/300\n",
            "10/10 [==============================] - 0s 3ms/step - loss: 2.1875 - val_loss: 18488.0820\n",
            "Epoch 202/300\n",
            "10/10 [==============================] - 0s 4ms/step - loss: 2.1711 - val_loss: 18490.9434\n",
            "Epoch 203/300\n",
            "10/10 [==============================] - 0s 6ms/step - loss: 2.1998 - val_loss: 18478.5547\n",
            "Epoch 204/300\n",
            "10/10 [==============================] - 0s 6ms/step - loss: 2.1919 - val_loss: 18487.9297\n",
            "Epoch 205/300\n",
            "10/10 [==============================] - 0s 6ms/step - loss: 2.1850 - val_loss: 18492.3086\n",
            "Epoch 206/300\n",
            "10/10 [==============================] - 0s 4ms/step - loss: 2.1654 - val_loss: 18481.1055\n",
            "Epoch 207/300\n",
            "10/10 [==============================] - 0s 4ms/step - loss: 2.1763 - val_loss: 18484.1719\n",
            "Epoch 208/300\n",
            "10/10 [==============================] - 0s 6ms/step - loss: 2.1899 - val_loss: 18492.2070\n",
            "Epoch 209/300\n",
            "10/10 [==============================] - 0s 4ms/step - loss: 2.1836 - val_loss: 18482.3242\n",
            "Epoch 210/300\n",
            "10/10 [==============================] - 0s 4ms/step - loss: 2.1538 - val_loss: 18483.9336\n",
            "Epoch 211/300\n",
            "10/10 [==============================] - 0s 4ms/step - loss: 2.1680 - val_loss: 18482.5527\n",
            "Epoch 212/300\n",
            "10/10 [==============================] - 0s 4ms/step - loss: 2.2059 - val_loss: 18489.2422\n",
            "Epoch 213/300\n",
            "10/10 [==============================] - 0s 6ms/step - loss: 2.1976 - val_loss: 18482.6680\n",
            "Epoch 214/300\n",
            "10/10 [==============================] - 0s 6ms/step - loss: 2.2150 - val_loss: 18480.7383\n",
            "Epoch 215/300\n",
            "10/10 [==============================] - 0s 4ms/step - loss: 2.1505 - val_loss: 18490.5020\n",
            "Epoch 216/300\n",
            "10/10 [==============================] - 0s 4ms/step - loss: 2.1684 - val_loss: 18481.5977\n",
            "Epoch 217/300\n",
            "10/10 [==============================] - 0s 6ms/step - loss: 2.1685 - val_loss: 18483.5410\n",
            "Epoch 218/300\n",
            "10/10 [==============================] - 0s 6ms/step - loss: 2.1532 - val_loss: 18480.8633\n",
            "Epoch 219/300\n",
            "10/10 [==============================] - 0s 3ms/step - loss: 2.1753 - val_loss: 18487.1836\n",
            "Epoch 220/300\n",
            "10/10 [==============================] - 0s 4ms/step - loss: 2.1412 - val_loss: 18478.7266\n",
            "Epoch 221/300\n",
            "10/10 [==============================] - 0s 4ms/step - loss: 2.1615 - val_loss: 18479.0742\n",
            "Epoch 222/300\n",
            "10/10 [==============================] - 0s 4ms/step - loss: 2.1513 - val_loss: 18482.5488\n",
            "Epoch 223/300\n",
            "10/10 [==============================] - 0s 4ms/step - loss: 2.1585 - val_loss: 18485.5605\n",
            "Epoch 224/300\n",
            "10/10 [==============================] - 0s 4ms/step - loss: 2.1443 - val_loss: 18482.4805\n",
            "Epoch 225/300\n",
            "10/10 [==============================] - 0s 3ms/step - loss: 2.1718 - val_loss: 18479.4258\n",
            "Epoch 226/300\n",
            "10/10 [==============================] - 0s 3ms/step - loss: 2.1901 - val_loss: 18477.8066\n",
            "Epoch 227/300\n",
            "10/10 [==============================] - 0s 4ms/step - loss: 2.1824 - val_loss: 18486.3203\n",
            "Epoch 228/300\n",
            "10/10 [==============================] - 0s 4ms/step - loss: 2.1801 - val_loss: 18483.1523\n",
            "Epoch 229/300\n",
            "10/10 [==============================] - 0s 4ms/step - loss: 2.1745 - val_loss: 18476.3164\n",
            "Epoch 230/300\n",
            "10/10 [==============================] - 0s 4ms/step - loss: 2.1575 - val_loss: 18481.7617\n",
            "Epoch 231/300\n",
            "10/10 [==============================] - 0s 3ms/step - loss: 2.1534 - val_loss: 18477.5938\n",
            "Epoch 232/300\n",
            "10/10 [==============================] - 0s 4ms/step - loss: 2.1994 - val_loss: 18488.5938\n",
            "Epoch 233/300\n",
            "10/10 [==============================] - 0s 4ms/step - loss: 2.1858 - val_loss: 18475.1504\n",
            "Epoch 234/300\n",
            "10/10 [==============================] - 0s 4ms/step - loss: 2.2512 - val_loss: 18479.7109\n",
            "Epoch 235/300\n",
            "10/10 [==============================] - 0s 4ms/step - loss: 2.1553 - val_loss: 18477.8086\n",
            "Epoch 236/300\n",
            "10/10 [==============================] - 0s 4ms/step - loss: 2.1705 - val_loss: 18477.2070\n",
            "Epoch 237/300\n",
            "10/10 [==============================] - 0s 4ms/step - loss: 2.1793 - val_loss: 18478.7188\n",
            "Epoch 238/300\n",
            "10/10 [==============================] - 0s 4ms/step - loss: 2.1540 - val_loss: 18478.8398\n",
            "Epoch 239/300\n",
            "10/10 [==============================] - 0s 4ms/step - loss: 2.1580 - val_loss: 18475.4785\n",
            "Epoch 240/300\n",
            "10/10 [==============================] - 0s 6ms/step - loss: 2.1616 - val_loss: 18488.1641\n",
            "Epoch 241/300\n",
            "10/10 [==============================] - 0s 5ms/step - loss: 2.1806 - val_loss: 18472.1152\n",
            "Epoch 242/300\n",
            "10/10 [==============================] - 0s 4ms/step - loss: 2.1456 - val_loss: 18478.9258\n",
            "Epoch 243/300\n",
            "10/10 [==============================] - 0s 4ms/step - loss: 2.1801 - val_loss: 18485.2285\n",
            "Epoch 244/300\n",
            "10/10 [==============================] - 0s 5ms/step - loss: 2.1664 - val_loss: 18474.2539\n",
            "Epoch 245/300\n",
            "10/10 [==============================] - 0s 4ms/step - loss: 2.1496 - val_loss: 18472.8750\n",
            "Epoch 246/300\n",
            "10/10 [==============================] - 0s 4ms/step - loss: 2.1560 - val_loss: 18486.4219\n",
            "Epoch 247/300\n",
            "10/10 [==============================] - 0s 6ms/step - loss: 2.1512 - val_loss: 18476.5020\n",
            "Epoch 248/300\n",
            "10/10 [==============================] - 0s 6ms/step - loss: 2.1597 - val_loss: 18471.1055\n",
            "Epoch 249/300\n",
            "10/10 [==============================] - 0s 4ms/step - loss: 2.1570 - val_loss: 18479.3379\n",
            "Epoch 250/300\n",
            "10/10 [==============================] - 0s 4ms/step - loss: 2.1493 - val_loss: 18475.3906\n",
            "Epoch 251/300\n",
            "10/10 [==============================] - 0s 4ms/step - loss: 2.2444 - val_loss: 18471.5977\n",
            "Epoch 252/300\n",
            "10/10 [==============================] - 0s 4ms/step - loss: 2.1622 - val_loss: 18474.3867\n",
            "Epoch 253/300\n",
            "10/10 [==============================] - 0s 4ms/step - loss: 2.1306 - val_loss: 18477.5918\n",
            "Epoch 254/300\n",
            "10/10 [==============================] - 0s 7ms/step - loss: 2.1463 - val_loss: 18477.7305\n",
            "Epoch 255/300\n",
            "10/10 [==============================] - 0s 4ms/step - loss: 2.1383 - val_loss: 18471.0898\n",
            "Epoch 256/300\n",
            "10/10 [==============================] - 0s 4ms/step - loss: 2.1862 - val_loss: 18471.0996\n",
            "Epoch 257/300\n",
            "10/10 [==============================] - 0s 4ms/step - loss: 2.2870 - val_loss: 18479.8457\n",
            "Epoch 258/300\n",
            "10/10 [==============================] - 0s 4ms/step - loss: 2.1507 - val_loss: 18475.8320\n",
            "Epoch 259/300\n",
            "10/10 [==============================] - 0s 3ms/step - loss: 2.1414 - val_loss: 18463.3789\n",
            "Epoch 260/300\n",
            "10/10 [==============================] - 0s 6ms/step - loss: 2.1604 - val_loss: 18478.4648\n",
            "Epoch 261/300\n",
            "10/10 [==============================] - 0s 6ms/step - loss: 2.1313 - val_loss: 18471.7930\n",
            "Epoch 262/300\n",
            "10/10 [==============================] - 0s 5ms/step - loss: 2.1422 - val_loss: 18469.4746\n",
            "Epoch 263/300\n",
            "10/10 [==============================] - 0s 6ms/step - loss: 2.1422 - val_loss: 18480.8555\n",
            "Epoch 264/300\n",
            "10/10 [==============================] - 0s 4ms/step - loss: 2.1533 - val_loss: 18470.2441\n",
            "Epoch 265/300\n",
            "10/10 [==============================] - 0s 6ms/step - loss: 2.1244 - val_loss: 18470.4688\n",
            "Epoch 266/300\n",
            "10/10 [==============================] - 0s 6ms/step - loss: 2.1329 - val_loss: 18476.2715\n",
            "Epoch 267/300\n",
            "10/10 [==============================] - 0s 6ms/step - loss: 2.1507 - val_loss: 18473.3066\n",
            "Epoch 268/300\n",
            "10/10 [==============================] - 0s 6ms/step - loss: 2.1246 - val_loss: 18466.0703\n",
            "Epoch 269/300\n",
            "10/10 [==============================] - 0s 4ms/step - loss: 2.1335 - val_loss: 18468.9980\n",
            "Epoch 270/300\n",
            "10/10 [==============================] - 0s 4ms/step - loss: 2.1035 - val_loss: 18474.1562\n",
            "Epoch 271/300\n",
            "10/10 [==============================] - 0s 6ms/step - loss: 2.1586 - val_loss: 18472.9043\n",
            "Epoch 272/300\n",
            "10/10 [==============================] - 0s 4ms/step - loss: 2.1381 - val_loss: 18471.3242\n",
            "Epoch 273/300\n",
            "10/10 [==============================] - 0s 5ms/step - loss: 2.1536 - val_loss: 18466.3105\n",
            "Epoch 274/300\n",
            "10/10 [==============================] - 0s 5ms/step - loss: 2.1474 - val_loss: 18470.4961\n",
            "Epoch 275/300\n",
            "10/10 [==============================] - 0s 4ms/step - loss: 2.1260 - val_loss: 18473.8359\n",
            "Epoch 276/300\n",
            "10/10 [==============================] - 0s 4ms/step - loss: 2.1699 - val_loss: 18473.2637\n",
            "Epoch 277/300\n",
            "10/10 [==============================] - 0s 4ms/step - loss: 2.1698 - val_loss: 18479.0918\n",
            "Epoch 278/300\n",
            "10/10 [==============================] - 0s 4ms/step - loss: 2.1819 - val_loss: 18461.9746\n",
            "Epoch 279/300\n",
            "10/10 [==============================] - 0s 4ms/step - loss: 2.1804 - val_loss: 18463.4102\n",
            "Epoch 280/300\n",
            "10/10 [==============================] - 0s 6ms/step - loss: 2.1387 - val_loss: 18476.7891\n",
            "Epoch 281/300\n",
            "10/10 [==============================] - 0s 4ms/step - loss: 2.1315 - val_loss: 18466.3418\n",
            "Epoch 282/300\n",
            "10/10 [==============================] - 0s 6ms/step - loss: 2.1559 - val_loss: 18469.4414\n",
            "Epoch 283/300\n",
            "10/10 [==============================] - 0s 4ms/step - loss: 2.1493 - val_loss: 18469.0234\n",
            "Epoch 284/300\n",
            "10/10 [==============================] - 0s 4ms/step - loss: 2.1297 - val_loss: 18465.2500\n",
            "Epoch 285/300\n",
            "10/10 [==============================] - 0s 4ms/step - loss: 2.1407 - val_loss: 18468.1738\n",
            "Epoch 286/300\n",
            "10/10 [==============================] - 0s 4ms/step - loss: 2.1082 - val_loss: 18471.0391\n",
            "Epoch 287/300\n",
            "10/10 [==============================] - 0s 4ms/step - loss: 2.1401 - val_loss: 18467.4297\n",
            "Epoch 288/300\n",
            "10/10 [==============================] - 0s 4ms/step - loss: 2.1668 - val_loss: 18458.4648\n",
            "Epoch 289/300\n",
            "10/10 [==============================] - 0s 4ms/step - loss: 2.1123 - val_loss: 18472.9043\n",
            "Epoch 290/300\n",
            "10/10 [==============================] - 0s 4ms/step - loss: 2.1411 - val_loss: 18478.1367\n",
            "Epoch 291/300\n",
            "10/10 [==============================] - 0s 4ms/step - loss: 2.1130 - val_loss: 18457.6074\n",
            "Epoch 292/300\n",
            "10/10 [==============================] - 0s 4ms/step - loss: 2.1354 - val_loss: 18458.9473\n",
            "Epoch 293/300\n",
            "10/10 [==============================] - 0s 4ms/step - loss: 2.1270 - val_loss: 18472.1523\n",
            "Epoch 294/300\n",
            "10/10 [==============================] - 0s 4ms/step - loss: 2.0935 - val_loss: 18465.5020\n",
            "Epoch 295/300\n",
            "10/10 [==============================] - 0s 6ms/step - loss: 2.0977 - val_loss: 18458.3418\n",
            "Epoch 296/300\n",
            "10/10 [==============================] - 0s 4ms/step - loss: 2.1263 - val_loss: 18462.9082\n",
            "Epoch 297/300\n",
            "10/10 [==============================] - 0s 4ms/step - loss: 2.1308 - val_loss: 18477.2578\n",
            "Epoch 298/300\n",
            "10/10 [==============================] - 0s 4ms/step - loss: 2.1301 - val_loss: 18460.7871\n",
            "Epoch 299/300\n",
            "10/10 [==============================] - 0s 4ms/step - loss: 2.1417 - val_loss: 18462.0938\n",
            "Epoch 300/300\n",
            "10/10 [==============================] - 0s 4ms/step - loss: 2.1243 - val_loss: 18471.5059\n"
          ]
        },
        {
          "output_type": "execute_result",
          "data": {
            "text/plain": [
              "<keras.callbacks.History at 0x780af6291060>"
            ]
          },
          "metadata": {},
          "execution_count": 45
        }
      ]
    },
    {
      "cell_type": "code",
      "source": [
        "# Evaluate the model on the test set\n",
        "loss = model.evaluate(X_test_scaled, y_test)\n",
        "print(\"Test loss:\", loss)"
      ],
      "metadata": {
        "colab": {
          "base_uri": "https://localhost:8080/"
        },
        "id": "SDEsHfvuKSgr",
        "outputId": "178f181c-179d-49fc-ecf5-8bdee6f3c39f"
      },
      "execution_count": 46,
      "outputs": [
        {
          "output_type": "stream",
          "name": "stdout",
          "text": [
            "4/4 [==============================] - 0s 2ms/step - loss: 10819.4619\n",
            "Test loss: 10819.4619140625\n"
          ]
        }
      ]
    },
    {
      "cell_type": "code",
      "source": [
        "# Make predictions\n",
        "predictions = model.predict(X_test_scaled)"
      ],
      "metadata": {
        "colab": {
          "base_uri": "https://localhost:8080/"
        },
        "id": "ii4D2cCRKSd3",
        "outputId": "7ac530e3-ef6d-4cd9-bbf2-f4d79789300f"
      },
      "execution_count": 47,
      "outputs": [
        {
          "output_type": "stream",
          "name": "stdout",
          "text": [
            "4/4 [==============================] - 0s 2ms/step\n"
          ]
        }
      ]
    },
    {
      "cell_type": "code",
      "source": [
        "predictions"
      ],
      "metadata": {
        "id": "-wDc8nO9QTFx"
      },
      "execution_count": null,
      "outputs": []
    },
    {
      "cell_type": "markdown",
      "source": [
        "# accuracy"
      ],
      "metadata": {
        "id": "954Ldu5nQp8H"
      }
    },
    {
      "cell_type": "code",
      "source": [
        "from sklearn.metrics import mean_absolute_error , mean_squared_error\n",
        "mse = mean_squared_error(y_test_scaled, predictions)\n",
        "mse"
      ],
      "metadata": {
        "colab": {
          "base_uri": "https://localhost:8080/"
        },
        "id": "PEqtHx62QXJh",
        "outputId": "92c6daea-1abd-4241-ce7b-a0e8868b814f"
      },
      "execution_count": 62,
      "outputs": [
        {
          "output_type": "execute_result",
          "data": {
            "text/plain": [
              "12.91466786742896"
            ]
          },
          "metadata": {},
          "execution_count": 62
        }
      ]
    },
    {
      "cell_type": "code",
      "source": [
        "mean_absolute_error(y_test_scaled, predictions)"
      ],
      "metadata": {
        "colab": {
          "base_uri": "https://localhost:8080/"
        },
        "id": "fKSZlPVwQouw",
        "outputId": "da233b7f-6c7e-470c-907e-30010ba3279a"
      },
      "execution_count": 52,
      "outputs": [
        {
          "output_type": "execute_result",
          "data": {
            "text/plain": [
              "2.875103745013622"
            ]
          },
          "metadata": {},
          "execution_count": 52
        }
      ]
    },
    {
      "cell_type": "code",
      "source": [
        "rmse = mean_squared_error(y_test_scaled, predictions, squared =False)\n",
        "rmse"
      ],
      "metadata": {
        "colab": {
          "base_uri": "https://localhost:8080/"
        },
        "id": "SmKACHhfQwbZ",
        "outputId": "e338af94-4c60-4cdd-81b9-5397a7605e37"
      },
      "execution_count": 63,
      "outputs": [
        {
          "output_type": "execute_result",
          "data": {
            "text/plain": [
              "3.5936983550972887"
            ]
          },
          "metadata": {},
          "execution_count": 63
        }
      ]
    },
    {
      "cell_type": "markdown",
      "source": [
        "#visualization"
      ],
      "metadata": {
        "id": "m6RRBiuyUYlB"
      }
    },
    {
      "cell_type": "code",
      "source": [
        "import numpy as np\n",
        "import matplotlib.pyplot as plt\n",
        "\n",
        "# Plotting the actual test data and predictions\n",
        "plt.figure(figsize=(6,3))\n",
        "plt.scatter(y_test_scaled, predictions, color='blue', label='Predictions')\n",
        "plt.plot([min(y_test_scaled), max(y_test_scaled)], [min(y_test_scaled), max(y_test_scaled)], color='red', linestyle='--', linewidth=2, label='Ideal')\n",
        "plt.xlabel('Actual Values')\n",
        "plt.ylabel('Predicted Values')\n",
        "plt.title('Actual vs. Predicted Values')\n",
        "plt.legend()\n",
        "plt.grid(True)\n",
        "plt.show()"
      ],
      "metadata": {
        "colab": {
          "base_uri": "https://localhost:8080/",
          "height": 333
        },
        "id": "ln7QucgIUa0U",
        "outputId": "b87fb62d-f79c-4ac5-83a9-1a0c36d5911e"
      },
      "execution_count": 59,
      "outputs": [
        {
          "output_type": "display_data",
          "data": {
            "text/plain": [
              "<Figure size 600x300 with 1 Axes>"
            ],
            "image/png": "[encoded data removed]"
          },
          "metadata": {}
        }
      ]
    },
    {
      "cell_type": "markdown",
      "source": [
        "#RMSE MSE plot"
      ],
      "metadata": {
        "id": "-OWnKiudWHHY"
      }
    },
    {
      "cell_type": "code",
      "source": [
        "# Create labels and values for the bar plot\n",
        "metrics = ['MSE', 'RMSE']\n",
        "values = [mse, rmse]\n",
        "\n",
        "# Plotting the bar plot\n",
        "plt.figure(figsize=(5,3))\n",
        "plt.bar(metrics, values, color=['blue', 'green'])\n",
        "plt.xlabel('Metrics')\n",
        "plt.ylabel('Value')\n",
        "plt.title('MSE and RMSE Comparison')\n",
        "plt.show()"
      ],
      "metadata": {
        "colab": {
          "base_uri": "https://localhost:8080/",
          "height": 333
        },
        "id": "VVlAi4vNWGSt",
        "outputId": "2fd70ecf-c577-4a3b-bf4a-9e1c9ea934da"
      },
      "execution_count": 64,
      "outputs": [
        {
          "output_type": "display_data",
          "data": {
            "text/plain": [
              "<Figure size 500x300 with 1 Axes>"
            ],
            "image/png": "[encoded data removed]"
          },
          "metadata": {}
        }
      ]
    }
  ]
}