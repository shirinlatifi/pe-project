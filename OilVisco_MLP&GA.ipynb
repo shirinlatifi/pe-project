{
  "nbformat": 4,
  "nbformat_minor": 0,
  "metadata": {
    "colab": {
      "provenance": [],
      "include_colab_link": true
    },
    "kernelspec": {
      "name": "python3",
      "display_name": "Python 3"
    },
    "language_info": {
      "name": "python"
    }
  },
  "cells": [
    {
      "cell_type": "markdown",
      "metadata": {
        "id": "view-in-github",
        "colab_type": "text"
      },
      "source": [
        "<a href=\"https://colab.research.google.com/github/shirinlatifi/pe-project/blob/master/OilVisco_MLP%26GA.ipynb\" target=\"_parent\"><img src=\"https://colab.research.google.com/assets/colab-badge.svg\" alt=\"Open In Colab\"/></a>"
      ]
    },
    {
      "cell_type": "code",
      "execution_count": 1,
      "metadata": {
        "id": "NJv3wHp0e-lG"
      },
      "outputs": [],
      "source": [
        "import numpy as np\n",
        "import pandas as pd\n",
        "import tensorflow as tf\n",
        "from sklearn.model_selection import train_test_split\n",
        "from sklearn.preprocessing import StandardScaler"
      ]
    },
    {
      "cell_type": "code",
      "source": [
        "#load dataset\n",
        "# X: Input features\n",
        "# y: Target values\n",
        "\n",
        "df = pd.read_excel('oil visco.xlsx')"
      ],
      "metadata": {
        "id": "vctg5EpPKIIX"
      },
      "execution_count": 2,
      "outputs": []
    },
    {
      "cell_type": "code",
      "source": [
        "df"
      ],
      "metadata": {
        "id": "2KpzY1JSKlVt",
        "colab": {
          "base_uri": "https://localhost:8080/",
          "height": 423
        },
        "outputId": "25c048ae-78c8-421c-e522-6e9bec0468fd"
      },
      "execution_count": null,
      "outputs": [
        {
          "output_type": "execute_result",
          "data": {
            "text/plain": [
              "         T       P     Visco\n",
              "0    266.0     NaN     0.100\n",
              "1    325.0     NaN     0.100\n",
              "2    325.0     NaN     0.200\n",
              "3    212.0     NaN     0.200\n",
              "4    258.0  3524.0     0.289\n",
              "..     ...     ...       ...\n",
              "490  145.0     NaN   220.000\n",
              "491  122.0     NaN   220.000\n",
              "492  132.1     NaN   243.500\n",
              "493  122.0     NaN   980.000\n",
              "494   64.4     NaN  1200.000\n",
              "\n",
              "[495 rows x 3 columns]"
            ],
            "text/html": [
              "\n",
              "  <div id=\"df-838d08bc-5524-4391-a0c8-2992aa1a0c66\" class=\"colab-df-container\">\n",
              "    <div>\n",
              "<style scoped>\n",
              "    .dataframe tbody tr th:only-of-type {\n",
              "        vertical-align: middle;\n",
              "    }\n",
              "\n",
              "    .dataframe tbody tr th {\n",
              "        vertical-align: top;\n",
              "    }\n",
              "\n",
              "    .dataframe thead th {\n",
              "        text-align: right;\n",
              "    }\n",
              "</style>\n",
              "<table border=\"1\" class=\"dataframe\">\n",
              "  <thead>\n",
              "    <tr style=\"text-align: right;\">\n",
              "      <th></th>\n",
              "      <th>T</th>\n",
              "      <th>P</th>\n",
              "      <th>Visco</th>\n",
              "    </tr>\n",
              "  </thead>\n",
              "  <tbody>\n",
              "    <tr>\n",
              "      <th>0</th>\n",
              "      <td>266.0</td>\n",
              "      <td>NaN</td>\n",
              "      <td>0.100</td>\n",
              "    </tr>\n",
              "    <tr>\n",
              "      <th>1</th>\n",
              "      <td>325.0</td>\n",
              "      <td>NaN</td>\n",
              "      <td>0.100</td>\n",
              "    </tr>\n",
              "    <tr>\n",
              "      <th>2</th>\n",
              "      <td>325.0</td>\n",
              "      <td>NaN</td>\n",
              "      <td>0.200</td>\n",
              "    </tr>\n",
              "    <tr>\n",
              "      <th>3</th>\n",
              "      <td>212.0</td>\n",
              "      <td>NaN</td>\n",
              "      <td>0.200</td>\n",
              "    </tr>\n",
              "    <tr>\n",
              "      <th>4</th>\n",
              "      <td>258.0</td>\n",
              "      <td>3524.0</td>\n",
              "      <td>0.289</td>\n",
              "    </tr>\n",
              "    <tr>\n",
              "      <th>...</th>\n",
              "      <td>...</td>\n",
              "      <td>...</td>\n",
              "      <td>...</td>\n",
              "    </tr>\n",
              "    <tr>\n",
              "      <th>490</th>\n",
              "      <td>145.0</td>\n",
              "      <td>NaN</td>\n",
              "      <td>220.000</td>\n",
              "    </tr>\n",
              "    <tr>\n",
              "      <th>491</th>\n",
              "      <td>122.0</td>\n",
              "      <td>NaN</td>\n",
              "      <td>220.000</td>\n",
              "    </tr>\n",
              "    <tr>\n",
              "      <th>492</th>\n",
              "      <td>132.1</td>\n",
              "      <td>NaN</td>\n",
              "      <td>243.500</td>\n",
              "    </tr>\n",
              "    <tr>\n",
              "      <th>493</th>\n",
              "      <td>122.0</td>\n",
              "      <td>NaN</td>\n",
              "      <td>980.000</td>\n",
              "    </tr>\n",
              "    <tr>\n",
              "      <th>494</th>\n",
              "      <td>64.4</td>\n",
              "      <td>NaN</td>\n",
              "      <td>1200.000</td>\n",
              "    </tr>\n",
              "  </tbody>\n",
              "</table>\n",
              "<p>495 rows × 3 columns</p>\n",
              "</div>\n",
              "    <div class=\"colab-df-buttons\">\n",
              "\n",
              "  <div class=\"colab-df-container\">\n",
              "    <button class=\"colab-df-convert\" onclick=\"convertToInteractive('df-838d08bc-5524-4391-a0c8-2992aa1a0c66')\"\n",
              "            title=\"Convert this dataframe to an interactive table.\"\n",
              "            style=\"display:none;\">\n",
              "\n",
              "  <svg xmlns=\"http://www.w3.org/2000/svg\" height=\"24px\" viewBox=\"0 -960 960 960\">\n",
              "    <path d=\"M120-120v-720h720v720H120Zm60-500h600v-160H180v160Zm220 220h160v-160H400v160Zm0 220h160v-160H400v160ZM180-400h160v-160H180v160Zm440 0h160v-160H620v160ZM180-180h160v-160H180v160Zm440 0h160v-160H620v160Z\"/>\n",
              "  </svg>\n",
              "    </button>\n",
              "\n",
              "  <style>\n",
              "    .colab-df-container {\n",
              "      display:flex;\n",
              "      gap: 12px;\n",
              "    }\n",
              "\n",
              "    .colab-df-convert {\n",
              "      background-color: #E8F0FE;\n",
              "      border: none;\n",
              "      border-radius: 50%;\n",
              "      cursor: pointer;\n",
              "      display: none;\n",
              "      fill: #1967D2;\n",
              "      height: 32px;\n",
              "      padding: 0 0 0 0;\n",
              "      width: 32px;\n",
              "    }\n",
              "\n",
              "    .colab-df-convert:hover {\n",
              "      background-color: #E2EBFA;\n",
              "      box-shadow: 0px 1px 2px rgba(60, 64, 67, 0.3), 0px 1px 3px 1px rgba(60, 64, 67, 0.15);\n",
              "      fill: #174EA6;\n",
              "    }\n",
              "\n",
              "    .colab-df-buttons div {\n",
              "      margin-bottom: 4px;\n",
              "    }\n",
              "\n",
              "    [theme=dark] .colab-df-convert {\n",
              "      background-color: #3B4455;\n",
              "      fill: #D2E3FC;\n",
              "    }\n",
              "\n",
              "    [theme=dark] .colab-df-convert:hover {\n",
              "      background-color: #434B5C;\n",
              "      box-shadow: 0px 1px 3px 1px rgba(0, 0, 0, 0.15);\n",
              "      filter: drop-shadow(0px 1px 2px rgba(0, 0, 0, 0.3));\n",
              "      fill: #FFFFFF;\n",
              "    }\n",
              "  </style>\n",
              "\n",
              "    <script>\n",
              "      const buttonEl =\n",
              "        document.querySelector('#df-838d08bc-5524-4391-a0c8-2992aa1a0c66 button.colab-df-convert');\n",
              "      buttonEl.style.display =\n",
              "        google.colab.kernel.accessAllowed ? 'block' : 'none';\n",
              "\n",
              "      async function convertToInteractive(key) {\n",
              "        const element = document.querySelector('#df-838d08bc-5524-4391-a0c8-2992aa1a0c66');\n",
              "        const dataTable =\n",
              "          await google.colab.kernel.invokeFunction('convertToInteractive',\n",
              "                                                    [key], {});\n",
              "        if (!dataTable) return;\n",
              "\n",
              "        const docLinkHtml = 'Like what you see? Visit the ' +\n",
              "          '<a target=\"_blank\" href=https://colab.research.google.com/notebooks/data_table.ipynb>data table notebook</a>'\n",
              "          + ' to learn more about interactive tables.';\n",
              "        element.innerHTML = '';\n",
              "        dataTable['output_type'] = 'display_data';\n",
              "        await google.colab.output.renderOutput(dataTable, element);\n",
              "        const docLink = document.createElement('div');\n",
              "        docLink.innerHTML = docLinkHtml;\n",
              "        element.appendChild(docLink);\n",
              "      }\n",
              "    </script>\n",
              "  </div>\n",
              "\n",
              "\n",
              "<div id=\"df-196be72b-a60b-46e8-9c39-c6fc9027606a\">\n",
              "  <button class=\"colab-df-quickchart\" onclick=\"quickchart('df-196be72b-a60b-46e8-9c39-c6fc9027606a')\"\n",
              "            title=\"Suggest charts.\"\n",
              "            style=\"display:none;\">\n",
              "\n",
              "<svg xmlns=\"http://www.w3.org/2000/svg\" height=\"24px\"viewBox=\"0 0 24 24\"\n",
              "     width=\"24px\">\n",
              "    <g>\n",
              "        <path d=\"M19 3H5c-1.1 0-2 .9-2 2v14c0 1.1.9 2 2 2h14c1.1 0 2-.9 2-2V5c0-1.1-.9-2-2-2zM9 17H7v-7h2v7zm4 0h-2V7h2v10zm4 0h-2v-4h2v4z\"/>\n",
              "    </g>\n",
              "</svg>\n",
              "  </button>\n",
              "\n",
              "<style>\n",
              "  .colab-df-quickchart {\n",
              "      --bg-color: #E8F0FE;\n",
              "      --fill-color: #1967D2;\n",
              "      --hover-bg-color: #E2EBFA;\n",
              "      --hover-fill-color: #174EA6;\n",
              "      --disabled-fill-color: #AAA;\n",
              "      --disabled-bg-color: #DDD;\n",
              "  }\n",
              "\n",
              "  [theme=dark] .colab-df-quickchart {\n",
              "      --bg-color: #3B4455;\n",
              "      --fill-color: #D2E3FC;\n",
              "      --hover-bg-color: #434B5C;\n",
              "      --hover-fill-color: #FFFFFF;\n",
              "      --disabled-bg-color: #3B4455;\n",
              "      --disabled-fill-color: #666;\n",
              "  }\n",
              "\n",
              "  .colab-df-quickchart {\n",
              "    background-color: var(--bg-color);\n",
              "    border: none;\n",
              "    border-radius: 50%;\n",
              "    cursor: pointer;\n",
              "    display: none;\n",
              "    fill: var(--fill-color);\n",
              "    height: 32px;\n",
              "    padding: 0;\n",
              "    width: 32px;\n",
              "  }\n",
              "\n",
              "  .colab-df-quickchart:hover {\n",
              "    background-color: var(--hover-bg-color);\n",
              "    box-shadow: 0 1px 2px rgba(60, 64, 67, 0.3), 0 1px 3px 1px rgba(60, 64, 67, 0.15);\n",
              "    fill: var(--button-hover-fill-color);\n",
              "  }\n",
              "\n",
              "  .colab-df-quickchart-complete:disabled,\n",
              "  .colab-df-quickchart-complete:disabled:hover {\n",
              "    background-color: var(--disabled-bg-color);\n",
              "    fill: var(--disabled-fill-color);\n",
              "    box-shadow: none;\n",
              "  }\n",
              "\n",
              "  .colab-df-spinner {\n",
              "    border: 2px solid var(--fill-color);\n",
              "    border-color: transparent;\n",
              "    border-bottom-color: var(--fill-color);\n",
              "    animation:\n",
              "      spin 1s steps(1) infinite;\n",
              "  }\n",
              "\n",
              "  @keyframes spin {\n",
              "    0% {\n",
              "      border-color: transparent;\n",
              "      border-bottom-color: var(--fill-color);\n",
              "      border-left-color: var(--fill-color);\n",
              "    }\n",
              "    20% {\n",
              "      border-color: transparent;\n",
              "      border-left-color: var(--fill-color);\n",
              "      border-top-color: var(--fill-color);\n",
              "    }\n",
              "    30% {\n",
              "      border-color: transparent;\n",
              "      border-left-color: var(--fill-color);\n",
              "      border-top-color: var(--fill-color);\n",
              "      border-right-color: var(--fill-color);\n",
              "    }\n",
              "    40% {\n",
              "      border-color: transparent;\n",
              "      border-right-color: var(--fill-color);\n",
              "      border-top-color: var(--fill-color);\n",
              "    }\n",
              "    60% {\n",
              "      border-color: transparent;\n",
              "      border-right-color: var(--fill-color);\n",
              "    }\n",
              "    80% {\n",
              "      border-color: transparent;\n",
              "      border-right-color: var(--fill-color);\n",
              "      border-bottom-color: var(--fill-color);\n",
              "    }\n",
              "    90% {\n",
              "      border-color: transparent;\n",
              "      border-bottom-color: var(--fill-color);\n",
              "    }\n",
              "  }\n",
              "</style>\n",
              "\n",
              "  <script>\n",
              "    async function quickchart(key) {\n",
              "      const quickchartButtonEl =\n",
              "        document.querySelector('#' + key + ' button');\n",
              "      quickchartButtonEl.disabled = true;  // To prevent multiple clicks.\n",
              "      quickchartButtonEl.classList.add('colab-df-spinner');\n",
              "      try {\n",
              "        const charts = await google.colab.kernel.invokeFunction(\n",
              "            'suggestCharts', [key], {});\n",
              "      } catch (error) {\n",
              "        console.error('Error during call to suggestCharts:', error);\n",
              "      }\n",
              "      quickchartButtonEl.classList.remove('colab-df-spinner');\n",
              "      quickchartButtonEl.classList.add('colab-df-quickchart-complete');\n",
              "    }\n",
              "    (() => {\n",
              "      let quickchartButtonEl =\n",
              "        document.querySelector('#df-196be72b-a60b-46e8-9c39-c6fc9027606a button');\n",
              "      quickchartButtonEl.style.display =\n",
              "        google.colab.kernel.accessAllowed ? 'block' : 'none';\n",
              "    })();\n",
              "  </script>\n",
              "</div>\n",
              "    </div>\n",
              "  </div>\n"
            ]
          },
          "metadata": {},
          "execution_count": 3
        }
      ]
    },
    {
      "cell_type": "code",
      "source": [
        "df['P'] = df['P'].fillna(df['P'].mean())"
      ],
      "metadata": {
        "id": "r8eyDA6GNBqE"
      },
      "execution_count": 3,
      "outputs": []
    },
    {
      "cell_type": "code",
      "source": [
        "df['T'] = df['T'].fillna(df['T'].mean())"
      ],
      "metadata": {
        "id": "UhS4DW49NF-I"
      },
      "execution_count": 4,
      "outputs": []
    },
    {
      "cell_type": "code",
      "source": [
        "df.dropna(inplace=True)"
      ],
      "metadata": {
        "id": "lFWax348NNae"
      },
      "execution_count": 5,
      "outputs": []
    },
    {
      "cell_type": "code",
      "source": [
        "df.info()"
      ],
      "metadata": {
        "colab": {
          "base_uri": "https://localhost:8080/"
        },
        "id": "JV5nIF-lNNOe",
        "outputId": "27e08a5b-b619-4437-b49e-208ee88d7db0"
      },
      "execution_count": 6,
      "outputs": [
        {
          "output_type": "stream",
          "name": "stdout",
          "text": [
            "<class 'pandas.core.frame.DataFrame'>\n",
            "RangeIndex: 495 entries, 0 to 494\n",
            "Data columns (total 3 columns):\n",
            " #   Column  Non-Null Count  Dtype  \n",
            "---  ------  --------------  -----  \n",
            " 0   T       495 non-null    float64\n",
            " 1   P       495 non-null    float64\n",
            " 2   Visco   495 non-null    float64\n",
            "dtypes: float64(3)\n",
            "memory usage: 11.7 KB\n"
          ]
        }
      ]
    },
    {
      "cell_type": "code",
      "source": [
        "df.corr()['Visco']"
      ],
      "metadata": {
        "colab": {
          "base_uri": "https://localhost:8080/"
        },
        "id": "x1M62DmhNNL1",
        "outputId": "13d7162f-eb83-4797-c0af-3bcc0536eed8"
      },
      "execution_count": 7,
      "outputs": [
        {
          "output_type": "execute_result",
          "data": {
            "text/plain": [
              "T       -0.091610\n",
              "P       -0.005034\n",
              "Visco    1.000000\n",
              "Name: Visco, dtype: float64"
            ]
          },
          "metadata": {},
          "execution_count": 7
        }
      ]
    },
    {
      "cell_type": "code",
      "source": [
        "# Split the dataset into training and testing sets\n",
        "X_train, X_test, y_train, y_test = train_test_split(df.drop('Visco', axis=1), df['Visco'], test_size=0.2, random_state=42)"
      ],
      "metadata": {
        "id": "otKHOAdvKKAE"
      },
      "execution_count": 8,
      "outputs": []
    },
    {
      "cell_type": "code",
      "source": [
        "# Standardize the input features\n",
        "scaler = StandardScaler()\n",
        "X_train = scaler.fit_transform(X_train)\n",
        "X_test = scaler.transform(X_test)\n",
        "y_train = scaler.fit_transform(np.array(y_train).reshape(-1,1))\n",
        "#y_train_scaled = scaler.transform(np.array(y_train).reshape(-1,1))\n",
        "y_test = scaler.transform(np.array(y_test).reshape(-1,1))"
      ],
      "metadata": {
        "id": "imiNR8ApKS8l"
      },
      "execution_count": 9,
      "outputs": []
    },
    {
      "cell_type": "code",
      "source": [
        "X_train.shape"
      ],
      "metadata": {
        "colab": {
          "base_uri": "https://localhost:8080/"
        },
        "id": "wxeNqiGwOuvH",
        "outputId": "f429acd3-70de-4370-d027-69c8a8a96528"
      },
      "execution_count": 10,
      "outputs": [
        {
          "output_type": "execute_result",
          "data": {
            "text/plain": [
              "(396, 2)"
            ]
          },
          "metadata": {},
          "execution_count": 10
        }
      ]
    },
    {
      "cell_type": "code",
      "source": [
        "X_train.shape[0] , X_train.shape[1]"
      ],
      "metadata": {
        "colab": {
          "base_uri": "https://localhost:8080/"
        },
        "id": "MygsBA23Mi4v",
        "outputId": "ddfe1ae4-73b8-4282-fda7-b0fbaaf04ad7"
      },
      "execution_count": 11,
      "outputs": [
        {
          "output_type": "execute_result",
          "data": {
            "text/plain": [
              "(396, 2)"
            ]
          },
          "metadata": {},
          "execution_count": 11
        }
      ]
    },
    {
      "cell_type": "code",
      "source": [
        "# Build the MLP model\n",
        "model = tf.keras.Sequential([\n",
        "    tf.keras.layers.Dense(792, activation='relu', input_dim=X_train.shape[1]),\n",
        "    tf.keras.layers.Dense(64, activation='relu'),\n",
        "    tf.keras.layers.Dense(1)  # Single output neuron for regression\n",
        "])"
      ],
      "metadata": {
        "id": "KLrYp6sRKS4L"
      },
      "execution_count": 12,
      "outputs": []
    },
    {
      "cell_type": "code",
      "source": [
        "# Compile the model\n",
        "model.compile(optimizer='adam', loss='mean_squared_error')"
      ],
      "metadata": {
        "id": "N3r7juu8KSmF"
      },
      "execution_count": 13,
      "outputs": []
    },
    {
      "cell_type": "code",
      "source": [
        "# Train the model\n",
        "model.fit(X_train, y_train, epochs=200, batch_size=32, validation_split=0.2)"
      ],
      "metadata": {
        "colab": {
          "base_uri": "https://localhost:8080/"
        },
        "id": "8VIkJugXKSjQ",
        "outputId": "a75316ce-d0f1-459e-b07e-66b6e46a22c6"
      },
      "execution_count": 14,
      "outputs": [
        {
          "output_type": "stream",
          "name": "stdout",
          "text": [
            "Epoch 1/200\n",
            "10/10 [==============================] - 1s 23ms/step - loss: 0.0050 - val_loss: 5.0012\n",
            "Epoch 2/200\n",
            "10/10 [==============================] - 0s 8ms/step - loss: 0.0020 - val_loss: 4.9884\n",
            "Epoch 3/200\n",
            "10/10 [==============================] - 0s 6ms/step - loss: 0.0012 - val_loss: 4.9820\n",
            "Epoch 4/200\n",
            "10/10 [==============================] - 0s 6ms/step - loss: 0.0010 - val_loss: 4.9800\n",
            "Epoch 5/200\n",
            "10/10 [==============================] - 0s 8ms/step - loss: 9.1655e-04 - val_loss: 4.9891\n",
            "Epoch 6/200\n",
            "10/10 [==============================] - 0s 8ms/step - loss: 8.8040e-04 - val_loss: 4.9873\n",
            "Epoch 7/200\n",
            "10/10 [==============================] - 0s 6ms/step - loss: 8.2918e-04 - val_loss: 4.9772\n",
            "Epoch 8/200\n",
            "10/10 [==============================] - 0s 7ms/step - loss: 7.9355e-04 - val_loss: 4.9669\n",
            "Epoch 9/200\n",
            "10/10 [==============================] - 0s 8ms/step - loss: 7.1624e-04 - val_loss: 4.9769\n",
            "Epoch 10/200\n",
            "10/10 [==============================] - 0s 6ms/step - loss: 7.1747e-04 - val_loss: 4.9673\n",
            "Epoch 11/200\n",
            "10/10 [==============================] - 0s 7ms/step - loss: 7.2018e-04 - val_loss: 4.9669\n",
            "Epoch 12/200\n",
            "10/10 [==============================] - 0s 9ms/step - loss: 7.0510e-04 - val_loss: 4.9764\n",
            "Epoch 13/200\n",
            "10/10 [==============================] - 0s 8ms/step - loss: 7.4096e-04 - val_loss: 4.9776\n",
            "Epoch 14/200\n",
            "10/10 [==============================] - 0s 6ms/step - loss: 7.2193e-04 - val_loss: 4.9736\n",
            "Epoch 15/200\n",
            "10/10 [==============================] - 0s 6ms/step - loss: 7.2832e-04 - val_loss: 4.9751\n",
            "Epoch 16/200\n",
            "10/10 [==============================] - 0s 6ms/step - loss: 7.2139e-04 - val_loss: 4.9700\n",
            "Epoch 17/200\n",
            "10/10 [==============================] - 0s 7ms/step - loss: 7.0393e-04 - val_loss: 4.9778\n",
            "Epoch 18/200\n",
            "10/10 [==============================] - 0s 8ms/step - loss: 7.3894e-04 - val_loss: 4.9784\n",
            "Epoch 19/200\n",
            "10/10 [==============================] - 0s 6ms/step - loss: 7.9393e-04 - val_loss: 4.9718\n",
            "Epoch 20/200\n",
            "10/10 [==============================] - 0s 8ms/step - loss: 7.3216e-04 - val_loss: 4.9780\n",
            "Epoch 21/200\n",
            "10/10 [==============================] - 0s 6ms/step - loss: 7.2279e-04 - val_loss: 4.9802\n",
            "Epoch 22/200\n",
            "10/10 [==============================] - 0s 8ms/step - loss: 8.3379e-04 - val_loss: 4.9745\n",
            "Epoch 23/200\n",
            "10/10 [==============================] - 0s 8ms/step - loss: 9.3287e-04 - val_loss: 4.9644\n",
            "Epoch 24/200\n",
            "10/10 [==============================] - 0s 8ms/step - loss: 9.8518e-04 - val_loss: 4.9576\n",
            "Epoch 25/200\n",
            "10/10 [==============================] - 0s 8ms/step - loss: 9.2395e-04 - val_loss: 4.9698\n",
            "Epoch 26/200\n",
            "10/10 [==============================] - 0s 8ms/step - loss: 7.7336e-04 - val_loss: 4.9689\n",
            "Epoch 27/200\n",
            "10/10 [==============================] - 0s 6ms/step - loss: 6.8948e-04 - val_loss: 4.9691\n",
            "Epoch 28/200\n",
            "10/10 [==============================] - 0s 6ms/step - loss: 6.9241e-04 - val_loss: 4.9838\n",
            "Epoch 29/200\n",
            "10/10 [==============================] - 0s 7ms/step - loss: 7.2527e-04 - val_loss: 4.9635\n",
            "Epoch 30/200\n",
            "10/10 [==============================] - 0s 6ms/step - loss: 6.9640e-04 - val_loss: 4.9702\n",
            "Epoch 31/200\n",
            "10/10 [==============================] - 0s 8ms/step - loss: 6.5809e-04 - val_loss: 4.9642\n",
            "Epoch 32/200\n",
            "10/10 [==============================] - 0s 6ms/step - loss: 7.4570e-04 - val_loss: 4.9679\n",
            "Epoch 33/200\n",
            "10/10 [==============================] - 0s 8ms/step - loss: 6.5632e-04 - val_loss: 4.9591\n",
            "Epoch 34/200\n",
            "10/10 [==============================] - 0s 8ms/step - loss: 7.4178e-04 - val_loss: 4.9766\n",
            "Epoch 35/200\n",
            "10/10 [==============================] - 0s 8ms/step - loss: 7.2740e-04 - val_loss: 4.9662\n",
            "Epoch 36/200\n",
            "10/10 [==============================] - 0s 6ms/step - loss: 7.0325e-04 - val_loss: 4.9662\n",
            "Epoch 37/200\n",
            "10/10 [==============================] - 0s 6ms/step - loss: 7.0261e-04 - val_loss: 4.9812\n",
            "Epoch 38/200\n",
            "10/10 [==============================] - 0s 8ms/step - loss: 6.4316e-04 - val_loss: 4.9665\n",
            "Epoch 39/200\n",
            "10/10 [==============================] - 0s 7ms/step - loss: 6.2908e-04 - val_loss: 4.9722\n",
            "Epoch 40/200\n",
            "10/10 [==============================] - 0s 6ms/step - loss: 6.3567e-04 - val_loss: 4.9715\n",
            "Epoch 41/200\n",
            "10/10 [==============================] - 0s 6ms/step - loss: 6.7979e-04 - val_loss: 4.9666\n",
            "Epoch 42/200\n",
            "10/10 [==============================] - 0s 6ms/step - loss: 6.4054e-04 - val_loss: 4.9625\n",
            "Epoch 43/200\n",
            "10/10 [==============================] - 0s 8ms/step - loss: 6.6593e-04 - val_loss: 4.9582\n",
            "Epoch 44/200\n",
            "10/10 [==============================] - 0s 8ms/step - loss: 6.8143e-04 - val_loss: 4.9531\n",
            "Epoch 45/200\n",
            "10/10 [==============================] - 0s 7ms/step - loss: 7.0189e-04 - val_loss: 4.9590\n",
            "Epoch 46/200\n",
            "10/10 [==============================] - 0s 6ms/step - loss: 6.7963e-04 - val_loss: 4.9638\n",
            "Epoch 47/200\n",
            "10/10 [==============================] - 0s 8ms/step - loss: 6.5717e-04 - val_loss: 4.9714\n",
            "Epoch 48/200\n",
            "10/10 [==============================] - 0s 8ms/step - loss: 7.0589e-04 - val_loss: 4.9660\n",
            "Epoch 49/200\n",
            "10/10 [==============================] - 0s 6ms/step - loss: 6.7615e-04 - val_loss: 4.9637\n",
            "Epoch 50/200\n",
            "10/10 [==============================] - 0s 6ms/step - loss: 6.4576e-04 - val_loss: 4.9763\n",
            "Epoch 51/200\n",
            "10/10 [==============================] - 0s 6ms/step - loss: 6.5502e-04 - val_loss: 4.9734\n",
            "Epoch 52/200\n",
            "10/10 [==============================] - 0s 6ms/step - loss: 6.2199e-04 - val_loss: 4.9596\n",
            "Epoch 53/200\n",
            "10/10 [==============================] - 0s 9ms/step - loss: 6.4879e-04 - val_loss: 4.9674\n",
            "Epoch 54/200\n",
            "10/10 [==============================] - 0s 8ms/step - loss: 6.2269e-04 - val_loss: 4.9553\n",
            "Epoch 55/200\n",
            "10/10 [==============================] - 0s 6ms/step - loss: 6.2374e-04 - val_loss: 4.9637\n",
            "Epoch 56/200\n",
            "10/10 [==============================] - 0s 7ms/step - loss: 6.2099e-04 - val_loss: 4.9684\n",
            "Epoch 57/200\n",
            "10/10 [==============================] - 0s 6ms/step - loss: 6.1436e-04 - val_loss: 4.9727\n",
            "Epoch 58/200\n",
            "10/10 [==============================] - 0s 6ms/step - loss: 7.6622e-04 - val_loss: 4.9608\n",
            "Epoch 59/200\n",
            "10/10 [==============================] - 0s 6ms/step - loss: 8.3724e-04 - val_loss: 4.9550\n",
            "Epoch 60/200\n",
            "10/10 [==============================] - 0s 6ms/step - loss: 8.4883e-04 - val_loss: 4.9598\n",
            "Epoch 61/200\n",
            "10/10 [==============================] - 0s 9ms/step - loss: 7.2140e-04 - val_loss: 4.9596\n",
            "Epoch 62/200\n",
            "10/10 [==============================] - 0s 6ms/step - loss: 6.6835e-04 - val_loss: 4.9721\n",
            "Epoch 63/200\n",
            "10/10 [==============================] - 0s 8ms/step - loss: 6.2183e-04 - val_loss: 4.9637\n",
            "Epoch 64/200\n",
            "10/10 [==============================] - 0s 6ms/step - loss: 6.1887e-04 - val_loss: 4.9550\n",
            "Epoch 65/200\n",
            "10/10 [==============================] - 0s 6ms/step - loss: 6.9465e-04 - val_loss: 4.9521\n",
            "Epoch 66/200\n",
            "10/10 [==============================] - 0s 7ms/step - loss: 6.8350e-04 - val_loss: 4.9595\n",
            "Epoch 67/200\n",
            "10/10 [==============================] - 0s 6ms/step - loss: 6.8096e-04 - val_loss: 4.9620\n",
            "Epoch 68/200\n",
            "10/10 [==============================] - 0s 6ms/step - loss: 7.5099e-04 - val_loss: 4.9824\n",
            "Epoch 69/200\n",
            "10/10 [==============================] - 0s 6ms/step - loss: 8.0114e-04 - val_loss: 4.9650\n",
            "Epoch 70/200\n",
            "10/10 [==============================] - 0s 8ms/step - loss: 7.7203e-04 - val_loss: 4.9597\n",
            "Epoch 71/200\n",
            "10/10 [==============================] - 0s 6ms/step - loss: 7.0742e-04 - val_loss: 4.9708\n",
            "Epoch 72/200\n",
            "10/10 [==============================] - 0s 6ms/step - loss: 6.0467e-04 - val_loss: 4.9620\n",
            "Epoch 73/200\n",
            "10/10 [==============================] - 0s 6ms/step - loss: 6.1012e-04 - val_loss: 4.9660\n",
            "Epoch 74/200\n",
            "10/10 [==============================] - 0s 9ms/step - loss: 5.8539e-04 - val_loss: 4.9650\n",
            "Epoch 75/200\n",
            "10/10 [==============================] - 0s 8ms/step - loss: 6.2221e-04 - val_loss: 4.9647\n",
            "Epoch 76/200\n",
            "10/10 [==============================] - 0s 8ms/step - loss: 6.0017e-04 - val_loss: 4.9576\n",
            "Epoch 77/200\n",
            "10/10 [==============================] - 0s 6ms/step - loss: 6.0513e-04 - val_loss: 4.9583\n",
            "Epoch 78/200\n",
            "10/10 [==============================] - 0s 6ms/step - loss: 5.9453e-04 - val_loss: 4.9577\n",
            "Epoch 79/200\n",
            "10/10 [==============================] - 0s 7ms/step - loss: 6.5175e-04 - val_loss: 4.9698\n",
            "Epoch 80/200\n",
            "10/10 [==============================] - 0s 8ms/step - loss: 6.5693e-04 - val_loss: 4.9641\n",
            "Epoch 81/200\n",
            "10/10 [==============================] - 0s 8ms/step - loss: 6.3215e-04 - val_loss: 4.9691\n",
            "Epoch 82/200\n",
            "10/10 [==============================] - 0s 6ms/step - loss: 6.3890e-04 - val_loss: 4.9712\n",
            "Epoch 83/200\n",
            "10/10 [==============================] - 0s 6ms/step - loss: 6.2399e-04 - val_loss: 4.9499\n",
            "Epoch 84/200\n",
            "10/10 [==============================] - 0s 6ms/step - loss: 6.1538e-04 - val_loss: 4.9658\n",
            "Epoch 85/200\n",
            "10/10 [==============================] - 0s 9ms/step - loss: 6.0841e-04 - val_loss: 4.9663\n",
            "Epoch 86/200\n",
            "10/10 [==============================] - 0s 6ms/step - loss: 6.0933e-04 - val_loss: 4.9673\n",
            "Epoch 87/200\n",
            "10/10 [==============================] - 0s 6ms/step - loss: 6.5007e-04 - val_loss: 4.9646\n",
            "Epoch 88/200\n",
            "10/10 [==============================] - 0s 8ms/step - loss: 5.9004e-04 - val_loss: 4.9592\n",
            "Epoch 89/200\n",
            "10/10 [==============================] - 0s 6ms/step - loss: 5.9290e-04 - val_loss: 4.9555\n",
            "Epoch 90/200\n",
            "10/10 [==============================] - 0s 9ms/step - loss: 6.2261e-04 - val_loss: 4.9676\n",
            "Epoch 91/200\n",
            "10/10 [==============================] - 0s 6ms/step - loss: 6.7943e-04 - val_loss: 4.9679\n",
            "Epoch 92/200\n",
            "10/10 [==============================] - 0s 6ms/step - loss: 6.8688e-04 - val_loss: 4.9576\n",
            "Epoch 93/200\n",
            "10/10 [==============================] - 0s 6ms/step - loss: 6.5480e-04 - val_loss: 4.9491\n",
            "Epoch 94/200\n",
            "10/10 [==============================] - 0s 6ms/step - loss: 6.8488e-04 - val_loss: 4.9598\n",
            "Epoch 95/200\n",
            "10/10 [==============================] - 0s 7ms/step - loss: 6.5079e-04 - val_loss: 4.9735\n",
            "Epoch 96/200\n",
            "10/10 [==============================] - 0s 7ms/step - loss: 8.0885e-04 - val_loss: 4.9569\n",
            "Epoch 97/200\n",
            "10/10 [==============================] - 0s 8ms/step - loss: 6.1638e-04 - val_loss: 4.9561\n",
            "Epoch 98/200\n",
            "10/10 [==============================] - 0s 8ms/step - loss: 6.4887e-04 - val_loss: 4.9552\n",
            "Epoch 99/200\n",
            "10/10 [==============================] - 0s 8ms/step - loss: 5.8639e-04 - val_loss: 4.9608\n",
            "Epoch 100/200\n",
            "10/10 [==============================] - 0s 6ms/step - loss: 5.9780e-04 - val_loss: 4.9372\n",
            "Epoch 101/200\n",
            "10/10 [==============================] - 0s 8ms/step - loss: 6.0202e-04 - val_loss: 4.9710\n",
            "Epoch 102/200\n",
            "10/10 [==============================] - 0s 6ms/step - loss: 5.8509e-04 - val_loss: 4.9650\n",
            "Epoch 103/200\n",
            "10/10 [==============================] - 0s 6ms/step - loss: 6.1182e-04 - val_loss: 4.9613\n",
            "Epoch 104/200\n",
            "10/10 [==============================] - 0s 6ms/step - loss: 5.7551e-04 - val_loss: 4.9628\n",
            "Epoch 105/200\n",
            "10/10 [==============================] - 0s 8ms/step - loss: 6.0606e-04 - val_loss: 4.9648\n",
            "Epoch 106/200\n",
            "10/10 [==============================] - 0s 6ms/step - loss: 5.9941e-04 - val_loss: 4.9645\n",
            "Epoch 107/200\n",
            "10/10 [==============================] - 0s 6ms/step - loss: 6.0899e-04 - val_loss: 4.9645\n",
            "Epoch 108/200\n",
            "10/10 [==============================] - 0s 7ms/step - loss: 6.3651e-04 - val_loss: 4.9669\n",
            "Epoch 109/200\n",
            "10/10 [==============================] - 0s 6ms/step - loss: 6.6420e-04 - val_loss: 4.9667\n",
            "Epoch 110/200\n",
            "10/10 [==============================] - 0s 7ms/step - loss: 6.0582e-04 - val_loss: 4.9634\n",
            "Epoch 111/200\n",
            "10/10 [==============================] - 0s 6ms/step - loss: 5.7422e-04 - val_loss: 4.9640\n",
            "Epoch 112/200\n",
            "10/10 [==============================] - 0s 6ms/step - loss: 5.9776e-04 - val_loss: 4.9632\n",
            "Epoch 113/200\n",
            "10/10 [==============================] - 0s 8ms/step - loss: 5.8241e-04 - val_loss: 4.9686\n",
            "Epoch 114/200\n",
            "10/10 [==============================] - 0s 8ms/step - loss: 5.7684e-04 - val_loss: 4.9569\n",
            "Epoch 115/200\n",
            "10/10 [==============================] - 0s 6ms/step - loss: 6.3975e-04 - val_loss: 4.9650\n",
            "Epoch 116/200\n",
            "10/10 [==============================] - 0s 6ms/step - loss: 6.7019e-04 - val_loss: 4.9640\n",
            "Epoch 117/200\n",
            "10/10 [==============================] - 0s 6ms/step - loss: 5.8819e-04 - val_loss: 4.9608\n",
            "Epoch 118/200\n",
            "10/10 [==============================] - 0s 6ms/step - loss: 5.7705e-04 - val_loss: 4.9589\n",
            "Epoch 119/200\n",
            "10/10 [==============================] - 0s 6ms/step - loss: 5.8297e-04 - val_loss: 4.9731\n",
            "Epoch 120/200\n",
            "10/10 [==============================] - 0s 7ms/step - loss: 6.0574e-04 - val_loss: 4.9556\n",
            "Epoch 121/200\n",
            "10/10 [==============================] - 0s 8ms/step - loss: 6.2892e-04 - val_loss: 4.9727\n",
            "Epoch 122/200\n",
            "10/10 [==============================] - 0s 9ms/step - loss: 6.2343e-04 - val_loss: 4.9543\n",
            "Epoch 123/200\n",
            "10/10 [==============================] - 0s 8ms/step - loss: 6.1696e-04 - val_loss: 4.9604\n",
            "Epoch 124/200\n",
            "10/10 [==============================] - 0s 8ms/step - loss: 5.9635e-04 - val_loss: 4.9672\n",
            "Epoch 125/200\n",
            "10/10 [==============================] - 0s 6ms/step - loss: 6.3284e-04 - val_loss: 4.9650\n",
            "Epoch 126/200\n",
            "10/10 [==============================] - 0s 8ms/step - loss: 6.4038e-04 - val_loss: 4.9599\n",
            "Epoch 127/200\n",
            "10/10 [==============================] - 0s 6ms/step - loss: 6.0121e-04 - val_loss: 4.9608\n",
            "Epoch 128/200\n",
            "10/10 [==============================] - 0s 9ms/step - loss: 6.0870e-04 - val_loss: 4.9662\n",
            "Epoch 129/200\n",
            "10/10 [==============================] - 0s 10ms/step - loss: 5.7274e-04 - val_loss: 4.9653\n",
            "Epoch 130/200\n",
            "10/10 [==============================] - 0s 10ms/step - loss: 6.0166e-04 - val_loss: 4.9556\n",
            "Epoch 131/200\n",
            "10/10 [==============================] - 0s 9ms/step - loss: 6.2042e-04 - val_loss: 4.9618\n",
            "Epoch 132/200\n",
            "10/10 [==============================] - 0s 9ms/step - loss: 5.6231e-04 - val_loss: 4.9681\n",
            "Epoch 133/200\n",
            "10/10 [==============================] - 0s 12ms/step - loss: 5.8791e-04 - val_loss: 4.9525\n",
            "Epoch 134/200\n",
            "10/10 [==============================] - 0s 9ms/step - loss: 6.0379e-04 - val_loss: 4.9744\n",
            "Epoch 135/200\n",
            "10/10 [==============================] - 0s 26ms/step - loss: 6.7011e-04 - val_loss: 4.9640\n",
            "Epoch 136/200\n",
            "10/10 [==============================] - 0s 47ms/step - loss: 6.2934e-04 - val_loss: 4.9520\n",
            "Epoch 137/200\n",
            "10/10 [==============================] - 0s 15ms/step - loss: 6.7960e-04 - val_loss: 4.9702\n",
            "Epoch 138/200\n",
            "10/10 [==============================] - 0s 10ms/step - loss: 6.7428e-04 - val_loss: 4.9635\n",
            "Epoch 139/200\n",
            "10/10 [==============================] - 0s 9ms/step - loss: 6.3050e-04 - val_loss: 4.9593\n",
            "Epoch 140/200\n",
            "10/10 [==============================] - 0s 9ms/step - loss: 5.9565e-04 - val_loss: 4.9656\n",
            "Epoch 141/200\n",
            "10/10 [==============================] - 0s 11ms/step - loss: 6.3870e-04 - val_loss: 4.9616\n",
            "Epoch 142/200\n",
            "10/10 [==============================] - 0s 50ms/step - loss: 5.8550e-04 - val_loss: 4.9588\n",
            "Epoch 143/200\n",
            "10/10 [==============================] - 0s 29ms/step - loss: 5.6571e-04 - val_loss: 4.9583\n",
            "Epoch 144/200\n",
            "10/10 [==============================] - 0s 10ms/step - loss: 5.5844e-04 - val_loss: 4.9627\n",
            "Epoch 145/200\n",
            "10/10 [==============================] - 0s 10ms/step - loss: 5.6323e-04 - val_loss: 4.9587\n",
            "Epoch 146/200\n",
            "10/10 [==============================] - 0s 10ms/step - loss: 5.8385e-04 - val_loss: 4.9523\n",
            "Epoch 147/200\n",
            "10/10 [==============================] - 0s 8ms/step - loss: 6.1080e-04 - val_loss: 4.9563\n",
            "Epoch 148/200\n",
            "10/10 [==============================] - 0s 6ms/step - loss: 6.0145e-04 - val_loss: 4.9572\n",
            "Epoch 149/200\n",
            "10/10 [==============================] - 0s 6ms/step - loss: 5.6977e-04 - val_loss: 4.9643\n",
            "Epoch 150/200\n",
            "10/10 [==============================] - 0s 6ms/step - loss: 5.9115e-04 - val_loss: 4.9571\n",
            "Epoch 151/200\n",
            "10/10 [==============================] - 0s 8ms/step - loss: 5.8034e-04 - val_loss: 4.9571\n",
            "Epoch 152/200\n",
            "10/10 [==============================] - 0s 6ms/step - loss: 5.8744e-04 - val_loss: 4.9683\n",
            "Epoch 153/200\n",
            "10/10 [==============================] - 0s 6ms/step - loss: 6.4255e-04 - val_loss: 4.9595\n",
            "Epoch 154/200\n",
            "10/10 [==============================] - 0s 8ms/step - loss: 6.1445e-04 - val_loss: 4.9605\n",
            "Epoch 155/200\n",
            "10/10 [==============================] - 0s 9ms/step - loss: 6.6137e-04 - val_loss: 4.9702\n",
            "Epoch 156/200\n",
            "10/10 [==============================] - 0s 6ms/step - loss: 6.1818e-04 - val_loss: 4.9666\n",
            "Epoch 157/200\n",
            "10/10 [==============================] - 0s 7ms/step - loss: 5.8978e-04 - val_loss: 4.9587\n",
            "Epoch 158/200\n",
            "10/10 [==============================] - 0s 6ms/step - loss: 5.9200e-04 - val_loss: 4.9637\n",
            "Epoch 159/200\n",
            "10/10 [==============================] - 0s 6ms/step - loss: 5.7807e-04 - val_loss: 4.9598\n",
            "Epoch 160/200\n",
            "10/10 [==============================] - 0s 8ms/step - loss: 5.5439e-04 - val_loss: 4.9687\n",
            "Epoch 161/200\n",
            "10/10 [==============================] - 0s 6ms/step - loss: 5.7695e-04 - val_loss: 4.9539\n",
            "Epoch 162/200\n",
            "10/10 [==============================] - 0s 6ms/step - loss: 5.6692e-04 - val_loss: 4.9664\n",
            "Epoch 163/200\n",
            "10/10 [==============================] - 0s 8ms/step - loss: 5.8800e-04 - val_loss: 4.9611\n",
            "Epoch 164/200\n",
            "10/10 [==============================] - 0s 6ms/step - loss: 5.7225e-04 - val_loss: 4.9644\n",
            "Epoch 165/200\n",
            "10/10 [==============================] - 0s 8ms/step - loss: 5.9385e-04 - val_loss: 4.9667\n",
            "Epoch 166/200\n",
            "10/10 [==============================] - 0s 6ms/step - loss: 5.6467e-04 - val_loss: 4.9577\n",
            "Epoch 167/200\n",
            "10/10 [==============================] - 0s 8ms/step - loss: 5.5208e-04 - val_loss: 4.9645\n",
            "Epoch 168/200\n",
            "10/10 [==============================] - 0s 6ms/step - loss: 5.5983e-04 - val_loss: 4.9588\n",
            "Epoch 169/200\n",
            "10/10 [==============================] - 0s 7ms/step - loss: 6.2394e-04 - val_loss: 4.9618\n",
            "Epoch 170/200\n",
            "10/10 [==============================] - 0s 8ms/step - loss: 5.8702e-04 - val_loss: 4.9614\n",
            "Epoch 171/200\n",
            "10/10 [==============================] - 0s 6ms/step - loss: 5.5933e-04 - val_loss: 4.9602\n",
            "Epoch 172/200\n",
            "10/10 [==============================] - 0s 8ms/step - loss: 5.6713e-04 - val_loss: 4.9582\n",
            "Epoch 173/200\n",
            "10/10 [==============================] - 0s 8ms/step - loss: 5.6728e-04 - val_loss: 4.9673\n",
            "Epoch 174/200\n",
            "10/10 [==============================] - 0s 6ms/step - loss: 5.6464e-04 - val_loss: 4.9541\n",
            "Epoch 175/200\n",
            "10/10 [==============================] - 0s 8ms/step - loss: 5.6440e-04 - val_loss: 4.9683\n",
            "Epoch 176/200\n",
            "10/10 [==============================] - 0s 6ms/step - loss: 5.5688e-04 - val_loss: 4.9550\n",
            "Epoch 177/200\n",
            "10/10 [==============================] - 0s 7ms/step - loss: 6.2844e-04 - val_loss: 4.9642\n",
            "Epoch 178/200\n",
            "10/10 [==============================] - 0s 7ms/step - loss: 5.9008e-04 - val_loss: 4.9619\n",
            "Epoch 179/200\n",
            "10/10 [==============================] - 0s 7ms/step - loss: 5.5845e-04 - val_loss: 4.9603\n",
            "Epoch 180/200\n",
            "10/10 [==============================] - 0s 6ms/step - loss: 6.2165e-04 - val_loss: 4.9625\n",
            "Epoch 181/200\n",
            "10/10 [==============================] - 0s 7ms/step - loss: 5.4562e-04 - val_loss: 4.9628\n",
            "Epoch 182/200\n",
            "10/10 [==============================] - 0s 7ms/step - loss: 5.5378e-04 - val_loss: 4.9666\n",
            "Epoch 183/200\n",
            "10/10 [==============================] - 0s 8ms/step - loss: 5.5966e-04 - val_loss: 4.9556\n",
            "Epoch 184/200\n",
            "10/10 [==============================] - 0s 9ms/step - loss: 5.6843e-04 - val_loss: 4.9689\n",
            "Epoch 185/200\n",
            "10/10 [==============================] - 0s 7ms/step - loss: 5.6712e-04 - val_loss: 4.9580\n",
            "Epoch 186/200\n",
            "10/10 [==============================] - 0s 8ms/step - loss: 5.9212e-04 - val_loss: 4.9709\n",
            "Epoch 187/200\n",
            "10/10 [==============================] - 0s 6ms/step - loss: 6.0172e-04 - val_loss: 4.9586\n",
            "Epoch 188/200\n",
            "10/10 [==============================] - 0s 6ms/step - loss: 6.0521e-04 - val_loss: 4.9607\n",
            "Epoch 189/200\n",
            "10/10 [==============================] - 0s 8ms/step - loss: 5.5103e-04 - val_loss: 4.9619\n",
            "Epoch 190/200\n",
            "10/10 [==============================] - 0s 8ms/step - loss: 5.9680e-04 - val_loss: 4.9593\n",
            "Epoch 191/200\n",
            "10/10 [==============================] - 0s 6ms/step - loss: 5.7622e-04 - val_loss: 4.9589\n",
            "Epoch 192/200\n",
            "10/10 [==============================] - 0s 7ms/step - loss: 5.8751e-04 - val_loss: 4.9598\n",
            "Epoch 193/200\n",
            "10/10 [==============================] - 0s 8ms/step - loss: 6.0836e-04 - val_loss: 4.9630\n",
            "Epoch 194/200\n",
            "10/10 [==============================] - 0s 6ms/step - loss: 5.4395e-04 - val_loss: 4.9590\n",
            "Epoch 195/200\n",
            "10/10 [==============================] - 0s 9ms/step - loss: 5.5344e-04 - val_loss: 4.9557\n",
            "Epoch 196/200\n",
            "10/10 [==============================] - 0s 6ms/step - loss: 5.6728e-04 - val_loss: 4.9627\n",
            "Epoch 197/200\n",
            "10/10 [==============================] - 0s 8ms/step - loss: 5.5238e-04 - val_loss: 4.9597\n",
            "Epoch 198/200\n",
            "10/10 [==============================] - 0s 6ms/step - loss: 5.8114e-04 - val_loss: 4.9603\n",
            "Epoch 199/200\n",
            "10/10 [==============================] - 0s 8ms/step - loss: 5.7397e-04 - val_loss: 4.9542\n",
            "Epoch 200/200\n",
            "10/10 [==============================] - 0s 6ms/step - loss: 5.5564e-04 - val_loss: 4.9610\n"
          ]
        },
        {
          "output_type": "execute_result",
          "data": {
            "text/plain": [
              "<keras.callbacks.History at 0x7e81c71b9630>"
            ]
          },
          "metadata": {},
          "execution_count": 14
        }
      ]
    },
    {
      "cell_type": "code",
      "source": [
        "# Evaluate the model on the test set\n",
        "loss = model.evaluate(X_test, y_test)\n",
        "print(\"Test loss:\", loss)"
      ],
      "metadata": {
        "colab": {
          "base_uri": "https://localhost:8080/"
        },
        "id": "SDEsHfvuKSgr",
        "outputId": "29b5dfdf-51a8-4ee3-b712-87c0cef5ee16"
      },
      "execution_count": 15,
      "outputs": [
        {
          "output_type": "stream",
          "name": "stdout",
          "text": [
            "4/4 [==============================] - 0s 4ms/step - loss: 2.9002\n",
            "Test loss: 2.9002418518066406\n"
          ]
        }
      ]
    },
    {
      "cell_type": "code",
      "source": [
        "# Make predictions\n",
        "predictions = model.predict(X_test)"
      ],
      "metadata": {
        "colab": {
          "base_uri": "https://localhost:8080/"
        },
        "id": "ii4D2cCRKSd3",
        "outputId": "1b9ebb8d-e52e-4a81-926a-46caba2856c7"
      },
      "execution_count": 16,
      "outputs": [
        {
          "output_type": "stream",
          "name": "stdout",
          "text": [
            "4/4 [==============================] - 0s 3ms/step\n"
          ]
        }
      ]
    },
    {
      "cell_type": "code",
      "source": [
        "corr_coef = np.corrcoef(predictions, y_test)\n",
        "print(corr_coef)"
      ],
      "metadata": {
        "colab": {
          "base_uri": "https://localhost:8080/"
        },
        "id": "6VxkT_WgXvch",
        "outputId": "6252098a-0481-4334-fbd3-84ecbdf6c167"
      },
      "execution_count": 32,
      "outputs": [
        {
          "output_type": "stream",
          "name": "stdout",
          "text": [
            "[[nan nan nan ... nan nan nan]\n",
            " [nan nan nan ... nan nan nan]\n",
            " [nan nan nan ... nan nan nan]\n",
            " ...\n",
            " [nan nan nan ... nan nan nan]\n",
            " [nan nan nan ... nan nan nan]\n",
            " [nan nan nan ... nan nan nan]]\n"
          ]
        },
        {
          "output_type": "stream",
          "name": "stderr",
          "text": [
            "/usr/local/lib/python3.10/dist-packages/numpy/lib/function_base.py:2845: RuntimeWarning: Degrees of freedom <= 0 for slice\n",
            "  c = cov(x, y, rowvar, dtype=dtype)\n",
            "/usr/local/lib/python3.10/dist-packages/numpy/lib/function_base.py:2704: RuntimeWarning: divide by zero encountered in divide\n",
            "  c *= np.true_divide(1, fact)\n",
            "/usr/local/lib/python3.10/dist-packages/numpy/lib/function_base.py:2704: RuntimeWarning: invalid value encountered in multiply\n",
            "  c *= np.true_divide(1, fact)\n"
          ]
        }
      ]
    },
    {
      "cell_type": "code",
      "source": [
        "# acc\n",
        "from sklearn.metrics import mean_absolute_error , mean_squared_error\n",
        "mse = mean_squared_error(y_test, predictions)\n",
        "mse"
      ],
      "metadata": {
        "colab": {
          "base_uri": "https://localhost:8080/"
        },
        "id": "PEqtHx62QXJh",
        "outputId": "930d98b6-0e78-4366-d287-d9117b1f2c7f"
      },
      "execution_count": 17,
      "outputs": [
        {
          "output_type": "execute_result",
          "data": {
            "text/plain": [
              "2.900241467181055"
            ]
          },
          "metadata": {},
          "execution_count": 17
        }
      ]
    },
    {
      "cell_type": "code",
      "source": [
        "mean_absolute_error(y_test, predictions)"
      ],
      "metadata": {
        "colab": {
          "base_uri": "https://localhost:8080/"
        },
        "id": "fKSZlPVwQouw",
        "outputId": "123fd851-6353-47e3-f0f4-0d5f8a2b3a8c"
      },
      "execution_count": 18,
      "outputs": [
        {
          "output_type": "execute_result",
          "data": {
            "text/plain": [
              "0.27697328387133663"
            ]
          },
          "metadata": {},
          "execution_count": 18
        }
      ]
    },
    {
      "cell_type": "code",
      "source": [
        "rmse = mean_squared_error(y_test, predictions, squared =False)\n",
        "rmse"
      ],
      "metadata": {
        "colab": {
          "base_uri": "https://localhost:8080/"
        },
        "id": "SmKACHhfQwbZ",
        "outputId": "1720ca22-c7b3-4f13-e630-96ef72bca064"
      },
      "execution_count": 19,
      "outputs": [
        {
          "output_type": "execute_result",
          "data": {
            "text/plain": [
              "1.7030095323224281"
            ]
          },
          "metadata": {},
          "execution_count": 19
        }
      ]
    },
    {
      "cell_type": "code",
      "source": [
        "# visualization\n",
        "import numpy as np\n",
        "import matplotlib.pyplot as plt\n",
        "\n",
        "# Plotting the actual test data and predictions\n",
        "plt.figure(figsize=(6,3))\n",
        "plt.scatter(y_test, predictions, color='blue', label='Predictions')\n",
        "plt.plot([min(y_test), max(y_test)], [min(y_test), max(y_test)], color='red', linestyle='--', linewidth=2, label='Ideal')\n",
        "plt.xlabel('Actual Values')\n",
        "plt.ylabel('Predicted Values')\n",
        "plt.title('Actual vs. Predicted Values')\n",
        "plt.legend()\n",
        "plt.grid(True)\n",
        "plt.show()"
      ],
      "metadata": {
        "colab": {
          "base_uri": "https://localhost:8080/",
          "height": 333
        },
        "id": "ln7QucgIUa0U",
        "outputId": "76493a31-912d-4189-bce5-86f494a3bb77"
      },
      "execution_count": 20,
      "outputs": [
        {
          "output_type": "display_data",
          "data": {
            "text/plain": [
              "<Figure size 600x300 with 1 Axes>"
            ],
            "image/png": "[encoded data removed]"
          },
          "metadata": {}
        }
      ]
    },
    {
      "cell_type": "code",
      "source": [
        "pip install deap"
      ],
      "metadata": {
        "colab": {
          "base_uri": "https://localhost:8080/"
        },
        "id": "U8nARAkjWtRa",
        "outputId": "6bb90817-b05a-46f5-88de-7a27afc26307"
      },
      "execution_count": 22,
      "outputs": [
        {
          "output_type": "stream",
          "name": "stdout",
          "text": [
            "Collecting deap\n",
            "  Downloading deap-1.4.1-cp310-cp310-manylinux_2_5_x86_64.manylinux1_x86_64.manylinux_2_17_x86_64.manylinux2014_x86_64.whl (135 kB)\n",
            "\u001b[?25l     \u001b[90m━━━━━━━━━━━━━━━━━━━━━━━━━━━━━━━━━━━━━━━━\u001b[0m \u001b[32m0.0/135.4 kB\u001b[0m \u001b[31m?\u001b[0m eta \u001b[36m-:--:--\u001b[0m\r\u001b[2K     \u001b[91m━━━━━━━━━━━━━━━━━━━━━━━━\u001b[0m\u001b[90m╺\u001b[0m\u001b[90m━━━━━━━━━━━━━━━\u001b[0m \u001b[32m81.9/135.4 kB\u001b[0m \u001b[31m2.4 MB/s\u001b[0m eta \u001b[36m0:00:01\u001b[0m\r\u001b[2K     \u001b[90m━━━━━━━━━━━━━━━━━━━━━━━━━━━━━━━━━━━━━━━\u001b[0m \u001b[32m135.4/135.4 kB\u001b[0m \u001b[31m2.8 MB/s\u001b[0m eta \u001b[36m0:00:00\u001b[0m\n",
            "\u001b[?25hRequirement already satisfied: numpy in /usr/local/lib/python3.10/dist-packages (from deap) (1.23.5)\n",
            "Installing collected packages: deap\n",
            "Successfully installed deap-1.4.1\n"
          ]
        }
      ]
    },
    {
      "cell_type": "code",
      "source": [
        "from deap import base, creator, tools, algorithms"
      ],
      "metadata": {
        "id": "Dg1TgQpNWvie"
      },
      "execution_count": 23,
      "outputs": []
    },
    {
      "cell_type": "code",
      "source": [
        "#Define the Fitness Function\n",
        "def evaluate(individual):\n",
        "    hidden_units = individual[0]  # Chromosome represents the hidden layer units\n",
        "    mlp_model = build_mlp(hidden_units)\n",
        "    mlp_model.compile(optimizer='adam', loss='mean_squared_error')\n",
        "    mlp_model.fit(X_train, y_train, epochs=10, verbose=2)\n",
        "    y_pred = mlp_model.predict(X_test)\n",
        "    mse = np.mean(np.square(y_pred - y_test))\n",
        "    return mse"
      ],
      "metadata": {
        "id": "_lgXct4QTX8b"
      },
      "execution_count": 25,
      "outputs": []
    },
    {
      "cell_type": "code",
      "source": [
        "#Set Up the Genetic Algorithm\n",
        "creator.create(\"FitnessMin\", base.Fitness, weights=(-1.0,))\n",
        "creator.create(\"Individual\", list, fitness=creator.FitnessMin)\n",
        "\n",
        "toolbox = base.Toolbox()\n",
        "toolbox.register(\"hidden_units\", np.random.randint, low=2, high=20, size=3)  #adjust the range and size\n",
        "toolbox.register(\"individual\", tools.initIterate, creator.Individual, toolbox.hidden_units)\n",
        "toolbox.register(\"population\", tools.initRepeat, list, toolbox.individual)\n",
        "\n",
        "toolbox.register(\"mate\", tools.cxTwoPoint)\n",
        "toolbox.register(\"mutate\", tools.mutUniformInt, low=2, high=20, indpb=0.2)\n",
        "toolbox.register(\"select\", tools.selTournament, tournsize=3)\n",
        "toolbox.register(\"evaluate\", evaluate)"
      ],
      "metadata": {
        "id": "awhGzlDvsas8",
        "colab": {
          "base_uri": "https://localhost:8080/"
        },
        "outputId": "6253881a-d95c-4c48-d721-72a3ac2b1795"
      },
      "execution_count": 26,
      "outputs": [
        {
          "output_type": "stream",
          "name": "stderr",
          "text": [
            "/usr/local/lib/python3.10/dist-packages/deap/creator.py:185: RuntimeWarning: A class named 'FitnessMin' has already been created and it will be overwritten. Consider deleting previous creation of that class or rename it.\n",
            "  warnings.warn(\"A class named '{0}' has already been created and it \"\n",
            "/usr/local/lib/python3.10/dist-packages/deap/creator.py:185: RuntimeWarning: A class named 'Individual' has already been created and it will be overwritten. Consider deleting previous creation of that class or rename it.\n",
            "  warnings.warn(\"A class named '{0}' has already been created and it \"\n"
          ]
        }
      ]
    },
    {
      "cell_type": "code",
      "source": [
        "#Create the Initial Population\n",
        "population = toolbox.population(n=10)  #adjust the population size\n",
        "\n",
        "#Genetic Algorithm Loop\n",
        "ngen = 10  # Number of generations\n",
        "for gen in range(ngen):\n",
        "    offspring = algorithms.varAnd(population, toolbox, cxpb=0.7, mutpb=0.3)\n",
        "    fits = toolbox.map(toolbox.evaluate, offspring)\n",
        "    for fit, ind in zip(fits, offspring):\n",
        "        ind.fitness.values = fit\n",
        "    population = toolbox.select(offspring, k=len(population))"
      ],
      "metadata": {
        "id": "VvncbjxXslK6"
      },
      "execution_count": null,
      "outputs": []
    },
    {
      "cell_type": "code",
      "source": [
        "#Extract Best Hyperparameters\n",
        "best_individual = tools.selBest(population, k=1)[0]\n",
        "best_hidden_units = best_individual[0]"
      ],
      "metadata": {
        "id": "QfVngxsIsoDA"
      },
      "execution_count": null,
      "outputs": []
    },
    {
      "cell_type": "code",
      "source": [
        "#Train the MLP with Best Hyperparameters\n",
        "best_mlp_model = build_mlp(best_hidden_units)\n",
        "best_mlp_model.compile(optimizer='adam', loss='mean_squared_error')\n",
        "best_mlp_model.fit(X_train, y_train, epochs=100, verbose=1)"
      ],
      "metadata": {
        "id": "RFdFAfE3srpv"
      },
      "execution_count": null,
      "outputs": []
    },
    {
      "cell_type": "code",
      "source": [
        "best_mlp_model.run()"
      ],
      "metadata": {
        "id": "0aKI1-cZfH9b"
      },
      "execution_count": null,
      "outputs": []
    },
    {
      "cell_type": "code",
      "source": [
        "#Evaluate on Test Set\n",
        "y_pred = best_mlp_model.predict(X_test)\n",
        "ga_mse = np.mean(np.square(y_pred - y_test))\n",
        "print(\"Mean Squared Error:\", ga_mse)"
      ],
      "metadata": {
        "id": "tWjH83KDJKMn"
      },
      "execution_count": null,
      "outputs": []
    },
    {
      "cell_type": "code",
      "source": [
        "corr_coef = np.corrcoef(y_pred, y_test)\n",
        "print(corr_coef)"
      ],
      "metadata": {
        "id": "aUkNoEzhYEGv"
      },
      "execution_count": null,
      "outputs": []
    },
    {
      "cell_type": "code",
      "source": [
        "rho = corr_coef\n",
        "\n",
        "fig, ax = plt.subplots(nrows=1, ncols=3, figsize=(10, 3))\n",
        "for i in [0,1,2]:\n",
        "    ax[i].scatter(X_test[0,],X_test[1+i,])\n",
        "    ax[i].title.set_text('Correlation = ' + \"{:.2f}\".format(rho[0,i+1]))\n",
        "    ax[i].set(xlabel='x',ylabel='y')\n",
        "fig.subplots_adjust(wspace=.4)\n",
        "plt.show()"
      ],
      "metadata": {
        "colab": {
          "base_uri": "https://localhost:8080/",
          "height": 333
        },
        "id": "tRWMklnfY6V9",
        "outputId": "f950842c-187f-41c1-f91d-2e9ad9556f64"
      },
      "execution_count": 39,
      "outputs": [
        {
          "output_type": "display_data",
          "data": {
            "text/plain": [
              "<Figure size 1000x300 with 3 Axes>"
            ],
            "image/png": "[encoded data removed]"
          },
          "metadata": {}
        }
      ]
    },
    {
      "cell_type": "code",
      "source": [
        "# visualization\n",
        "import numpy as np\n",
        "import matplotlib.pyplot as plt\n",
        "\n",
        "# Plotting the actual test data and predictions\n",
        "plt.figure(figsize=(6,3))\n",
        "plt.scatter(y_test, y_pred, color='blue', label='Predictions')\n",
        "plt.plot([min(y_test), max(y_test)], [min(y_test), max(y_test)], color='red', linestyle='--', linewidth=2, label='Ideal')\n",
        "plt.xlabel('Actual Values')\n",
        "plt.ylabel('Predicted Values')\n",
        "plt.title('Actual vs. Predicted Values')\n",
        "plt.legend()\n",
        "plt.grid(True)\n",
        "plt.show()\n",
        "\n",
        "plt.scatter(y_train, predictions, color='blue', label='Predictions')\n",
        "plt.plot([min(y_train), max(y_train)], [min(y_train), max(y_train)], color='red', linestyle='--', linewidth=2, label='Ideal')\n",
        "plt.xlabel('Actual Values')\n",
        "plt.ylabel('Predicted Values')\n",
        "plt.title('Actual vs. Predicted Values')\n",
        "plt.legend()\n",
        "plt.grid(True)\n",
        "plt.show()"
      ],
      "metadata": {
        "id": "gdJvy5sVT9YH"
      },
      "execution_count": null,
      "outputs": []
    },
    {
      "cell_type": "code",
      "source": [
        "# acc score"
      ],
      "metadata": {
        "id": "NgoEWhu2GlJg"
      },
      "execution_count": null,
      "outputs": []
    },
    {
      "cell_type": "code",
      "source": [
        "#comparison before and after GA"
      ],
      "metadata": {
        "id": "LHsiEA8DcBaf"
      },
      "execution_count": null,
      "outputs": []
    },
    {
      "cell_type": "code",
      "source": [
        "# Create labels and values for the bar plot\n",
        "metrics = ['MSE', 'RMSE']\n",
        "values = [mse, ga_mse]\n",
        "\n",
        "# Plotting the bar plot\n",
        "plt.figure(figsize=(5,3))\n",
        "plt.bar(metrics, values, color=['blue', 'green'])\n",
        "plt.xlabel('Metrics')\n",
        "plt.ylabel('Value')\n",
        "plt.title('MSE and GA_MSE Comparison')\n",
        "plt.show()"
      ],
      "metadata": {
        "id": "JNBGKH2IUGEO"
      },
      "execution_count": null,
      "outputs": []
    }
  ]
}