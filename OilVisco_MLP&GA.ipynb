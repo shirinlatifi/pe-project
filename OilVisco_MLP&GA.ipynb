{
  "nbformat": 4,
  "nbformat_minor": 0,
  "metadata": {
    "colab": {
      "provenance": [],
      "include_colab_link": true
    },
    "kernelspec": {
      "name": "python3",
      "display_name": "Python 3"
    },
    "language_info": {
      "name": "python"
    }
  },
  "cells": [
    {
      "cell_type": "markdown",
      "metadata": {
        "id": "view-in-github",
        "colab_type": "text"
      },
      "source": [
        "<a href=\"https://colab.research.google.com/github/shirinlatifi/pe-project/blob/master/OilVisco_MLP.ipynb\" target=\"_parent\"><img src=\"https://colab.research.google.com/assets/colab-badge.svg\" alt=\"Open In Colab\"/></a>"
      ]
    },
    {
      "cell_type": "code",
      "execution_count": 1,
      "metadata": {
        "id": "NJv3wHp0e-lG"
      },
      "outputs": [],
      "source": [
        "import numpy as np\n",
        "import pandas as pd\n",
        "import tensorflow as tf\n",
        "from sklearn.model_selection import train_test_split\n",
        "from sklearn.preprocessing import StandardScaler"
      ]
    },
    {
      "cell_type": "code",
      "source": [
        "#load dataset\n",
        "# X: Input features\n",
        "# y: Target values\n",
        "\n",
        "df = pd.read_excel('oil visco.xlsx')"
      ],
      "metadata": {
        "id": "vctg5EpPKIIX"
      },
      "execution_count": 2,
      "outputs": []
    },
    {
      "cell_type": "code",
      "source": [
        "df"
      ],
      "metadata": {
        "id": "2KpzY1JSKlVt",
        "colab": {
          "base_uri": "https://localhost:8080/",
          "height": 423
        },
        "outputId": "25c048ae-78c8-421c-e522-6e9bec0468fd"
      },
      "execution_count": 3,
      "outputs": [
        {
          "output_type": "execute_result",
          "data": {
            "text/plain": [
              "         T       P     Visco\n",
              "0    266.0     NaN     0.100\n",
              "1    325.0     NaN     0.100\n",
              "2    325.0     NaN     0.200\n",
              "3    212.0     NaN     0.200\n",
              "4    258.0  3524.0     0.289\n",
              "..     ...     ...       ...\n",
              "490  145.0     NaN   220.000\n",
              "491  122.0     NaN   220.000\n",
              "492  132.1     NaN   243.500\n",
              "493  122.0     NaN   980.000\n",
              "494   64.4     NaN  1200.000\n",
              "\n",
              "[495 rows x 3 columns]"
            ],
            "text/html": [
              "\n",
              "  <div id=\"df-838d08bc-5524-4391-a0c8-2992aa1a0c66\" class=\"colab-df-container\">\n",
              "    <div>\n",
              "<style scoped>\n",
              "    .dataframe tbody tr th:only-of-type {\n",
              "        vertical-align: middle;\n",
              "    }\n",
              "\n",
              "    .dataframe tbody tr th {\n",
              "        vertical-align: top;\n",
              "    }\n",
              "\n",
              "    .dataframe thead th {\n",
              "        text-align: right;\n",
              "    }\n",
              "</style>\n",
              "<table border=\"1\" class=\"dataframe\">\n",
              "  <thead>\n",
              "    <tr style=\"text-align: right;\">\n",
              "      <th></th>\n",
              "      <th>T</th>\n",
              "      <th>P</th>\n",
              "      <th>Visco</th>\n",
              "    </tr>\n",
              "  </thead>\n",
              "  <tbody>\n",
              "    <tr>\n",
              "      <th>0</th>\n",
              "      <td>266.0</td>\n",
              "      <td>NaN</td>\n",
              "      <td>0.100</td>\n",
              "    </tr>\n",
              "    <tr>\n",
              "      <th>1</th>\n",
              "      <td>325.0</td>\n",
              "      <td>NaN</td>\n",
              "      <td>0.100</td>\n",
              "    </tr>\n",
              "    <tr>\n",
              "      <th>2</th>\n",
              "      <td>325.0</td>\n",
              "      <td>NaN</td>\n",
              "      <td>0.200</td>\n",
              "    </tr>\n",
              "    <tr>\n",
              "      <th>3</th>\n",
              "      <td>212.0</td>\n",
              "      <td>NaN</td>\n",
              "      <td>0.200</td>\n",
              "    </tr>\n",
              "    <tr>\n",
              "      <th>4</th>\n",
              "      <td>258.0</td>\n",
              "      <td>3524.0</td>\n",
              "      <td>0.289</td>\n",
              "    </tr>\n",
              "    <tr>\n",
              "      <th>...</th>\n",
              "      <td>...</td>\n",
              "      <td>...</td>\n",
              "      <td>...</td>\n",
              "    </tr>\n",
              "    <tr>\n",
              "      <th>490</th>\n",
              "      <td>145.0</td>\n",
              "      <td>NaN</td>\n",
              "      <td>220.000</td>\n",
              "    </tr>\n",
              "    <tr>\n",
              "      <th>491</th>\n",
              "      <td>122.0</td>\n",
              "      <td>NaN</td>\n",
              "      <td>220.000</td>\n",
              "    </tr>\n",
              "    <tr>\n",
              "      <th>492</th>\n",
              "      <td>132.1</td>\n",
              "      <td>NaN</td>\n",
              "      <td>243.500</td>\n",
              "    </tr>\n",
              "    <tr>\n",
              "      <th>493</th>\n",
              "      <td>122.0</td>\n",
              "      <td>NaN</td>\n",
              "      <td>980.000</td>\n",
              "    </tr>\n",
              "    <tr>\n",
              "      <th>494</th>\n",
              "      <td>64.4</td>\n",
              "      <td>NaN</td>\n",
              "      <td>1200.000</td>\n",
              "    </tr>\n",
              "  </tbody>\n",
              "</table>\n",
              "<p>495 rows × 3 columns</p>\n",
              "</div>\n",
              "    <div class=\"colab-df-buttons\">\n",
              "\n",
              "  <div class=\"colab-df-container\">\n",
              "    <button class=\"colab-df-convert\" onclick=\"convertToInteractive('df-838d08bc-5524-4391-a0c8-2992aa1a0c66')\"\n",
              "            title=\"Convert this dataframe to an interactive table.\"\n",
              "            style=\"display:none;\">\n",
              "\n",
              "  <svg xmlns=\"http://www.w3.org/2000/svg\" height=\"24px\" viewBox=\"0 -960 960 960\">\n",
              "    <path d=\"M120-120v-720h720v720H120Zm60-500h600v-160H180v160Zm220 220h160v-160H400v160Zm0 220h160v-160H400v160ZM180-400h160v-160H180v160Zm440 0h160v-160H620v160ZM180-180h160v-160H180v160Zm440 0h160v-160H620v160Z\"/>\n",
              "  </svg>\n",
              "    </button>\n",
              "\n",
              "  <style>\n",
              "    .colab-df-container {\n",
              "      display:flex;\n",
              "      gap: 12px;\n",
              "    }\n",
              "\n",
              "    .colab-df-convert {\n",
              "      background-color: #E8F0FE;\n",
              "      border: none;\n",
              "      border-radius: 50%;\n",
              "      cursor: pointer;\n",
              "      display: none;\n",
              "      fill: #1967D2;\n",
              "      height: 32px;\n",
              "      padding: 0 0 0 0;\n",
              "      width: 32px;\n",
              "    }\n",
              "\n",
              "    .colab-df-convert:hover {\n",
              "      background-color: #E2EBFA;\n",
              "      box-shadow: 0px 1px 2px rgba(60, 64, 67, 0.3), 0px 1px 3px 1px rgba(60, 64, 67, 0.15);\n",
              "      fill: #174EA6;\n",
              "    }\n",
              "\n",
              "    .colab-df-buttons div {\n",
              "      margin-bottom: 4px;\n",
              "    }\n",
              "\n",
              "    [theme=dark] .colab-df-convert {\n",
              "      background-color: #3B4455;\n",
              "      fill: #D2E3FC;\n",
              "    }\n",
              "\n",
              "    [theme=dark] .colab-df-convert:hover {\n",
              "      background-color: #434B5C;\n",
              "      box-shadow: 0px 1px 3px 1px rgba(0, 0, 0, 0.15);\n",
              "      filter: drop-shadow(0px 1px 2px rgba(0, 0, 0, 0.3));\n",
              "      fill: #FFFFFF;\n",
              "    }\n",
              "  </style>\n",
              "\n",
              "    <script>\n",
              "      const buttonEl =\n",
              "        document.querySelector('#df-838d08bc-5524-4391-a0c8-2992aa1a0c66 button.colab-df-convert');\n",
              "      buttonEl.style.display =\n",
              "        google.colab.kernel.accessAllowed ? 'block' : 'none';\n",
              "\n",
              "      async function convertToInteractive(key) {\n",
              "        const element = document.querySelector('#df-838d08bc-5524-4391-a0c8-2992aa1a0c66');\n",
              "        const dataTable =\n",
              "          await google.colab.kernel.invokeFunction('convertToInteractive',\n",
              "                                                    [key], {});\n",
              "        if (!dataTable) return;\n",
              "\n",
              "        const docLinkHtml = 'Like what you see? Visit the ' +\n",
              "          '<a target=\"_blank\" href=https://colab.research.google.com/notebooks/data_table.ipynb>data table notebook</a>'\n",
              "          + ' to learn more about interactive tables.';\n",
              "        element.innerHTML = '';\n",
              "        dataTable['output_type'] = 'display_data';\n",
              "        await google.colab.output.renderOutput(dataTable, element);\n",
              "        const docLink = document.createElement('div');\n",
              "        docLink.innerHTML = docLinkHtml;\n",
              "        element.appendChild(docLink);\n",
              "      }\n",
              "    </script>\n",
              "  </div>\n",
              "\n",
              "\n",
              "<div id=\"df-196be72b-a60b-46e8-9c39-c6fc9027606a\">\n",
              "  <button class=\"colab-df-quickchart\" onclick=\"quickchart('df-196be72b-a60b-46e8-9c39-c6fc9027606a')\"\n",
              "            title=\"Suggest charts.\"\n",
              "            style=\"display:none;\">\n",
              "\n",
              "<svg xmlns=\"http://www.w3.org/2000/svg\" height=\"24px\"viewBox=\"0 0 24 24\"\n",
              "     width=\"24px\">\n",
              "    <g>\n",
              "        <path d=\"M19 3H5c-1.1 0-2 .9-2 2v14c0 1.1.9 2 2 2h14c1.1 0 2-.9 2-2V5c0-1.1-.9-2-2-2zM9 17H7v-7h2v7zm4 0h-2V7h2v10zm4 0h-2v-4h2v4z\"/>\n",
              "    </g>\n",
              "</svg>\n",
              "  </button>\n",
              "\n",
              "<style>\n",
              "  .colab-df-quickchart {\n",
              "      --bg-color: #E8F0FE;\n",
              "      --fill-color: #1967D2;\n",
              "      --hover-bg-color: #E2EBFA;\n",
              "      --hover-fill-color: #174EA6;\n",
              "      --disabled-fill-color: #AAA;\n",
              "      --disabled-bg-color: #DDD;\n",
              "  }\n",
              "\n",
              "  [theme=dark] .colab-df-quickchart {\n",
              "      --bg-color: #3B4455;\n",
              "      --fill-color: #D2E3FC;\n",
              "      --hover-bg-color: #434B5C;\n",
              "      --hover-fill-color: #FFFFFF;\n",
              "      --disabled-bg-color: #3B4455;\n",
              "      --disabled-fill-color: #666;\n",
              "  }\n",
              "\n",
              "  .colab-df-quickchart {\n",
              "    background-color: var(--bg-color);\n",
              "    border: none;\n",
              "    border-radius: 50%;\n",
              "    cursor: pointer;\n",
              "    display: none;\n",
              "    fill: var(--fill-color);\n",
              "    height: 32px;\n",
              "    padding: 0;\n",
              "    width: 32px;\n",
              "  }\n",
              "\n",
              "  .colab-df-quickchart:hover {\n",
              "    background-color: var(--hover-bg-color);\n",
              "    box-shadow: 0 1px 2px rgba(60, 64, 67, 0.3), 0 1px 3px 1px rgba(60, 64, 67, 0.15);\n",
              "    fill: var(--button-hover-fill-color);\n",
              "  }\n",
              "\n",
              "  .colab-df-quickchart-complete:disabled,\n",
              "  .colab-df-quickchart-complete:disabled:hover {\n",
              "    background-color: var(--disabled-bg-color);\n",
              "    fill: var(--disabled-fill-color);\n",
              "    box-shadow: none;\n",
              "  }\n",
              "\n",
              "  .colab-df-spinner {\n",
              "    border: 2px solid var(--fill-color);\n",
              "    border-color: transparent;\n",
              "    border-bottom-color: var(--fill-color);\n",
              "    animation:\n",
              "      spin 1s steps(1) infinite;\n",
              "  }\n",
              "\n",
              "  @keyframes spin {\n",
              "    0% {\n",
              "      border-color: transparent;\n",
              "      border-bottom-color: var(--fill-color);\n",
              "      border-left-color: var(--fill-color);\n",
              "    }\n",
              "    20% {\n",
              "      border-color: transparent;\n",
              "      border-left-color: var(--fill-color);\n",
              "      border-top-color: var(--fill-color);\n",
              "    }\n",
              "    30% {\n",
              "      border-color: transparent;\n",
              "      border-left-color: var(--fill-color);\n",
              "      border-top-color: var(--fill-color);\n",
              "      border-right-color: var(--fill-color);\n",
              "    }\n",
              "    40% {\n",
              "      border-color: transparent;\n",
              "      border-right-color: var(--fill-color);\n",
              "      border-top-color: var(--fill-color);\n",
              "    }\n",
              "    60% {\n",
              "      border-color: transparent;\n",
              "      border-right-color: var(--fill-color);\n",
              "    }\n",
              "    80% {\n",
              "      border-color: transparent;\n",
              "      border-right-color: var(--fill-color);\n",
              "      border-bottom-color: var(--fill-color);\n",
              "    }\n",
              "    90% {\n",
              "      border-color: transparent;\n",
              "      border-bottom-color: var(--fill-color);\n",
              "    }\n",
              "  }\n",
              "</style>\n",
              "\n",
              "  <script>\n",
              "    async function quickchart(key) {\n",
              "      const quickchartButtonEl =\n",
              "        document.querySelector('#' + key + ' button');\n",
              "      quickchartButtonEl.disabled = true;  // To prevent multiple clicks.\n",
              "      quickchartButtonEl.classList.add('colab-df-spinner');\n",
              "      try {\n",
              "        const charts = await google.colab.kernel.invokeFunction(\n",
              "            'suggestCharts', [key], {});\n",
              "      } catch (error) {\n",
              "        console.error('Error during call to suggestCharts:', error);\n",
              "      }\n",
              "      quickchartButtonEl.classList.remove('colab-df-spinner');\n",
              "      quickchartButtonEl.classList.add('colab-df-quickchart-complete');\n",
              "    }\n",
              "    (() => {\n",
              "      let quickchartButtonEl =\n",
              "        document.querySelector('#df-196be72b-a60b-46e8-9c39-c6fc9027606a button');\n",
              "      quickchartButtonEl.style.display =\n",
              "        google.colab.kernel.accessAllowed ? 'block' : 'none';\n",
              "    })();\n",
              "  </script>\n",
              "</div>\n",
              "    </div>\n",
              "  </div>\n"
            ]
          },
          "metadata": {},
          "execution_count": 3
        }
      ]
    },
    {
      "cell_type": "code",
      "source": [
        "df['P'] = df['P'].fillna(df['P'].mean())"
      ],
      "metadata": {
        "id": "r8eyDA6GNBqE"
      },
      "execution_count": 4,
      "outputs": []
    },
    {
      "cell_type": "code",
      "source": [
        "df['T'] = df['T'].fillna(df['T'].mean())"
      ],
      "metadata": {
        "id": "UhS4DW49NF-I"
      },
      "execution_count": null,
      "outputs": []
    },
    {
      "cell_type": "code",
      "source": [
        "df.dropna(inplace=True)"
      ],
      "metadata": {
        "id": "lFWax348NNae"
      },
      "execution_count": 5,
      "outputs": []
    },
    {
      "cell_type": "code",
      "source": [
        "df.info()"
      ],
      "metadata": {
        "colab": {
          "base_uri": "https://localhost:8080/"
        },
        "id": "JV5nIF-lNNOe",
        "outputId": "4edbea33-0ba5-4913-fa82-150b21f7f494"
      },
      "execution_count": 6,
      "outputs": [
        {
          "output_type": "stream",
          "name": "stdout",
          "text": [
            "<class 'pandas.core.frame.DataFrame'>\n",
            "Int64Index: 488 entries, 0 to 494\n",
            "Data columns (total 3 columns):\n",
            " #   Column  Non-Null Count  Dtype  \n",
            "---  ------  --------------  -----  \n",
            " 0   T       488 non-null    float64\n",
            " 1   P       488 non-null    float64\n",
            " 2   Visco   488 non-null    float64\n",
            "dtypes: float64(3)\n",
            "memory usage: 15.2 KB\n"
          ]
        }
      ]
    },
    {
      "cell_type": "code",
      "source": [
        "df.corr()['Visco']"
      ],
      "metadata": {
        "colab": {
          "base_uri": "https://localhost:8080/"
        },
        "id": "x1M62DmhNNL1",
        "outputId": "0ef83274-79a3-40b4-a681-42207b834224"
      },
      "execution_count": 7,
      "outputs": [
        {
          "output_type": "execute_result",
          "data": {
            "text/plain": [
              "T       -0.091617\n",
              "P       -0.005034\n",
              "Visco    1.000000\n",
              "Name: Visco, dtype: float64"
            ]
          },
          "metadata": {},
          "execution_count": 7
        }
      ]
    },
    {
      "cell_type": "code",
      "source": [
        "# Split the dataset into training and testing sets\n",
        "X_train, X_test, y_train, y_test = train_test_split(df.drop('Visco', axis=1), df['Visco'], test_size=0.2, random_state=42)"
      ],
      "metadata": {
        "id": "otKHOAdvKKAE"
      },
      "execution_count": 9,
      "outputs": []
    },
    {
      "cell_type": "code",
      "source": [
        "# Standardize the input features\n",
        "scaler = StandardScaler()\n",
        "X_train = scaler.fit_transform(X_train)\n",
        "X_test = scaler.transform(X_test)\n",
        "y_train = scaler.fit_transform(np.array(y_train).reshape(-1,1))\n",
        "#y_train_scaled = scaler.transform(np.array(y_train).reshape(-1,1))\n",
        "y_test = scaler.transform(np.array(y_test).reshape(-1,1))"
      ],
      "metadata": {
        "id": "imiNR8ApKS8l"
      },
      "execution_count": 13,
      "outputs": []
    },
    {
      "cell_type": "code",
      "source": [
        "X_train.shape"
      ],
      "metadata": {
        "colab": {
          "base_uri": "https://localhost:8080/"
        },
        "id": "wxeNqiGwOuvH",
        "outputId": "15ab9dce-f7dc-4b99-bd4c-f1d299200ada"
      },
      "execution_count": 16,
      "outputs": [
        {
          "output_type": "execute_result",
          "data": {
            "text/plain": [
              "(390, 2)"
            ]
          },
          "metadata": {},
          "execution_count": 16
        }
      ]
    },
    {
      "cell_type": "code",
      "source": [
        "X_train.shape[0] , X_train.shape[1]"
      ],
      "metadata": {
        "colab": {
          "base_uri": "https://localhost:8080/"
        },
        "id": "MygsBA23Mi4v",
        "outputId": "7658175c-992d-4a7f-9924-59b7f1b362be"
      },
      "execution_count": 18,
      "outputs": [
        {
          "output_type": "execute_result",
          "data": {
            "text/plain": [
              "(390, 2)"
            ]
          },
          "metadata": {},
          "execution_count": 18
        }
      ]
    },
    {
      "cell_type": "code",
      "source": [
        "# Build the MLP model\n",
        "model = tf.keras.Sequential([\n",
        "    tf.keras.layers.Dense(780, activation='relu', input_dim=X_train.shape[1]),\n",
        "    tf.keras.layers.Dense(64, activation='relu'),\n",
        "    tf.keras.layers.Dense(1)  # Single output neuron for regression\n",
        "])"
      ],
      "metadata": {
        "id": "KLrYp6sRKS4L"
      },
      "execution_count": 20,
      "outputs": []
    },
    {
      "cell_type": "code",
      "source": [
        "# Compile the model\n",
        "model.compile(optimizer='adam', loss='mean_squared_error')"
      ],
      "metadata": {
        "id": "N3r7juu8KSmF"
      },
      "execution_count": 21,
      "outputs": []
    },
    {
      "cell_type": "code",
      "source": [
        "# Train the model\n",
        "model.fit(X_train, y_train, epochs=200, batch_size=32, validation_split=0.2)"
      ],
      "metadata": {
        "colab": {
          "base_uri": "https://localhost:8080/"
        },
        "id": "8VIkJugXKSjQ",
        "outputId": "ea7ed9f2-0b56-4c96-837e-22948ef201af"
      },
      "execution_count": 22,
      "outputs": [
        {
          "output_type": "stream",
          "name": "stdout",
          "text": [
            "Epoch 1/200\n",
            "10/10 [==============================] - 1s 26ms/step - loss: 0.4986 - val_loss: 2.9825\n",
            "Epoch 2/200\n",
            "10/10 [==============================] - 0s 6ms/step - loss: 0.4935 - val_loss: 3.0507\n",
            "Epoch 3/200\n",
            "10/10 [==============================] - 0s 6ms/step - loss: 0.4974 - val_loss: 3.0666\n",
            "Epoch 4/200\n",
            "10/10 [==============================] - 0s 8ms/step - loss: 0.4912 - val_loss: 3.0069\n",
            "Epoch 5/200\n",
            "10/10 [==============================] - 0s 8ms/step - loss: 0.4960 - val_loss: 3.0703\n",
            "Epoch 6/200\n",
            "10/10 [==============================] - 0s 6ms/step - loss: 0.4919 - val_loss: 3.0035\n",
            "Epoch 7/200\n",
            "10/10 [==============================] - 0s 8ms/step - loss: 0.4919 - val_loss: 3.0421\n",
            "Epoch 8/200\n",
            "10/10 [==============================] - 0s 9ms/step - loss: 0.4920 - val_loss: 3.0659\n",
            "Epoch 9/200\n",
            "10/10 [==============================] - 0s 8ms/step - loss: 0.4918 - val_loss: 3.0702\n",
            "Epoch 10/200\n",
            "10/10 [==============================] - 0s 6ms/step - loss: 0.4899 - val_loss: 3.0299\n",
            "Epoch 11/200\n",
            "10/10 [==============================] - 0s 9ms/step - loss: 0.4909 - val_loss: 3.0427\n",
            "Epoch 12/200\n",
            "10/10 [==============================] - 0s 7ms/step - loss: 0.4921 - val_loss: 3.0769\n",
            "Epoch 13/200\n",
            "10/10 [==============================] - 0s 5ms/step - loss: 0.4912 - val_loss: 3.0467\n",
            "Epoch 14/200\n",
            "10/10 [==============================] - 0s 4ms/step - loss: 0.4906 - val_loss: 3.0674\n",
            "Epoch 15/200\n",
            "10/10 [==============================] - 0s 5ms/step - loss: 0.4917 - val_loss: 3.0628\n",
            "Epoch 16/200\n",
            "10/10 [==============================] - 0s 7ms/step - loss: 0.4924 - val_loss: 3.0839\n",
            "Epoch 17/200\n",
            "10/10 [==============================] - 0s 4ms/step - loss: 0.4899 - val_loss: 3.0422\n",
            "Epoch 18/200\n",
            "10/10 [==============================] - 0s 6ms/step - loss: 0.4908 - val_loss: 3.0687\n",
            "Epoch 19/200\n",
            "10/10 [==============================] - 0s 6ms/step - loss: 0.4898 - val_loss: 3.0575\n",
            "Epoch 20/200\n",
            "10/10 [==============================] - 0s 6ms/step - loss: 0.4896 - val_loss: 3.0700\n",
            "Epoch 21/200\n",
            "10/10 [==============================] - 0s 4ms/step - loss: 0.4905 - val_loss: 3.0885\n",
            "Epoch 22/200\n",
            "10/10 [==============================] - 0s 4ms/step - loss: 0.4890 - val_loss: 3.0726\n",
            "Epoch 23/200\n",
            "10/10 [==============================] - 0s 6ms/step - loss: 0.4926 - val_loss: 3.0621\n",
            "Epoch 24/200\n",
            "10/10 [==============================] - 0s 7ms/step - loss: 0.4887 - val_loss: 3.1035\n",
            "Epoch 25/200\n",
            "10/10 [==============================] - 0s 7ms/step - loss: 0.4894 - val_loss: 3.0938\n",
            "Epoch 26/200\n",
            "10/10 [==============================] - 0s 4ms/step - loss: 0.4890 - val_loss: 3.0924\n",
            "Epoch 27/200\n",
            "10/10 [==============================] - 0s 4ms/step - loss: 0.4901 - val_loss: 3.1111\n",
            "Epoch 28/200\n",
            "10/10 [==============================] - 0s 4ms/step - loss: 0.4921 - val_loss: 3.0558\n",
            "Epoch 29/200\n",
            "10/10 [==============================] - 0s 4ms/step - loss: 0.4890 - val_loss: 3.1031\n",
            "Epoch 30/200\n",
            "10/10 [==============================] - 0s 5ms/step - loss: 0.4902 - val_loss: 3.1190\n",
            "Epoch 31/200\n",
            "10/10 [==============================] - 0s 5ms/step - loss: 0.4864 - val_loss: 3.0639\n",
            "Epoch 32/200\n",
            "10/10 [==============================] - 0s 6ms/step - loss: 0.4898 - val_loss: 3.0973\n",
            "Epoch 33/200\n",
            "10/10 [==============================] - 0s 4ms/step - loss: 0.4932 - val_loss: 3.1238\n",
            "Epoch 34/200\n",
            "10/10 [==============================] - 0s 4ms/step - loss: 0.4876 - val_loss: 3.0606\n",
            "Epoch 35/200\n",
            "10/10 [==============================] - 0s 4ms/step - loss: 0.4879 - val_loss: 3.1002\n",
            "Epoch 36/200\n",
            "10/10 [==============================] - 0s 5ms/step - loss: 0.4884 - val_loss: 3.1110\n",
            "Epoch 37/200\n",
            "10/10 [==============================] - 0s 5ms/step - loss: 0.4883 - val_loss: 3.1162\n",
            "Epoch 38/200\n",
            "10/10 [==============================] - 0s 4ms/step - loss: 0.4897 - val_loss: 3.1139\n",
            "Epoch 39/200\n",
            "10/10 [==============================] - 0s 7ms/step - loss: 0.4878 - val_loss: 3.0849\n",
            "Epoch 40/200\n",
            "10/10 [==============================] - 0s 6ms/step - loss: 0.4862 - val_loss: 3.1366\n",
            "Epoch 41/200\n",
            "10/10 [==============================] - 0s 5ms/step - loss: 0.4915 - val_loss: 3.1431\n",
            "Epoch 42/200\n",
            "10/10 [==============================] - 0s 7ms/step - loss: 0.4870 - val_loss: 3.0816\n",
            "Epoch 43/200\n",
            "10/10 [==============================] - 0s 5ms/step - loss: 0.4906 - val_loss: 3.1598\n",
            "Epoch 44/200\n",
            "10/10 [==============================] - 0s 5ms/step - loss: 0.4857 - val_loss: 3.1009\n",
            "Epoch 45/200\n",
            "10/10 [==============================] - 0s 5ms/step - loss: 0.4888 - val_loss: 3.1588\n",
            "Epoch 46/200\n",
            "10/10 [==============================] - 0s 5ms/step - loss: 0.4914 - val_loss: 3.1644\n",
            "Epoch 47/200\n",
            "10/10 [==============================] - 0s 5ms/step - loss: 0.4847 - val_loss: 3.0966\n",
            "Epoch 48/200\n",
            "10/10 [==============================] - 0s 7ms/step - loss: 0.4853 - val_loss: 3.1418\n",
            "Epoch 49/200\n",
            "10/10 [==============================] - 0s 7ms/step - loss: 0.4846 - val_loss: 3.1579\n",
            "Epoch 50/200\n",
            "10/10 [==============================] - 0s 4ms/step - loss: 0.4848 - val_loss: 3.1586\n",
            "Epoch 51/200\n",
            "10/10 [==============================] - 0s 6ms/step - loss: 0.4846 - val_loss: 3.1652\n",
            "Epoch 52/200\n",
            "10/10 [==============================] - 0s 5ms/step - loss: 0.4878 - val_loss: 3.1907\n",
            "Epoch 53/200\n",
            "10/10 [==============================] - 0s 5ms/step - loss: 0.4915 - val_loss: 3.1172\n",
            "Epoch 54/200\n",
            "10/10 [==============================] - 0s 5ms/step - loss: 0.4833 - val_loss: 3.2102\n",
            "Epoch 55/200\n",
            "10/10 [==============================] - 0s 8ms/step - loss: 0.4872 - val_loss: 3.1642\n",
            "Epoch 56/200\n",
            "10/10 [==============================] - 0s 5ms/step - loss: 0.4848 - val_loss: 3.1594\n",
            "Epoch 57/200\n",
            "10/10 [==============================] - 0s 5ms/step - loss: 0.4845 - val_loss: 3.1805\n",
            "Epoch 58/200\n",
            "10/10 [==============================] - 0s 5ms/step - loss: 0.4854 - val_loss: 3.1770\n",
            "Epoch 59/200\n",
            "10/10 [==============================] - 0s 5ms/step - loss: 0.4828 - val_loss: 3.1599\n",
            "Epoch 60/200\n",
            "10/10 [==============================] - 0s 5ms/step - loss: 0.4822 - val_loss: 3.2076\n",
            "Epoch 61/200\n",
            "10/10 [==============================] - 0s 5ms/step - loss: 0.4856 - val_loss: 3.1687\n",
            "Epoch 62/200\n",
            "10/10 [==============================] - 0s 7ms/step - loss: 0.4831 - val_loss: 3.1606\n",
            "Epoch 63/200\n",
            "10/10 [==============================] - 0s 6ms/step - loss: 0.4823 - val_loss: 3.1899\n",
            "Epoch 64/200\n",
            "10/10 [==============================] - 0s 5ms/step - loss: 0.4826 - val_loss: 3.1796\n",
            "Epoch 65/200\n",
            "10/10 [==============================] - 0s 5ms/step - loss: 0.4829 - val_loss: 3.2002\n",
            "Epoch 66/200\n",
            "10/10 [==============================] - 0s 7ms/step - loss: 0.4826 - val_loss: 3.2072\n",
            "Epoch 67/200\n",
            "10/10 [==============================] - 0s 7ms/step - loss: 0.4816 - val_loss: 3.2220\n",
            "Epoch 68/200\n",
            "10/10 [==============================] - 0s 4ms/step - loss: 0.4858 - val_loss: 3.2023\n",
            "Epoch 69/200\n",
            "10/10 [==============================] - 0s 5ms/step - loss: 0.4891 - val_loss: 3.1371\n",
            "Epoch 70/200\n",
            "10/10 [==============================] - 0s 5ms/step - loss: 0.4856 - val_loss: 3.2406\n",
            "Epoch 71/200\n",
            "10/10 [==============================] - 0s 7ms/step - loss: 0.4852 - val_loss: 3.1880\n",
            "Epoch 72/200\n",
            "10/10 [==============================] - 0s 6ms/step - loss: 0.4824 - val_loss: 3.2301\n",
            "Epoch 73/200\n",
            "10/10 [==============================] - 0s 6ms/step - loss: 0.4819 - val_loss: 3.1991\n",
            "Epoch 74/200\n",
            "10/10 [==============================] - 0s 4ms/step - loss: 0.4810 - val_loss: 3.1964\n",
            "Epoch 75/200\n",
            "10/10 [==============================] - 0s 7ms/step - loss: 0.4802 - val_loss: 3.2197\n",
            "Epoch 76/200\n",
            "10/10 [==============================] - 0s 5ms/step - loss: 0.4839 - val_loss: 3.2183\n",
            "Epoch 77/200\n",
            "10/10 [==============================] - 0s 5ms/step - loss: 0.4804 - val_loss: 3.1787\n",
            "Epoch 78/200\n",
            "10/10 [==============================] - 0s 5ms/step - loss: 0.4798 - val_loss: 3.2274\n",
            "Epoch 79/200\n",
            "10/10 [==============================] - 0s 5ms/step - loss: 0.4826 - val_loss: 3.1995\n",
            "Epoch 80/200\n",
            "10/10 [==============================] - 0s 7ms/step - loss: 0.4822 - val_loss: 3.2296\n",
            "Epoch 81/200\n",
            "10/10 [==============================] - 0s 7ms/step - loss: 0.4794 - val_loss: 3.2051\n",
            "Epoch 82/200\n",
            "10/10 [==============================] - 0s 6ms/step - loss: 0.4792 - val_loss: 3.2056\n",
            "Epoch 83/200\n",
            "10/10 [==============================] - 0s 5ms/step - loss: 0.4787 - val_loss: 3.2431\n",
            "Epoch 84/200\n",
            "10/10 [==============================] - 0s 6ms/step - loss: 0.4810 - val_loss: 3.2135\n",
            "Epoch 85/200\n",
            "10/10 [==============================] - 0s 5ms/step - loss: 0.4799 - val_loss: 3.2189\n",
            "Epoch 86/200\n",
            "10/10 [==============================] - 0s 5ms/step - loss: 0.4794 - val_loss: 3.2299\n",
            "Epoch 87/200\n",
            "10/10 [==============================] - 0s 6ms/step - loss: 0.4795 - val_loss: 3.2478\n",
            "Epoch 88/200\n",
            "10/10 [==============================] - 0s 4ms/step - loss: 0.4804 - val_loss: 3.2159\n",
            "Epoch 89/200\n",
            "10/10 [==============================] - 0s 5ms/step - loss: 0.4791 - val_loss: 3.2436\n",
            "Epoch 90/200\n",
            "10/10 [==============================] - 0s 5ms/step - loss: 0.4804 - val_loss: 3.2356\n",
            "Epoch 91/200\n",
            "10/10 [==============================] - 0s 7ms/step - loss: 0.4800 - val_loss: 3.2400\n",
            "Epoch 92/200\n",
            "10/10 [==============================] - 0s 4ms/step - loss: 0.4781 - val_loss: 3.2209\n",
            "Epoch 93/200\n",
            "10/10 [==============================] - 0s 4ms/step - loss: 0.4794 - val_loss: 3.2350\n",
            "Epoch 94/200\n",
            "10/10 [==============================] - 0s 6ms/step - loss: 0.4791 - val_loss: 3.2272\n",
            "Epoch 95/200\n",
            "10/10 [==============================] - 0s 7ms/step - loss: 0.4825 - val_loss: 3.2629\n",
            "Epoch 96/200\n",
            "10/10 [==============================] - 0s 5ms/step - loss: 0.4799 - val_loss: 3.2073\n",
            "Epoch 97/200\n",
            "10/10 [==============================] - 0s 7ms/step - loss: 0.4772 - val_loss: 3.2647\n",
            "Epoch 98/200\n",
            "10/10 [==============================] - 0s 7ms/step - loss: 0.4810 - val_loss: 3.2113\n",
            "Epoch 99/200\n",
            "10/10 [==============================] - 0s 5ms/step - loss: 0.4777 - val_loss: 3.2615\n",
            "Epoch 100/200\n",
            "10/10 [==============================] - 0s 5ms/step - loss: 0.4816 - val_loss: 3.2211\n",
            "Epoch 101/200\n",
            "10/10 [==============================] - 0s 6ms/step - loss: 0.4792 - val_loss: 3.2083\n",
            "Epoch 102/200\n",
            "10/10 [==============================] - 0s 6ms/step - loss: 0.4794 - val_loss: 3.2442\n",
            "Epoch 103/200\n",
            "10/10 [==============================] - 0s 7ms/step - loss: 0.4782 - val_loss: 3.2316\n",
            "Epoch 104/200\n",
            "10/10 [==============================] - 0s 5ms/step - loss: 0.4766 - val_loss: 3.2182\n",
            "Epoch 105/200\n",
            "10/10 [==============================] - 0s 6ms/step - loss: 0.4789 - val_loss: 3.2242\n",
            "Epoch 106/200\n",
            "10/10 [==============================] - 0s 5ms/step - loss: 0.4770 - val_loss: 3.2288\n",
            "Epoch 107/200\n",
            "10/10 [==============================] - 0s 6ms/step - loss: 0.4759 - val_loss: 3.2448\n",
            "Epoch 108/200\n",
            "10/10 [==============================] - 0s 5ms/step - loss: 0.4785 - val_loss: 3.2165\n",
            "Epoch 109/200\n",
            "10/10 [==============================] - 0s 5ms/step - loss: 0.4756 - val_loss: 3.2424\n",
            "Epoch 110/200\n",
            "10/10 [==============================] - 0s 5ms/step - loss: 0.4768 - val_loss: 3.2305\n",
            "Epoch 111/200\n",
            "10/10 [==============================] - 0s 5ms/step - loss: 0.4766 - val_loss: 3.2385\n",
            "Epoch 112/200\n",
            "10/10 [==============================] - 0s 5ms/step - loss: 0.4750 - val_loss: 3.2556\n",
            "Epoch 113/200\n",
            "10/10 [==============================] - 0s 5ms/step - loss: 0.4806 - val_loss: 3.1987\n",
            "Epoch 114/200\n",
            "10/10 [==============================] - 0s 5ms/step - loss: 0.4778 - val_loss: 3.2076\n",
            "Epoch 115/200\n",
            "10/10 [==============================] - 0s 5ms/step - loss: 0.4764 - val_loss: 3.2341\n",
            "Epoch 116/200\n",
            "10/10 [==============================] - 0s 5ms/step - loss: 0.4746 - val_loss: 3.2229\n",
            "Epoch 117/200\n",
            "10/10 [==============================] - 0s 7ms/step - loss: 0.4746 - val_loss: 3.2264\n",
            "Epoch 118/200\n",
            "10/10 [==============================] - 0s 5ms/step - loss: 0.4788 - val_loss: 3.2274\n",
            "Epoch 119/200\n",
            "10/10 [==============================] - 0s 5ms/step - loss: 0.4737 - val_loss: 3.1759\n",
            "Epoch 120/200\n",
            "10/10 [==============================] - 0s 7ms/step - loss: 0.4732 - val_loss: 3.2301\n",
            "Epoch 121/200\n",
            "10/10 [==============================] - 0s 7ms/step - loss: 0.4757 - val_loss: 3.2200\n",
            "Epoch 122/200\n",
            "10/10 [==============================] - 0s 8ms/step - loss: 0.4747 - val_loss: 3.2131\n",
            "Epoch 123/200\n",
            "10/10 [==============================] - 0s 7ms/step - loss: 0.4768 - val_loss: 3.2183\n",
            "Epoch 124/200\n",
            "10/10 [==============================] - 0s 6ms/step - loss: 0.4732 - val_loss: 3.1793\n",
            "Epoch 125/200\n",
            "10/10 [==============================] - 0s 5ms/step - loss: 0.4758 - val_loss: 3.2352\n",
            "Epoch 126/200\n",
            "10/10 [==============================] - 0s 6ms/step - loss: 0.4748 - val_loss: 3.2058\n",
            "Epoch 127/200\n",
            "10/10 [==============================] - 0s 7ms/step - loss: 0.4755 - val_loss: 3.2254\n",
            "Epoch 128/200\n",
            "10/10 [==============================] - 0s 7ms/step - loss: 0.4833 - val_loss: 3.2146\n",
            "Epoch 129/200\n",
            "10/10 [==============================] - 0s 7ms/step - loss: 0.4881 - val_loss: 3.1742\n",
            "Epoch 130/200\n",
            "10/10 [==============================] - 0s 7ms/step - loss: 0.4775 - val_loss: 3.2424\n",
            "Epoch 131/200\n",
            "10/10 [==============================] - 0s 5ms/step - loss: 0.4748 - val_loss: 3.2023\n",
            "Epoch 132/200\n",
            "10/10 [==============================] - 0s 5ms/step - loss: 0.4753 - val_loss: 3.2072\n",
            "Epoch 133/200\n",
            "10/10 [==============================] - 0s 7ms/step - loss: 0.4735 - val_loss: 3.1988\n",
            "Epoch 134/200\n",
            "10/10 [==============================] - 0s 5ms/step - loss: 0.4727 - val_loss: 3.2061\n",
            "Epoch 135/200\n",
            "10/10 [==============================] - 0s 5ms/step - loss: 0.4743 - val_loss: 3.2189\n",
            "Epoch 136/200\n",
            "10/10 [==============================] - 0s 5ms/step - loss: 0.4751 - val_loss: 3.1835\n",
            "Epoch 137/200\n",
            "10/10 [==============================] - 0s 5ms/step - loss: 0.4739 - val_loss: 3.2182\n",
            "Epoch 138/200\n",
            "10/10 [==============================] - 0s 8ms/step - loss: 0.4727 - val_loss: 3.2167\n",
            "Epoch 139/200\n",
            "10/10 [==============================] - 0s 7ms/step - loss: 0.4757 - val_loss: 3.2028\n",
            "Epoch 140/200\n",
            "10/10 [==============================] - 0s 5ms/step - loss: 0.4706 - val_loss: 3.1722\n",
            "Epoch 141/200\n",
            "10/10 [==============================] - 0s 5ms/step - loss: 0.4720 - val_loss: 3.1818\n",
            "Epoch 142/200\n",
            "10/10 [==============================] - 0s 7ms/step - loss: 0.4746 - val_loss: 3.2226\n",
            "Epoch 143/200\n",
            "10/10 [==============================] - 0s 7ms/step - loss: 0.4717 - val_loss: 3.1715\n",
            "Epoch 144/200\n",
            "10/10 [==============================] - 0s 5ms/step - loss: 0.4688 - val_loss: 3.2303\n",
            "Epoch 145/200\n",
            "10/10 [==============================] - 0s 5ms/step - loss: 0.4739 - val_loss: 3.1773\n",
            "Epoch 146/200\n",
            "10/10 [==============================] - 0s 5ms/step - loss: 0.4748 - val_loss: 3.2146\n",
            "Epoch 147/200\n",
            "10/10 [==============================] - 0s 6ms/step - loss: 0.4685 - val_loss: 3.1582\n",
            "Epoch 148/200\n",
            "10/10 [==============================] - 0s 7ms/step - loss: 0.4682 - val_loss: 3.1906\n",
            "Epoch 149/200\n",
            "10/10 [==============================] - 0s 5ms/step - loss: 0.4744 - val_loss: 3.2088\n",
            "Epoch 150/200\n",
            "10/10 [==============================] - 0s 6ms/step - loss: 0.4703 - val_loss: 3.1417\n",
            "Epoch 151/200\n",
            "10/10 [==============================] - 0s 5ms/step - loss: 0.4691 - val_loss: 3.1973\n",
            "Epoch 152/200\n",
            "10/10 [==============================] - 0s 7ms/step - loss: 0.4684 - val_loss: 3.1976\n",
            "Epoch 153/200\n",
            "10/10 [==============================] - 0s 5ms/step - loss: 0.4690 - val_loss: 3.2093\n",
            "Epoch 154/200\n",
            "10/10 [==============================] - 0s 6ms/step - loss: 0.4731 - val_loss: 3.1550\n",
            "Epoch 155/200\n",
            "10/10 [==============================] - 0s 6ms/step - loss: 0.4677 - val_loss: 3.1720\n",
            "Epoch 156/200\n",
            "10/10 [==============================] - 0s 7ms/step - loss: 0.4643 - val_loss: 3.1898\n",
            "Epoch 157/200\n",
            "10/10 [==============================] - 0s 5ms/step - loss: 0.4656 - val_loss: 3.1970\n",
            "Epoch 158/200\n",
            "10/10 [==============================] - 0s 7ms/step - loss: 0.4668 - val_loss: 3.1536\n",
            "Epoch 159/200\n",
            "10/10 [==============================] - 0s 6ms/step - loss: 0.4664 - val_loss: 3.2270\n",
            "Epoch 160/200\n",
            "10/10 [==============================] - 0s 5ms/step - loss: 0.4725 - val_loss: 3.1966\n",
            "Epoch 161/200\n",
            "10/10 [==============================] - 0s 5ms/step - loss: 0.4648 - val_loss: 3.1185\n",
            "Epoch 162/200\n",
            "10/10 [==============================] - 0s 5ms/step - loss: 0.4650 - val_loss: 3.2215\n",
            "Epoch 163/200\n",
            "10/10 [==============================] - 0s 5ms/step - loss: 0.4688 - val_loss: 3.1481\n",
            "Epoch 164/200\n",
            "10/10 [==============================] - 0s 5ms/step - loss: 0.4682 - val_loss: 3.1988\n",
            "Epoch 165/200\n",
            "10/10 [==============================] - 0s 5ms/step - loss: 0.4736 - val_loss: 3.1583\n",
            "Epoch 166/200\n",
            "10/10 [==============================] - 0s 5ms/step - loss: 0.4725 - val_loss: 3.1564\n",
            "Epoch 167/200\n",
            "10/10 [==============================] - 0s 6ms/step - loss: 0.4741 - val_loss: 3.2199\n",
            "Epoch 168/200\n",
            "10/10 [==============================] - 0s 7ms/step - loss: 0.4698 - val_loss: 3.1240\n",
            "Epoch 169/200\n",
            "10/10 [==============================] - 0s 7ms/step - loss: 0.4651 - val_loss: 3.1605\n",
            "Epoch 170/200\n",
            "10/10 [==============================] - 0s 7ms/step - loss: 0.4666 - val_loss: 3.1601\n",
            "Epoch 171/200\n",
            "10/10 [==============================] - 0s 5ms/step - loss: 0.4637 - val_loss: 3.1260\n",
            "Epoch 172/200\n",
            "10/10 [==============================] - 0s 4ms/step - loss: 0.4630 - val_loss: 3.1494\n",
            "Epoch 173/200\n",
            "10/10 [==============================] - 0s 4ms/step - loss: 0.4650 - val_loss: 3.1561\n",
            "Epoch 174/200\n",
            "10/10 [==============================] - 0s 4ms/step - loss: 0.4637 - val_loss: 3.1214\n",
            "Epoch 175/200\n",
            "10/10 [==============================] - 0s 4ms/step - loss: 0.4612 - val_loss: 3.1452\n",
            "Epoch 176/200\n",
            "10/10 [==============================] - 0s 6ms/step - loss: 0.4609 - val_loss: 3.1716\n",
            "Epoch 177/200\n",
            "10/10 [==============================] - 0s 7ms/step - loss: 0.4638 - val_loss: 3.1230\n",
            "Epoch 178/200\n",
            "10/10 [==============================] - 0s 7ms/step - loss: 0.4665 - val_loss: 3.1646\n",
            "Epoch 179/200\n",
            "10/10 [==============================] - 0s 6ms/step - loss: 0.4624 - val_loss: 3.1051\n",
            "Epoch 180/200\n",
            "10/10 [==============================] - 0s 6ms/step - loss: 0.4637 - val_loss: 3.1578\n",
            "Epoch 181/200\n",
            "10/10 [==============================] - 0s 7ms/step - loss: 0.4647 - val_loss: 3.1183\n",
            "Epoch 182/200\n",
            "10/10 [==============================] - 0s 9ms/step - loss: 0.4607 - val_loss: 3.1895\n",
            "Epoch 183/200\n",
            "10/10 [==============================] - 0s 6ms/step - loss: 0.4758 - val_loss: 3.0858\n",
            "Epoch 184/200\n",
            "10/10 [==============================] - 0s 8ms/step - loss: 0.4753 - val_loss: 3.1554\n",
            "Epoch 185/200\n",
            "10/10 [==============================] - 0s 6ms/step - loss: 0.4679 - val_loss: 3.1727\n",
            "Epoch 186/200\n",
            "10/10 [==============================] - 0s 8ms/step - loss: 0.4643 - val_loss: 3.1032\n",
            "Epoch 187/200\n",
            "10/10 [==============================] - 0s 8ms/step - loss: 0.4643 - val_loss: 3.1216\n",
            "Epoch 188/200\n",
            "10/10 [==============================] - 0s 8ms/step - loss: 0.4614 - val_loss: 3.1362\n",
            "Epoch 189/200\n",
            "10/10 [==============================] - 0s 6ms/step - loss: 0.4654 - val_loss: 3.1127\n",
            "Epoch 190/200\n",
            "10/10 [==============================] - 0s 8ms/step - loss: 0.4763 - val_loss: 3.1296\n",
            "Epoch 191/200\n",
            "10/10 [==============================] - 0s 9ms/step - loss: 0.4665 - val_loss: 3.2300\n",
            "Epoch 192/200\n",
            "10/10 [==============================] - 0s 8ms/step - loss: 0.4690 - val_loss: 3.0758\n",
            "Epoch 193/200\n",
            "10/10 [==============================] - 0s 7ms/step - loss: 0.4646 - val_loss: 3.0763\n",
            "Epoch 194/200\n",
            "10/10 [==============================] - 0s 9ms/step - loss: 0.4603 - val_loss: 3.1834\n",
            "Epoch 195/200\n",
            "10/10 [==============================] - 0s 9ms/step - loss: 0.4603 - val_loss: 3.0891\n",
            "Epoch 196/200\n",
            "10/10 [==============================] - 0s 6ms/step - loss: 0.4661 - val_loss: 3.1323\n",
            "Epoch 197/200\n",
            "10/10 [==============================] - 0s 9ms/step - loss: 0.4576 - val_loss: 3.0848\n",
            "Epoch 198/200\n",
            "10/10 [==============================] - 0s 8ms/step - loss: 0.4553 - val_loss: 3.1060\n",
            "Epoch 199/200\n",
            "10/10 [==============================] - 0s 8ms/step - loss: 0.4605 - val_loss: 3.1323\n",
            "Epoch 200/200\n",
            "10/10 [==============================] - 0s 6ms/step - loss: 0.4552 - val_loss: 3.1105\n"
          ]
        },
        {
          "output_type": "execute_result",
          "data": {
            "text/plain": [
              "<keras.callbacks.History at 0x7b6e3091ada0>"
            ]
          },
          "metadata": {},
          "execution_count": 22
        }
      ]
    },
    {
      "cell_type": "code",
      "source": [
        "# Evaluate the model on the test set\n",
        "loss = model.evaluate(X_test, y_test)\n",
        "print(\"Test loss:\", loss)"
      ],
      "metadata": {
        "colab": {
          "base_uri": "https://localhost:8080/"
        },
        "id": "SDEsHfvuKSgr",
        "outputId": "d0b2af1c-1615-46da-beeb-0a7dc7aa3086"
      },
      "execution_count": 23,
      "outputs": [
        {
          "output_type": "stream",
          "name": "stdout",
          "text": [
            "4/4 [==============================] - 0s 3ms/step - loss: 0.1755\n",
            "Test loss: 0.17549718916416168\n"
          ]
        }
      ]
    },
    {
      "cell_type": "code",
      "source": [
        "# Make predictions\n",
        "predictions = model.predict(X_test)"
      ],
      "metadata": {
        "colab": {
          "base_uri": "https://localhost:8080/"
        },
        "id": "ii4D2cCRKSd3",
        "outputId": "3b62c201-7fab-442f-bf75-9bf70612a4cf"
      },
      "execution_count": 24,
      "outputs": [
        {
          "output_type": "stream",
          "name": "stdout",
          "text": [
            "4/4 [==============================] - 0s 3ms/step\n"
          ]
        }
      ]
    },
    {
      "cell_type": "code",
      "source": [
        "# acc\n",
        "from sklearn.metrics import mean_absolute_error , mean_squared_error\n",
        "mse = mean_squared_error(y_test, predictions)\n",
        "mse"
      ],
      "metadata": {
        "colab": {
          "base_uri": "https://localhost:8080/"
        },
        "id": "PEqtHx62QXJh",
        "outputId": "5177fae7-515d-4cfb-fd5d-caad4e4dd0ec"
      },
      "execution_count": 26,
      "outputs": [
        {
          "output_type": "execute_result",
          "data": {
            "text/plain": [
              "0.1754972001225352"
            ]
          },
          "metadata": {},
          "execution_count": 26
        }
      ]
    },
    {
      "cell_type": "code",
      "source": [
        "mean_absolute_error(y_test, predictions)"
      ],
      "metadata": {
        "colab": {
          "base_uri": "https://localhost:8080/"
        },
        "id": "fKSZlPVwQouw",
        "outputId": "87b33fcd-3ec3-418f-9ea0-381ef2abedea"
      },
      "execution_count": 27,
      "outputs": [
        {
          "output_type": "execute_result",
          "data": {
            "text/plain": [
              "0.11700222651501399"
            ]
          },
          "metadata": {},
          "execution_count": 27
        }
      ]
    },
    {
      "cell_type": "code",
      "source": [
        "rmse = mean_squared_error(y_test, predictions, squared =False)\n",
        "rmse"
      ],
      "metadata": {
        "colab": {
          "base_uri": "https://localhost:8080/"
        },
        "id": "SmKACHhfQwbZ",
        "outputId": "95938da6-6ed1-4615-ad11-080f9ef19f70"
      },
      "execution_count": 28,
      "outputs": [
        {
          "output_type": "execute_result",
          "data": {
            "text/plain": [
              "0.4189238595765765"
            ]
          },
          "metadata": {},
          "execution_count": 28
        }
      ]
    },
    {
      "cell_type": "code",
      "source": [
        "# visualization\n",
        "import numpy as np\n",
        "import matplotlib.pyplot as plt\n",
        "\n",
        "# Plotting the actual test data and predictions\n",
        "plt.figure(figsize=(6,3))\n",
        "plt.scatter(y_test, predictions, color='blue', label='Predictions')\n",
        "plt.plot([min(y_test), max(y_test)], [min(y_test), max(y_test)], color='red', linestyle='--', linewidth=2, label='Ideal')\n",
        "plt.xlabel('Actual Values')\n",
        "plt.ylabel('Predicted Values')\n",
        "plt.title('Actual vs. Predicted Values')\n",
        "plt.legend()\n",
        "plt.grid(True)\n",
        "plt.show()"
      ],
      "metadata": {
        "colab": {
          "base_uri": "https://localhost:8080/",
          "height": 333
        },
        "id": "ln7QucgIUa0U",
        "outputId": "2e21a6c5-4939-4f2f-82fa-6015263b626d"
      },
      "execution_count": 29,
      "outputs": [
        {
          "output_type": "display_data",
          "data": {
            "text/plain": [
              "<Figure size 600x300 with 1 Axes>"
            ],
            "image/png": "[encoded data removed]"
          },
          "metadata": {}
        }
      ]
    },
    {
      "cell_type": "code",
      "source": [
        "# Create labels and values for the bar plot\n",
        "metrics = ['MSE', 'RMSE']\n",
        "values = [mse, rmse]\n",
        "\n",
        "# Plotting the bar plot\n",
        "plt.figure(figsize=(5,3))\n",
        "plt.bar(metrics, values, color=['blue', 'green'])\n",
        "plt.xlabel('Metrics')\n",
        "plt.ylabel('Value')\n",
        "plt.title('MSE and RMSE Comparison')\n",
        "plt.show()"
      ],
      "metadata": {
        "colab": {
          "base_uri": "https://localhost:8080/",
          "height": 333
        },
        "id": "VVlAi4vNWGSt",
        "outputId": "5ce3827f-8406-4cad-aa4b-60d6184a9145"
      },
      "execution_count": 30,
      "outputs": [
        {
          "output_type": "display_data",
          "data": {
            "text/plain": [
              "<Figure size 500x300 with 1 Axes>"
            ],
            "image/png": "[encoded data removed]"
          },
          "metadata": {}
        }
      ]
    },
    {
      "cell_type": "code",
      "source": [
        "pip install deap"
      ],
      "metadata": {
        "colab": {
          "base_uri": "https://localhost:8080/"
        },
        "id": "U8nARAkjWtRa",
        "outputId": "7da9c263-e49c-4c24-fc2d-dfbb57526e81"
      },
      "execution_count": 32,
      "outputs": [
        {
          "output_type": "stream",
          "name": "stdout",
          "text": [
            "Collecting deap\n",
            "  Downloading deap-1.4.1-cp310-cp310-manylinux_2_5_x86_64.manylinux1_x86_64.manylinux_2_17_x86_64.manylinux2014_x86_64.whl (135 kB)\n",
            "\u001b[?25l     \u001b[90m━━━━━━━━━━━━━━━━━━━━━━━━━━━━━━━━━━━━━━━━\u001b[0m \u001b[32m0.0/135.4 kB\u001b[0m \u001b[31m?\u001b[0m eta \u001b[36m-:--:--\u001b[0m\r\u001b[2K     \u001b[90m━━━━━━━━━━━━━━━━━━━━━━━━━━━━━━━━━━━━━━━\u001b[0m \u001b[32m135.4/135.4 kB\u001b[0m \u001b[31m4.7 MB/s\u001b[0m eta \u001b[36m0:00:00\u001b[0m\n",
            "\u001b[?25hRequirement already satisfied: numpy in /usr/local/lib/python3.10/dist-packages (from deap) (1.23.5)\n",
            "Installing collected packages: deap\n",
            "Successfully installed deap-1.4.1\n"
          ]
        }
      ]
    },
    {
      "cell_type": "code",
      "source": [
        "from deap import base, creator, tools, algorithms"
      ],
      "metadata": {
        "id": "Dg1TgQpNWvie"
      },
      "execution_count": 33,
      "outputs": []
    },
    {
      "cell_type": "code",
      "source": [
        "#Set Up the Genetic Algorithm\n",
        "creator.create(\"FitnessMin\", base.Fitness, weights=(-1.0,))\n",
        "creator.create(\"Individual\", list, fitness=creator.FitnessMin)\n",
        "\n",
        "toolbox = base.Toolbox()\n",
        "toolbox.register(\"hidden_units\", np.random.randint, low=2, high=20, size=3)  #adjust the range and size\n",
        "toolbox.register(\"individual\", tools.initIterate, creator.Individual, toolbox.hidden_units)\n",
        "toolbox.register(\"population\", tools.initRepeat, list, toolbox.individual)\n",
        "\n",
        "toolbox.register(\"mate\", tools.cxTwoPoint)\n",
        "toolbox.register(\"mutate\", tools.mutUniformInt, low=2, high=20, indpb=0.2)\n",
        "toolbox.register(\"select\", tools.selTournament, tournsize=3)\n",
        "toolbox.register(\"evaluate\", loss)"
      ],
      "metadata": {
        "id": "awhGzlDvsas8",
        "colab": {
          "base_uri": "https://localhost:8080/",
          "height": 439
        },
        "outputId": "7ac30246-37ae-448e-fa15-925ee52c5bff"
      },
      "execution_count": 37,
      "outputs": [
        {
          "output_type": "stream",
          "name": "stderr",
          "text": [
            "/usr/local/lib/python3.10/dist-packages/deap/creator.py:185: RuntimeWarning: A class named 'FitnessMin' has already been created and it will be overwritten. Consider deleting previous creation of that class or rename it.\n",
            "  warnings.warn(\"A class named '{0}' has already been created and it \"\n",
            "/usr/local/lib/python3.10/dist-packages/deap/creator.py:185: RuntimeWarning: A class named 'Individual' has already been created and it will be overwritten. Consider deleting previous creation of that class or rename it.\n",
            "  warnings.warn(\"A class named '{0}' has already been created and it \"\n"
          ]
        },
        {
          "output_type": "error",
          "ename": "TypeError",
          "evalue": "ignored",
          "traceback": [
            "\u001b[0;31m---------------------------------------------------------------------------\u001b[0m",
            "\u001b[0;31mTypeError\u001b[0m                                 Traceback (most recent call last)",
            "\u001b[0;32m<ipython-input-37-04716732119d>\u001b[0m in \u001b[0;36m<cell line: 13>\u001b[0;34m()\u001b[0m\n\u001b[1;32m     11\u001b[0m \u001b[0mtoolbox\u001b[0m\u001b[0;34m.\u001b[0m\u001b[0mregister\u001b[0m\u001b[0;34m(\u001b[0m\u001b[0;34m\"mutate\"\u001b[0m\u001b[0;34m,\u001b[0m \u001b[0mtools\u001b[0m\u001b[0;34m.\u001b[0m\u001b[0mmutUniformInt\u001b[0m\u001b[0;34m,\u001b[0m \u001b[0mlow\u001b[0m\u001b[0;34m=\u001b[0m\u001b[0;36m2\u001b[0m\u001b[0;34m,\u001b[0m \u001b[0mhigh\u001b[0m\u001b[0;34m=\u001b[0m\u001b[0;36m20\u001b[0m\u001b[0;34m,\u001b[0m \u001b[0mindpb\u001b[0m\u001b[0;34m=\u001b[0m\u001b[0;36m0.2\u001b[0m\u001b[0;34m)\u001b[0m\u001b[0;34m\u001b[0m\u001b[0;34m\u001b[0m\u001b[0m\n\u001b[1;32m     12\u001b[0m \u001b[0mtoolbox\u001b[0m\u001b[0;34m.\u001b[0m\u001b[0mregister\u001b[0m\u001b[0;34m(\u001b[0m\u001b[0;34m\"select\"\u001b[0m\u001b[0;34m,\u001b[0m \u001b[0mtools\u001b[0m\u001b[0;34m.\u001b[0m\u001b[0mselTournament\u001b[0m\u001b[0;34m,\u001b[0m \u001b[0mtournsize\u001b[0m\u001b[0;34m=\u001b[0m\u001b[0;36m3\u001b[0m\u001b[0;34m)\u001b[0m\u001b[0;34m\u001b[0m\u001b[0;34m\u001b[0m\u001b[0m\n\u001b[0;32m---> 13\u001b[0;31m \u001b[0mtoolbox\u001b[0m\u001b[0;34m.\u001b[0m\u001b[0mregister\u001b[0m\u001b[0;34m(\u001b[0m\u001b[0;34m\"evaluate\"\u001b[0m\u001b[0;34m,\u001b[0m \u001b[0mmse\u001b[0m\u001b[0;34m)\u001b[0m\u001b[0;34m\u001b[0m\u001b[0;34m\u001b[0m\u001b[0m\n\u001b[0m",
            "\u001b[0;32m/usr/local/lib/python3.10/dist-packages/deap/base.py\u001b[0m in \u001b[0;36mregister\u001b[0;34m(self, alias, function, *args, **kargs)\u001b[0m\n\u001b[1;32m     79\u001b[0m         \u001b[0;32mwith\u001b[0m \u001b[0mthe\u001b[0m \u001b[0moriginal\u001b[0m \u001b[0mfunction\u001b[0m\u001b[0;31m'\u001b[0m\u001b[0ms\u001b[0m \u001b[0minstance\u001b[0m \u001b[0mdictionary\u001b[0m\u001b[0;34m,\u001b[0m \u001b[0;32mif\u001b[0m \u001b[0many\u001b[0m\u001b[0;34m.\u001b[0m\u001b[0;34m\u001b[0m\u001b[0;34m\u001b[0m\u001b[0m\n\u001b[1;32m     80\u001b[0m         \"\"\"\n\u001b[0;32m---> 81\u001b[0;31m         \u001b[0mpfunc\u001b[0m \u001b[0;34m=\u001b[0m \u001b[0mpartial\u001b[0m\u001b[0;34m(\u001b[0m\u001b[0mfunction\u001b[0m\u001b[0;34m,\u001b[0m \u001b[0;34m*\u001b[0m\u001b[0margs\u001b[0m\u001b[0;34m,\u001b[0m \u001b[0;34m**\u001b[0m\u001b[0mkargs\u001b[0m\u001b[0;34m)\u001b[0m\u001b[0;34m\u001b[0m\u001b[0;34m\u001b[0m\u001b[0m\n\u001b[0m\u001b[1;32m     82\u001b[0m         \u001b[0mpfunc\u001b[0m\u001b[0;34m.\u001b[0m\u001b[0m__name__\u001b[0m \u001b[0;34m=\u001b[0m \u001b[0malias\u001b[0m\u001b[0;34m\u001b[0m\u001b[0;34m\u001b[0m\u001b[0m\n\u001b[1;32m     83\u001b[0m         \u001b[0mpfunc\u001b[0m\u001b[0;34m.\u001b[0m\u001b[0m__doc__\u001b[0m \u001b[0;34m=\u001b[0m \u001b[0mfunction\u001b[0m\u001b[0;34m.\u001b[0m\u001b[0m__doc__\u001b[0m\u001b[0;34m\u001b[0m\u001b[0;34m\u001b[0m\u001b[0m\n",
            "\u001b[0;31mTypeError\u001b[0m: the first argument must be callable"
          ]
        }
      ]
    },
    {
      "cell_type": "code",
      "source": [
        "#Create the Initial Population\n",
        "population = toolbox.population(n=10)  #adjust the population size\n",
        "\n",
        "#Genetic Algorithm Loop\n",
        "ngen = 10  # Number of generations\n",
        "for gen in range(ngen):\n",
        "    offspring = algorithms.varAnd(population, toolbox, cxpb=0.7, mutpb=0.3)\n",
        "    fits = toolbox.map(toolbox.evaluate, offspring)\n",
        "    for fit, ind in zip(fits, offspring):\n",
        "        ind.fitness.values = fit\n",
        "    population = toolbox.select(offspring, k=len(population))"
      ],
      "metadata": {
        "id": "VvncbjxXslK6"
      },
      "execution_count": null,
      "outputs": []
    },
    {
      "cell_type": "code",
      "source": [
        "#Extract Best Hyperparameters\n",
        "best_individual = tools.selBest(population, k=1)[0]\n",
        "best_hidden_units = best_individual[0]"
      ],
      "metadata": {
        "id": "QfVngxsIsoDA"
      },
      "execution_count": null,
      "outputs": []
    },
    {
      "cell_type": "code",
      "source": [
        "#Train the MLP with Best Hyperparameters\n",
        "best_mlp_model = build_mlp(best_hidden_units)\n",
        "best_mlp_model.compile(optimizer='adam', loss='mean_squared_error')\n",
        "best_mlp_model.fit(X_train, y_train, epochs=100, verbose=1)"
      ],
      "metadata": {
        "id": "RFdFAfE3srpv"
      },
      "execution_count": null,
      "outputs": []
    },
    {
      "cell_type": "code",
      "source": [
        "#Evaluate on Test Set\n",
        "y_pred = best_mlp_model.predict(X_test)\n",
        "mse = np.mean(np.square(y_pred - y_test))\n",
        "print(\"Mean Squared Error:\", mse)"
      ],
      "metadata": {
        "id": "tWjH83KDJKMn"
      },
      "execution_count": null,
      "outputs": []
    },
    {
      "cell_type": "code",
      "source": [
        "# prediction"
      ],
      "metadata": {
        "id": "AOxmDfjYEgff"
      },
      "execution_count": null,
      "outputs": []
    },
    {
      "cell_type": "code",
      "source": [
        "# acc score mse"
      ],
      "metadata": {
        "id": "NgoEWhu2GlJg"
      },
      "execution_count": null,
      "outputs": []
    },
    {
      "cell_type": "code",
      "source": [
        "#comparison before and after GA"
      ],
      "metadata": {
        "id": "LHsiEA8DcBaf"
      },
      "execution_count": null,
      "outputs": []
    },
    {
      "cell_type": "code",
      "source": [
        "# visualization"
      ],
      "metadata": {
        "id": "Yp8PAFHaUHoy"
      },
      "execution_count": null,
      "outputs": []
    }
  ]
}
