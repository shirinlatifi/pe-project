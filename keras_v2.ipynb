{
  "nbformat": 4,
  "nbformat_minor": 0,
  "metadata": {
    "colab": {
      "provenance": [],
      "include_colab_link": true
    },
    "kernelspec": {
      "name": "python3",
      "display_name": "Python 3"
    },
    "language_info": {
      "name": "python"
    }
  },
  "cells": [
    {
      "cell_type": "markdown",
      "metadata": {
        "id": "view-in-github",
        "colab_type": "text"
      },
      "source": [
        "<a href=\"https://colab.research.google.com/github/shirinlatifi/pe-project/blob/master/keras_v2.ipynb\" target=\"_parent\"><img src=\"https://colab.research.google.com/assets/colab-badge.svg\" alt=\"Open In Colab\"/></a>"
      ]
    },
    {
      "cell_type": "code",
      "source": [
        "import numpy as np\n",
        "import pandas as pd\n",
        "import seaborn as sns\n",
        "import matplotlib.pyplot as plt\n",
        "import sklearn as sk\n",
        "%matplotlib inline"
      ],
      "metadata": {
        "id": "wItVXhdkkbR1"
      },
      "execution_count": null,
      "outputs": []
    },
    {
      "cell_type": "code",
      "execution_count": null,
      "metadata": {
        "id": "8KHXUagaoCnn"
      },
      "outputs": [],
      "source": [
        "import numpy as np\n",
        "from random import randint\n",
        "from sklearn.utils import shuffle\n",
        "from sklearn.preprocessing import MinMaxScaler"
      ]
    },
    {
      "cell_type": "code",
      "source": [
        "df = pd.read_excel('oil SG.xlsx')"
      ],
      "metadata": {
        "id": "OYZlNjpp7Tsy"
      },
      "execution_count": null,
      "outputs": []
    },
    {
      "cell_type": "code",
      "source": [
        "df.drop('Rs', axis=1, inplace=True)"
      ],
      "metadata": {
        "id": "Wdia4iTnBXJ_"
      },
      "execution_count": null,
      "outputs": []
    },
    {
      "cell_type": "code",
      "source": [
        "df"
      ],
      "metadata": {
        "id": "nYN7UsywAljP"
      },
      "execution_count": null,
      "outputs": []
    },
    {
      "cell_type": "code",
      "source": [
        "def fillnanP(col):\n",
        "    if pd.isnull(col):\n",
        "      return (df['P']!=np.NAN).mean()\n",
        "    else:\n",
        "      return col"
      ],
      "metadata": {
        "id": "iUvaFA26-JUS"
      },
      "execution_count": null,
      "outputs": []
    },
    {
      "cell_type": "code",
      "source": [
        "def fillnanT(col):\n",
        "    if pd.isnull(col):\n",
        "      return (df['T']!=np.NAN).mean()\n",
        "    else:\n",
        "      return col"
      ],
      "metadata": {
        "id": "Pc3q70jqJF5J"
      },
      "execution_count": null,
      "outputs": []
    },
    {
      "cell_type": "code",
      "source": [
        "df['P'] = df['P'].apply(fillnanP)"
      ],
      "metadata": {
        "id": "jUHHoVPV__24"
      },
      "execution_count": null,
      "outputs": []
    },
    {
      "cell_type": "code",
      "source": [
        "df['T'] = df['T'].apply(fillnanT)"
      ],
      "metadata": {
        "id": "1kk9BO2oJdlg"
      },
      "execution_count": null,
      "outputs": []
    },
    {
      "cell_type": "code",
      "source": [
        "df.dropna(inplace=True)"
      ],
      "metadata": {
        "id": "g9ypB3inEx1S"
      },
      "execution_count": null,
      "outputs": []
    },
    {
      "cell_type": "code",
      "source": [
        "df.corr()"
      ],
      "metadata": {
        "id": "Na3X7Cin3hrl"
      },
      "execution_count": null,
      "outputs": []
    },
    {
      "cell_type": "code",
      "source": [
        "df.corr()['Sgo']"
      ],
      "metadata": {
        "id": "OqGk9K1W3_hj"
      },
      "execution_count": null,
      "outputs": []
    },
    {
      "cell_type": "code",
      "source": [
        "sns.scatterplot(data=df, x='P', y='Sgo', alpha=0.3)"
      ],
      "metadata": {
        "id": "_a3C-jjV4hpq"
      },
      "execution_count": null,
      "outputs": []
    },
    {
      "cell_type": "code",
      "source": [
        "# df['P'] = df['P'].fillna(df['P'].mean())"
      ],
      "metadata": {
        "id": "bosSDOOc9c5Z"
      },
      "execution_count": null,
      "outputs": []
    },
    {
      "cell_type": "code",
      "source": [
        "sns.scatterplot(data=df, x='T', y='Sgo')"
      ],
      "metadata": {
        "id": "c0-lC6PR4oWk"
      },
      "execution_count": null,
      "outputs": []
    },
    {
      "cell_type": "code",
      "source": [
        "df.info()"
      ],
      "metadata": {
        "colab": {
          "base_uri": "https://localhost:8080/"
        },
        "id": "OFHt51sZEisl",
        "outputId": "90b8260d-0625-46b0-d61f-86d419c34f0f"
      },
      "execution_count": null,
      "outputs": [
        {
          "output_type": "stream",
          "name": "stdout",
          "text": [
            "<class 'pandas.core.frame.DataFrame'>\n",
            "Int64Index: 480 entries, 0 to 505\n",
            "Data columns (total 3 columns):\n",
            " #   Column  Non-Null Count  Dtype  \n",
            "---  ------  --------------  -----  \n",
            " 0   T       480 non-null    float64\n",
            " 1   P       480 non-null    float64\n",
            " 2   Sgo     480 non-null    float64\n",
            "dtypes: float64(3)\n",
            "memory usage: 15.0 KB\n"
          ]
        }
      ]
    },
    {
      "cell_type": "code",
      "source": [
        "from sklearn.model_selection import train_test_split"
      ],
      "metadata": {
        "id": "6LLH14llc03C"
      },
      "execution_count": null,
      "outputs": []
    },
    {
      "cell_type": "code",
      "source": [
        "X_train,X_test, y_train, y_test = train_test_split(scaled_X, df['Sgo'], test_size=0.1, random_state=100)"
      ],
      "metadata": {
        "id": "yexk660tc0oL"
      },
      "execution_count": null,
      "outputs": []
    },
    {
      "cell_type": "code",
      "source": [
        "scaler = MinMaxScaler(feature_range=(0,1))\n",
        "X_train =  scaler.fit_transform(X_train)\n",
        "X_test = scaler.transform(X_test)"
      ],
      "metadata": {
        "id": "9FOF16KwCP56"
      },
      "execution_count": null,
      "outputs": []
    },
    {
      "cell_type": "code",
      "source": [
        "X_train.max()"
      ],
      "metadata": {
        "id": "DjaiXDpkkBP0"
      },
      "execution_count": null,
      "outputs": []
    },
    {
      "cell_type": "code",
      "source": [
        "X_train.min()"
      ],
      "metadata": {
        "id": "nHcOJMw4kEWk"
      },
      "execution_count": null,
      "outputs": []
    },
    {
      "cell_type": "code",
      "source": [
        "type(scaled_X)"
      ],
      "metadata": {
        "colab": {
          "base_uri": "https://localhost:8080/"
        },
        "id": "G2vkinF9DjUa",
        "outputId": "2373229c-dfd3-4fb4-ffbc-6e6752ab5af5"
      },
      "execution_count": null,
      "outputs": [
        {
          "output_type": "execute_result",
          "data": {
            "text/plain": [
              "numpy.ndarray"
            ]
          },
          "metadata": {},
          "execution_count": 71
        }
      ]
    },
    {
      "cell_type": "code",
      "source": [
        "df['P'] = scaled_X[:, 1]"
      ],
      "metadata": {
        "id": "Ivz3D8c8CFuw"
      },
      "execution_count": null,
      "outputs": []
    },
    {
      "cell_type": "code",
      "source": [
        "df['T'] = scaled_X[:, 0]"
      ],
      "metadata": {
        "id": "QE4wqmCCEQbX"
      },
      "execution_count": null,
      "outputs": []
    },
    {
      "cell_type": "code",
      "source": [
        "df"
      ],
      "metadata": {
        "id": "gL6Pld0tEsDP"
      },
      "execution_count": null,
      "outputs": []
    },
    {
      "cell_type": "code",
      "source": [
        "sns.pairplot(df)"
      ],
      "metadata": {
        "id": "H5QpqEVMLekJ"
      },
      "execution_count": null,
      "outputs": []
    },
    {
      "cell_type": "markdown",
      "source": [
        "# keras modeling"
      ],
      "metadata": {
        "id": "8bZfw-sKIH2d"
      }
    },
    {
      "cell_type": "code",
      "source": [
        "import scipy as sc"
      ],
      "metadata": {
        "id": "8PT367UDIDhg"
      },
      "execution_count": null,
      "outputs": []
    },
    {
      "cell_type": "code",
      "source": [
        "import tensorflow as tf"
      ],
      "metadata": {
        "id": "-LlffJg5IDeW"
      },
      "execution_count": null,
      "outputs": []
    },
    {
      "cell_type": "code",
      "source": [
        "from tensorflow import keras\n",
        "from tensorflow.keras.models import Sequential\n",
        "from tensorflow.keras.layers import Activation, Dense\n",
        "from tensorflow.keras.optimizers import Adam\n",
        "from tensorflow.keras.metrics import categorical_crossentropy"
      ],
      "metadata": {
        "id": "wux4UO5BIDbq"
      },
      "execution_count": null,
      "outputs": []
    },
    {
      "cell_type": "code",
      "source": [
        "# help()"
      ],
      "metadata": {
        "id": "kmsrqvK-lOO1"
      },
      "execution_count": null,
      "outputs": []
    },
    {
      "cell_type": "markdown",
      "source": [
        "# creat first hidden layer"
      ],
      "metadata": {
        "id": "iQgyhoDhP9Wk"
      }
    },
    {
      "cell_type": "code",
      "source": [
        "model = Sequential([\n",
        "    Dense(units=16, input_shape=(2,), activation='relu'),\n",
        "    Dense(units=32, activation='relu'),\n",
        "    # Dense(units=2, activation='softmax')\n",
        "     Dense(units=1)\n",
        "])"
      ],
      "metadata": {
        "id": "9fsELlyDQAEO"
      },
      "execution_count": null,
      "outputs": []
    },
    {
      "cell_type": "code",
      "source": [
        "model"
      ],
      "metadata": {
        "colab": {
          "base_uri": "https://localhost:8080/"
        },
        "id": "iYbZ0uQvRa42",
        "outputId": "6bc749e2-6f57-41a2-93c0-2ced510cc9ee"
      },
      "execution_count": null,
      "outputs": [
        {
          "output_type": "execute_result",
          "data": {
            "text/plain": [
              "<keras.engine.sequential.Sequential at 0x78d49deb2560>"
            ]
          },
          "metadata": {},
          "execution_count": 81
        }
      ]
    },
    {
      "cell_type": "code",
      "source": [
        "model.summary()"
      ],
      "metadata": {
        "colab": {
          "base_uri": "https://localhost:8080/"
        },
        "id": "TvceVfcDRb41",
        "outputId": "10ab5d22-e726-486d-b816-edc6f55e83f1"
      },
      "execution_count": null,
      "outputs": [
        {
          "output_type": "stream",
          "name": "stdout",
          "text": [
            "Model: \"sequential\"\n",
            "_________________________________________________________________\n",
            " Layer (type)                Output Shape              Param #   \n",
            "=================================================================\n",
            " dense (Dense)               (None, 16)                48        \n",
            "                                                                 \n",
            " dense_1 (Dense)             (None, 32)                544       \n",
            "                                                                 \n",
            " dense_2 (Dense)             (None, 2)                 66        \n",
            "                                                                 \n",
            "=================================================================\n",
            "Total params: 658\n",
            "Trainable params: 658\n",
            "Non-trainable params: 0\n",
            "_________________________________________________________________\n"
          ]
        }
      ]
    },
    {
      "cell_type": "markdown",
      "source": [
        "#Getting Model Ready To Fit"
      ],
      "metadata": {
        "id": "RpsbQfbFULcJ"
      }
    },
    {
      "cell_type": "markdown",
      "source": [
        "##model.compile(optimizer= (learning_rate= ), loss=' ', metrics=['accuracy'])"
      ],
      "metadata": {
        "id": "WRzsswSGUq2d"
      }
    },
    {
      "cell_type": "code",
      "source": [
        "model.compile(optimizer='adam',\n",
        "              loss='mse',\n",
        "              metrics=['accuracy'])"
      ],
      "metadata": {
        "id": "C6bAmx_tRdWD"
      },
      "execution_count": null,
      "outputs": []
    },
    {
      "cell_type": "markdown",
      "source": [
        "#Fitting The Model"
      ],
      "metadata": {
        "id": "hyEnuqE_Va7L"
      }
    },
    {
      "cell_type": "markdown",
      "source": [
        "###model.fit(x= , y= , batch_size= , epochs= ,validation_split= , shuffle= , verbose= )"
      ],
      "metadata": {
        "id": "VvN4Vdb7Voiz"
      }
    },
    {
      "cell_type": "code",
      "source": [
        "model.fit(x=X_train,\n",
        "          y=y_train,\n",
        "          # batch_size=300,\n",
        "          # validation_split=0.2,\n",
        "          epochs=250,\n",
        "          #shuffle=True,\n",
        "          verbose=2)"
      ],
      "metadata": {
        "id": "J1XSjj0wVb88",
        "colab": {
          "base_uri": "https://localhost:8080/"
        },
        "outputId": "4c45b9a3-296c-4fa8-df85-d426f2be643c"
      },
      "execution_count": null,
      "outputs": [
        {
          "output_type": "stream",
          "name": "stdout",
          "text": [
            "Epoch 1/100\n",
            "14/14 - 0s - loss: 0.0257 - accuracy: 0.0000e+00 - 18ms/epoch - 1ms/step\n",
            "Epoch 2/100\n",
            "14/14 - 0s - loss: 0.0258 - accuracy: 0.0000e+00 - 17ms/epoch - 1ms/step\n",
            "Epoch 3/100\n",
            "14/14 - 0s - loss: 0.0258 - accuracy: 0.0000e+00 - 16ms/epoch - 1ms/step\n",
            "Epoch 4/100\n",
            "14/14 - 0s - loss: 0.0257 - accuracy: 0.0000e+00 - 15ms/epoch - 1ms/step\n",
            "Epoch 5/100\n",
            "14/14 - 0s - loss: 0.0258 - accuracy: 0.0000e+00 - 17ms/epoch - 1ms/step\n",
            "Epoch 6/100\n",
            "14/14 - 0s - loss: 0.0258 - accuracy: 0.0000e+00 - 19ms/epoch - 1ms/step\n",
            "Epoch 7/100\n",
            "14/14 - 0s - loss: 0.0258 - accuracy: 0.0000e+00 - 18ms/epoch - 1ms/step\n",
            "Epoch 8/100\n",
            "14/14 - 0s - loss: 0.0258 - accuracy: 0.0000e+00 - 19ms/epoch - 1ms/step\n",
            "Epoch 9/100\n",
            "14/14 - 0s - loss: 0.0258 - accuracy: 0.0000e+00 - 19ms/epoch - 1ms/step\n",
            "Epoch 10/100\n",
            "14/14 - 0s - loss: 0.0257 - accuracy: 0.0000e+00 - 18ms/epoch - 1ms/step\n",
            "Epoch 11/100\n",
            "14/14 - 0s - loss: 0.0258 - accuracy: 0.0000e+00 - 23ms/epoch - 2ms/step\n",
            "Epoch 12/100\n",
            "14/14 - 0s - loss: 0.0258 - accuracy: 0.0000e+00 - 17ms/epoch - 1ms/step\n",
            "Epoch 13/100\n",
            "14/14 - 0s - loss: 0.0259 - accuracy: 0.0000e+00 - 17ms/epoch - 1ms/step\n",
            "Epoch 14/100\n",
            "14/14 - 0s - loss: 0.0258 - accuracy: 0.0000e+00 - 16ms/epoch - 1ms/step\n",
            "Epoch 15/100\n",
            "14/14 - 0s - loss: 0.0257 - accuracy: 0.0000e+00 - 19ms/epoch - 1ms/step\n",
            "Epoch 16/100\n",
            "14/14 - 0s - loss: 0.0258 - accuracy: 0.0000e+00 - 18ms/epoch - 1ms/step\n",
            "Epoch 17/100\n",
            "14/14 - 0s - loss: 0.0258 - accuracy: 0.0000e+00 - 20ms/epoch - 1ms/step\n",
            "Epoch 18/100\n",
            "14/14 - 0s - loss: 0.0258 - accuracy: 0.0000e+00 - 19ms/epoch - 1ms/step\n",
            "Epoch 19/100\n",
            "14/14 - 0s - loss: 0.0257 - accuracy: 0.0000e+00 - 16ms/epoch - 1ms/step\n",
            "Epoch 20/100\n",
            "14/14 - 0s - loss: 0.0258 - accuracy: 0.0000e+00 - 19ms/epoch - 1ms/step\n",
            "Epoch 21/100\n",
            "14/14 - 0s - loss: 0.0258 - accuracy: 0.0000e+00 - 17ms/epoch - 1ms/step\n",
            "Epoch 22/100\n",
            "14/14 - 0s - loss: 0.0259 - accuracy: 0.0000e+00 - 27ms/epoch - 2ms/step\n",
            "Epoch 23/100\n",
            "14/14 - 0s - loss: 0.0258 - accuracy: 0.0000e+00 - 20ms/epoch - 1ms/step\n",
            "Epoch 24/100\n",
            "14/14 - 0s - loss: 0.0257 - accuracy: 0.0000e+00 - 18ms/epoch - 1ms/step\n",
            "Epoch 25/100\n",
            "14/14 - 0s - loss: 0.0257 - accuracy: 0.0000e+00 - 18ms/epoch - 1ms/step\n",
            "Epoch 26/100\n",
            "14/14 - 0s - loss: 0.0257 - accuracy: 0.0000e+00 - 23ms/epoch - 2ms/step\n",
            "Epoch 27/100\n",
            "14/14 - 0s - loss: 0.0257 - accuracy: 0.0000e+00 - 24ms/epoch - 2ms/step\n",
            "Epoch 28/100\n",
            "14/14 - 0s - loss: 0.0258 - accuracy: 0.0000e+00 - 22ms/epoch - 2ms/step\n",
            "Epoch 29/100\n",
            "14/14 - 0s - loss: 0.0257 - accuracy: 0.0000e+00 - 20ms/epoch - 1ms/step\n",
            "Epoch 30/100\n",
            "14/14 - 0s - loss: 0.0258 - accuracy: 0.0000e+00 - 17ms/epoch - 1ms/step\n",
            "Epoch 31/100\n",
            "14/14 - 0s - loss: 0.0257 - accuracy: 0.0000e+00 - 22ms/epoch - 2ms/step\n",
            "Epoch 32/100\n",
            "14/14 - 0s - loss: 0.0257 - accuracy: 0.0000e+00 - 18ms/epoch - 1ms/step\n",
            "Epoch 33/100\n",
            "14/14 - 0s - loss: 0.0258 - accuracy: 0.0000e+00 - 18ms/epoch - 1ms/step\n",
            "Epoch 34/100\n",
            "14/14 - 0s - loss: 0.0258 - accuracy: 0.0000e+00 - 20ms/epoch - 1ms/step\n",
            "Epoch 35/100\n",
            "14/14 - 0s - loss: 0.0257 - accuracy: 0.0000e+00 - 17ms/epoch - 1ms/step\n",
            "Epoch 36/100\n",
            "14/14 - 0s - loss: 0.0258 - accuracy: 0.0000e+00 - 17ms/epoch - 1ms/step\n",
            "Epoch 37/100\n",
            "14/14 - 0s - loss: 0.0257 - accuracy: 0.0000e+00 - 17ms/epoch - 1ms/step\n",
            "Epoch 38/100\n",
            "14/14 - 0s - loss: 0.0258 - accuracy: 0.0000e+00 - 17ms/epoch - 1ms/step\n",
            "Epoch 39/100\n",
            "14/14 - 0s - loss: 0.0259 - accuracy: 0.0000e+00 - 18ms/epoch - 1ms/step\n",
            "Epoch 40/100\n",
            "14/14 - 0s - loss: 0.0258 - accuracy: 0.0000e+00 - 17ms/epoch - 1ms/step\n",
            "Epoch 41/100\n",
            "14/14 - 0s - loss: 0.0257 - accuracy: 0.0000e+00 - 17ms/epoch - 1ms/step\n",
            "Epoch 42/100\n",
            "14/14 - 0s - loss: 0.0258 - accuracy: 0.0000e+00 - 17ms/epoch - 1ms/step\n",
            "Epoch 43/100\n",
            "14/14 - 0s - loss: 0.0258 - accuracy: 0.0000e+00 - 17ms/epoch - 1ms/step\n",
            "Epoch 44/100\n",
            "14/14 - 0s - loss: 0.0258 - accuracy: 0.0000e+00 - 22ms/epoch - 2ms/step\n",
            "Epoch 45/100\n",
            "14/14 - 0s - loss: 0.0258 - accuracy: 0.0000e+00 - 17ms/epoch - 1ms/step\n",
            "Epoch 46/100\n",
            "14/14 - 0s - loss: 0.0257 - accuracy: 0.0000e+00 - 16ms/epoch - 1ms/step\n",
            "Epoch 47/100\n",
            "14/14 - 0s - loss: 0.0258 - accuracy: 0.0000e+00 - 17ms/epoch - 1ms/step\n",
            "Epoch 48/100\n",
            "14/14 - 0s - loss: 0.0257 - accuracy: 0.0000e+00 - 24ms/epoch - 2ms/step\n",
            "Epoch 49/100\n",
            "14/14 - 0s - loss: 0.0258 - accuracy: 0.0000e+00 - 17ms/epoch - 1ms/step\n",
            "Epoch 50/100\n",
            "14/14 - 0s - loss: 0.0257 - accuracy: 0.0000e+00 - 21ms/epoch - 1ms/step\n",
            "Epoch 51/100\n",
            "14/14 - 0s - loss: 0.0258 - accuracy: 0.0000e+00 - 23ms/epoch - 2ms/step\n",
            "Epoch 52/100\n",
            "14/14 - 0s - loss: 0.0259 - accuracy: 0.0000e+00 - 18ms/epoch - 1ms/step\n",
            "Epoch 53/100\n",
            "14/14 - 0s - loss: 0.0258 - accuracy: 0.0000e+00 - 17ms/epoch - 1ms/step\n",
            "Epoch 54/100\n",
            "14/14 - 0s - loss: 0.0257 - accuracy: 0.0000e+00 - 22ms/epoch - 2ms/step\n",
            "Epoch 55/100\n",
            "14/14 - 0s - loss: 0.0258 - accuracy: 0.0000e+00 - 23ms/epoch - 2ms/step\n",
            "Epoch 56/100\n",
            "14/14 - 0s - loss: 0.0259 - accuracy: 0.0000e+00 - 19ms/epoch - 1ms/step\n",
            "Epoch 57/100\n",
            "14/14 - 0s - loss: 0.0258 - accuracy: 0.0000e+00 - 23ms/epoch - 2ms/step\n",
            "Epoch 58/100\n",
            "14/14 - 0s - loss: 0.0257 - accuracy: 0.0000e+00 - 20ms/epoch - 1ms/step\n",
            "Epoch 59/100\n",
            "14/14 - 0s - loss: 0.0260 - accuracy: 0.0000e+00 - 22ms/epoch - 2ms/step\n",
            "Epoch 60/100\n",
            "14/14 - 0s - loss: 0.0258 - accuracy: 0.0000e+00 - 24ms/epoch - 2ms/step\n",
            "Epoch 61/100\n",
            "14/14 - 0s - loss: 0.0257 - accuracy: 0.0000e+00 - 21ms/epoch - 2ms/step\n",
            "Epoch 62/100\n",
            "14/14 - 0s - loss: 0.0257 - accuracy: 0.0000e+00 - 18ms/epoch - 1ms/step\n",
            "Epoch 63/100\n",
            "14/14 - 0s - loss: 0.0258 - accuracy: 0.0000e+00 - 21ms/epoch - 2ms/step\n",
            "Epoch 64/100\n",
            "14/14 - 0s - loss: 0.0258 - accuracy: 0.0000e+00 - 18ms/epoch - 1ms/step\n",
            "Epoch 65/100\n",
            "14/14 - 0s - loss: 0.0257 - accuracy: 0.0000e+00 - 19ms/epoch - 1ms/step\n",
            "Epoch 66/100\n",
            "14/14 - 0s - loss: 0.0257 - accuracy: 0.0000e+00 - 18ms/epoch - 1ms/step\n",
            "Epoch 67/100\n",
            "14/14 - 0s - loss: 0.0259 - accuracy: 0.0000e+00 - 32ms/epoch - 2ms/step\n",
            "Epoch 68/100\n",
            "14/14 - 0s - loss: 0.0257 - accuracy: 0.0000e+00 - 18ms/epoch - 1ms/step\n",
            "Epoch 69/100\n",
            "14/14 - 0s - loss: 0.0258 - accuracy: 0.0000e+00 - 17ms/epoch - 1ms/step\n",
            "Epoch 70/100\n",
            "14/14 - 0s - loss: 0.0258 - accuracy: 0.0000e+00 - 18ms/epoch - 1ms/step\n",
            "Epoch 71/100\n",
            "14/14 - 0s - loss: 0.0256 - accuracy: 0.0000e+00 - 23ms/epoch - 2ms/step\n",
            "Epoch 72/100\n",
            "14/14 - 0s - loss: 0.0257 - accuracy: 0.0000e+00 - 22ms/epoch - 2ms/step\n",
            "Epoch 73/100\n",
            "14/14 - 0s - loss: 0.0258 - accuracy: 0.0000e+00 - 17ms/epoch - 1ms/step\n",
            "Epoch 74/100\n",
            "14/14 - 0s - loss: 0.0258 - accuracy: 0.0000e+00 - 20ms/epoch - 1ms/step\n",
            "Epoch 75/100\n",
            "14/14 - 0s - loss: 0.0257 - accuracy: 0.0000e+00 - 18ms/epoch - 1ms/step\n",
            "Epoch 76/100\n",
            "14/14 - 0s - loss: 0.0257 - accuracy: 0.0000e+00 - 23ms/epoch - 2ms/step\n",
            "Epoch 77/100\n",
            "14/14 - 0s - loss: 0.0257 - accuracy: 0.0000e+00 - 20ms/epoch - 1ms/step\n",
            "Epoch 78/100\n",
            "14/14 - 0s - loss: 0.0258 - accuracy: 0.0000e+00 - 21ms/epoch - 1ms/step\n",
            "Epoch 79/100\n",
            "14/14 - 0s - loss: 0.0258 - accuracy: 0.0000e+00 - 18ms/epoch - 1ms/step\n",
            "Epoch 80/100\n",
            "14/14 - 0s - loss: 0.0258 - accuracy: 0.0000e+00 - 20ms/epoch - 1ms/step\n",
            "Epoch 81/100\n",
            "14/14 - 0s - loss: 0.0257 - accuracy: 0.0000e+00 - 17ms/epoch - 1ms/step\n",
            "Epoch 82/100\n",
            "14/14 - 0s - loss: 0.0257 - accuracy: 0.0000e+00 - 17ms/epoch - 1ms/step\n",
            "Epoch 83/100\n",
            "14/14 - 0s - loss: 0.0260 - accuracy: 0.0000e+00 - 18ms/epoch - 1ms/step\n",
            "Epoch 84/100\n",
            "14/14 - 0s - loss: 0.0259 - accuracy: 0.0000e+00 - 16ms/epoch - 1ms/step\n",
            "Epoch 85/100\n",
            "14/14 - 0s - loss: 0.0258 - accuracy: 0.0000e+00 - 19ms/epoch - 1ms/step\n",
            "Epoch 86/100\n",
            "14/14 - 0s - loss: 0.0257 - accuracy: 0.0000e+00 - 17ms/epoch - 1ms/step\n",
            "Epoch 87/100\n",
            "14/14 - 0s - loss: 0.0258 - accuracy: 0.0000e+00 - 17ms/epoch - 1ms/step\n",
            "Epoch 88/100\n",
            "14/14 - 0s - loss: 0.0257 - accuracy: 0.0000e+00 - 17ms/epoch - 1ms/step\n",
            "Epoch 89/100\n",
            "14/14 - 0s - loss: 0.0259 - accuracy: 0.0000e+00 - 19ms/epoch - 1ms/step\n",
            "Epoch 90/100\n",
            "14/14 - 0s - loss: 0.0257 - accuracy: 0.0000e+00 - 25ms/epoch - 2ms/step\n",
            "Epoch 91/100\n",
            "14/14 - 0s - loss: 0.0257 - accuracy: 0.0000e+00 - 18ms/epoch - 1ms/step\n",
            "Epoch 92/100\n",
            "14/14 - 0s - loss: 0.0258 - accuracy: 0.0000e+00 - 17ms/epoch - 1ms/step\n",
            "Epoch 93/100\n",
            "14/14 - 0s - loss: 0.0257 - accuracy: 0.0000e+00 - 19ms/epoch - 1ms/step\n",
            "Epoch 94/100\n",
            "14/14 - 0s - loss: 0.0257 - accuracy: 0.0000e+00 - 19ms/epoch - 1ms/step\n",
            "Epoch 95/100\n",
            "14/14 - 0s - loss: 0.0257 - accuracy: 0.0000e+00 - 17ms/epoch - 1ms/step\n",
            "Epoch 96/100\n",
            "14/14 - 0s - loss: 0.0258 - accuracy: 0.0000e+00 - 16ms/epoch - 1ms/step\n",
            "Epoch 97/100\n",
            "14/14 - 0s - loss: 0.0258 - accuracy: 0.0000e+00 - 18ms/epoch - 1ms/step\n",
            "Epoch 98/100\n",
            "14/14 - 0s - loss: 0.0257 - accuracy: 0.0000e+00 - 18ms/epoch - 1ms/step\n",
            "Epoch 99/100\n",
            "14/14 - 0s - loss: 0.0258 - accuracy: 0.0000e+00 - 18ms/epoch - 1ms/step\n",
            "Epoch 100/100\n",
            "14/14 - 0s - loss: 0.0257 - accuracy: 0.0000e+00 - 18ms/epoch - 1ms/step\n"
          ]
        },
        {
          "output_type": "execute_result",
          "data": {
            "text/plain": [
              "<keras.callbacks.History at 0x78d4943825f0>"
            ]
          },
          "metadata": {},
          "execution_count": 96
        }
      ]
    },
    {
      "cell_type": "code",
      "source": [
        "pd.DataFrame(model.history.history).plot()"
      ],
      "metadata": {
        "id": "82MJ22y1nGrz"
      },
      "execution_count": null,
      "outputs": []
    },
    {
      "cell_type": "markdown",
      "source": [
        "# predict"
      ],
      "metadata": {
        "id": "ZBkaX95eiK5b"
      }
    },
    {
      "cell_type": "code",
      "source": [
        "predictions = model.predict(x=scaled_X_test, batch_size=100, verbose=2)"
      ],
      "metadata": {
        "id": "hj1H2OPfX1uo",
        "colab": {
          "base_uri": "https://localhost:8080/"
        },
        "outputId": "2312f6a5-fc0c-461b-d274-076e0c162ff6"
      },
      "execution_count": null,
      "outputs": [
        {
          "output_type": "stream",
          "name": "stdout",
          "text": [
            "1/1 - 0s - 79ms/epoch - 79ms/step\n"
          ]
        }
      ]
    },
    {
      "cell_type": "code",
      "source": [
        "predictions"
      ],
      "metadata": {
        "id": "QgA2sXsBPjNc"
      },
      "execution_count": null,
      "outputs": []
    },
    {
      "cell_type": "code",
      "source": [
        "predictions.shape"
      ],
      "metadata": {
        "colab": {
          "base_uri": "https://localhost:8080/"
        },
        "id": "0CDidCqVjQHN",
        "outputId": "4e0b5ec8-bd82-44df-e657-783f2fc8c89d"
      },
      "execution_count": null,
      "outputs": [
        {
          "output_type": "execute_result",
          "data": {
            "text/plain": [
              "(48, 2)"
            ]
          },
          "metadata": {},
          "execution_count": 90
        }
      ]
    },
    {
      "cell_type": "code",
      "source": [
        "y_test.shape"
      ],
      "metadata": {
        "colab": {
          "base_uri": "https://localhost:8080/"
        },
        "id": "Dlly78A_GXIS",
        "outputId": "384beb95-6d85-41c4-bf66-b53cd9a83d33"
      },
      "execution_count": null,
      "outputs": [
        {
          "output_type": "execute_result",
          "data": {
            "text/plain": [
              "(48,)"
            ]
          },
          "metadata": {},
          "execution_count": 95
        }
      ]
    },
    {
      "cell_type": "markdown",
      "source": [
        "#evaluate"
      ],
      "metadata": {
        "id": "Du0pC0lSiG7Z"
      }
    },
    {
      "cell_type": "code",
      "source": [
        "model.evaluate(predictions, y_test)"
      ],
      "metadata": {
        "id": "MNpe7YE9iP2k",
        "colab": {
          "base_uri": "https://localhost:8080/"
        },
        "outputId": "f1cfa5de-e493-4a23-92a6-c9aa9b2ede43"
      },
      "execution_count": null,
      "outputs": [
        {
          "output_type": "stream",
          "name": "stdout",
          "text": [
            "2/2 [==============================] - 0s 5ms/step - loss: 1.8732e-04 - accuracy: 0.0000e+00\n"
          ]
        },
        {
          "output_type": "execute_result",
          "data": {
            "text/plain": [
              "[0.00018732233729679137, 0.0]"
            ]
          },
          "metadata": {},
          "execution_count": 91
        }
      ]
    },
    {
      "cell_type": "code",
      "source": [
        " # evaluate the result on the training and test data\n",
        "    result = percentError( trainer.testOnClassData())\n",
        "    #,trndata['class']"
      ],
      "metadata": {
        "id": "4xMKDf1Sodk_"
      },
      "execution_count": null,
      "outputs": []
    },
    {
      "cell_type": "code",
      "source": [
        "import numpy as np\n",
        "from sklearn.metrics import mean_absolute_error , mean_squared_error\n",
        " rmse = np.sqrt(mean_squared_error(y_test.values, predictions))"
      ],
      "metadata": {
        "id": "jJHPw2bNpbuF"
      },
      "execution_count": null,
      "outputs": []
    },
    {
      "cell_type": "code",
      "source": [
        "mean_absolute_error(y_test.values, predictions)"
      ],
      "metadata": {
        "id": "x2pKLO4cs_4W"
      },
      "execution_count": null,
      "outputs": []
    },
    {
      "cell_type": "code",
      "source": [
        "mean_squared_error(y_test.values, predictions, squared =False)"
      ],
      "metadata": {
        "id": "erSMzKGVs_tD"
      },
      "execution_count": null,
      "outputs": []
    },
    {
      "cell_type": "code",
      "source": [
        "r2_score(y_test.values, predictions)"
      ],
      "metadata": {
        "id": "R5wCFZlwtb4O"
      },
      "execution_count": null,
      "outputs": []
    },
    {
      "cell_type": "code",
      "source": [
        "accuracy_score(y_test, predictions.round(), normalize=False)"
      ],
      "metadata": {
        "id": "Aiuq1WMXpsRM"
      },
      "execution_count": null,
      "outputs": []
    }
  ]
}